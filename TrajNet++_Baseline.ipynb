{
  "nbformat": 4,
  "nbformat_minor": 0,
  "metadata": {
    "colab": {
      "name": "TrajNet++.ipynb",
      "provenance": [],
      "authorship_tag": "ABX9TyMW+Ml5RaJsJFPU404Ha+IJ",
      "include_colab_link": true
    },
    "kernelspec": {
      "name": "python3",
      "display_name": "Python 3"
    }
  },
  "cells": [
    {
      "cell_type": "markdown",
      "metadata": {
        "id": "view-in-github",
        "colab_type": "text"
      },
      "source": [
        "<a href=\"https://colab.research.google.com/github/LaughBuddha/TrajNetplusplus/blob/master/TrajNet%2B%2B_Baseline.ipynb\" target=\"_parent\"><img src=\"https://colab.research.google.com/assets/colab-badge.svg\" alt=\"Open In Colab\"/></a>"
      ]
    },
    {
      "cell_type": "markdown",
      "metadata": {
        "id": "EVxttMdBPKL7",
        "colab_type": "text"
      },
      "source": [
        "# **Clone the dataset and baseline repos**"
      ]
    },
    {
      "cell_type": "code",
      "metadata": {
        "id": "uJZVW3lEAg_o",
        "colab_type": "code",
        "colab": {
          "base_uri": "https://localhost:8080/",
          "height": 255
        },
        "outputId": "2bf4bf70-d7d4-410c-eee6-6d7d9a5c9ca7"
      },
      "source": [
        "!git clone https://github.com/vita-epfl/trajnetplusplusdataset.git\n",
        "!git clone https://github.com/vita-epfl/trajnetplusplusbaselines.git"
      ],
      "execution_count": 8,
      "outputs": [
        {
          "output_type": "stream",
          "text": [
            "Cloning into 'trajnetplusplusdataset'...\n",
            "remote: Enumerating objects: 370, done.\u001b[K\n",
            "remote: Counting objects: 100% (370/370), done.\u001b[K\n",
            "remote: Compressing objects: 100% (167/167), done.\u001b[K\n",
            "remote: Total 370 (delta 218), reused 345 (delta 198), pack-reused 0\u001b[K\n",
            "Receiving objects: 100% (370/370), 4.24 MiB | 3.44 MiB/s, done.\n",
            "Resolving deltas: 100% (218/218), done.\n",
            "Cloning into 'trajnetplusplusbaselines'...\n",
            "remote: Enumerating objects: 946, done.\u001b[K\n",
            "remote: Counting objects: 100% (946/946), done.\u001b[K\n",
            "remote: Compressing objects: 100% (324/324), done.\u001b[K\n",
            "remote: Total 946 (delta 650), reused 897 (delta 610), pack-reused 0\u001b[K\n",
            "Receiving objects: 100% (946/946), 2.06 MiB | 2.13 MiB/s, done.\n",
            "Resolving deltas: 100% (650/650), done.\n"
          ],
          "name": "stdout"
        }
      ]
    },
    {
      "cell_type": "markdown",
      "metadata": {
        "id": "Qx4pzuacPRLu",
        "colab_type": "text"
      },
      "source": [
        "# **Mount Google Drive**"
      ]
    },
    {
      "cell_type": "code",
      "metadata": {
        "id": "Yz3mSWDk__jX",
        "colab_type": "code",
        "colab": {
          "base_uri": "https://localhost:8080/",
          "height": 122
        },
        "outputId": "4d2d60c7-9595-4b84-e4fb-843b97c4f9b6"
      },
      "source": [
        "from google.colab import drive\n",
        "drive.mount('/content/drive')"
      ],
      "execution_count": 1,
      "outputs": [
        {
          "output_type": "stream",
          "text": [
            "Go to this URL in a browser: https://accounts.google.com/o/oauth2/auth?client_id=947318989803-6bn6qk8qdgf4n4g3pfee6491hc0brc4i.apps.googleusercontent.com&redirect_uri=urn%3aietf%3awg%3aoauth%3a2.0%3aoob&response_type=code&scope=email%20https%3a%2f%2fwww.googleapis.com%2fauth%2fdocs.test%20https%3a%2f%2fwww.googleapis.com%2fauth%2fdrive%20https%3a%2f%2fwww.googleapis.com%2fauth%2fdrive.photos.readonly%20https%3a%2f%2fwww.googleapis.com%2fauth%2fpeopleapi.readonly\n",
            "\n",
            "Enter your authorization code:\n",
            "··········\n",
            "Mounted at /content/drive\n"
          ],
          "name": "stdout"
        }
      ]
    },
    {
      "cell_type": "markdown",
      "metadata": {
        "id": "0uIiMQxUPUtY",
        "colab_type": "text"
      },
      "source": [
        "# **Go to 'Trajnet++' folder**"
      ]
    },
    {
      "cell_type": "code",
      "metadata": {
        "id": "wWhujxizAA1v",
        "colab_type": "code",
        "colab": {}
      },
      "source": [
        "import os\n",
        "os.chdir('/content/drive/My Drive/trajnet++')"
      ],
      "execution_count": 0,
      "outputs": []
    },
    {
      "cell_type": "markdown",
      "metadata": {
        "id": "C35PTHLkN985",
        "colab_type": "text"
      },
      "source": [
        "# **Set Baselines folder**"
      ]
    },
    {
      "cell_type": "code",
      "metadata": {
        "id": "--kDoZZEBPhM",
        "colab_type": "code",
        "colab": {}
      },
      "source": [
        "os.chdir('trajnetplusplusbaselines')\n",
        "!pip install -e ."
      ],
      "execution_count": 0,
      "outputs": []
    },
    {
      "cell_type": "markdown",
      "metadata": {
        "id": "3Dk-3alBOPKV",
        "colab_type": "text"
      },
      "source": [
        "# **Set Datasets folder**"
      ]
    },
    {
      "cell_type": "code",
      "metadata": {
        "id": "d2s8YlzzNvb1",
        "colab_type": "code",
        "colab": {}
      },
      "source": [
        "os.chdir('/content/drive/My Drive/trajnet++/trajnetplusplusdataset')\n",
        "!pip install -e ."
      ],
      "execution_count": 0,
      "outputs": []
    },
    {
      "cell_type": "code",
      "metadata": {
        "id": "qPkvxhLLNxRQ",
        "colab_type": "code",
        "colab": {}
      },
      "source": [
        "pip install -e '.[test, plot]'"
      ],
      "execution_count": 0,
      "outputs": []
    },
    {
      "cell_type": "markdown",
      "metadata": {
        "id": "JB_g5ymuPeqF",
        "colab_type": "text"
      },
      "source": [
        "# **Dataset Preparation**\n",
        "\n",
        "Create the dataset splits to train and test prediction models."
      ]
    },
    {
      "cell_type": "code",
      "metadata": {
        "id": "USpvZYDdN8s3",
        "colab_type": "code",
        "colab": {}
      },
      "source": [
        "!wget https://github.com/sybrenstuvel/Python-RVO2/archive/master.zip\n",
        "!unzip master.zip\n",
        "!rm master.zip"
      ],
      "execution_count": 0,
      "outputs": []
    },
    {
      "cell_type": "code",
      "metadata": {
        "id": "844xD87lOqjy",
        "colab_type": "code",
        "colab": {}
      },
      "source": [
        "os.chdir('/content/drive/My Drive/trajnet++/trajnetplusplusdataset/Python-RVO2-master')"
      ],
      "execution_count": 0,
      "outputs": []
    },
    {
      "cell_type": "code",
      "metadata": {
        "id": "ppTRLu1QRiTw",
        "colab_type": "code",
        "colab": {
          "base_uri": "https://localhost:8080/",
          "height": 34
        },
        "outputId": "cae6706c-9828-4030-8cf2-52f2bb5a6f2c"
      },
      "source": [
        "!pip install cython"
      ],
      "execution_count": 16,
      "outputs": [
        {
          "output_type": "stream",
          "text": [
            "Requirement already satisfied: cython in /usr/local/lib/python3.6/dist-packages (0.29.19)\n"
          ],
          "name": "stdout"
        }
      ]
    },
    {
      "cell_type": "code",
      "metadata": {
        "id": "GRBN08UaRk7I",
        "colab_type": "code",
        "colab": {
          "base_uri": "https://localhost:8080/",
          "height": 853
        },
        "outputId": "593dcbdd-de62-41d5-c3d2-d1e2a6a440cb"
      },
      "source": [
        "!python setup.py build"
      ],
      "execution_count": 17,
      "outputs": [
        {
          "output_type": "stream",
          "text": [
            "Compiling src/rvo2.pyx because it changed.\n",
            "[1/1] Cythonizing src/rvo2.pyx\n",
            "/usr/local/lib/python3.6/dist-packages/Cython/Compiler/Main.py:369: FutureWarning: Cython directive 'language_level' not set, using 2 for now (Py2). This will change in a later release! File: /content/drive/My Drive/trajnet++/trajnetplusplusdataset/Python-RVO2-master/src/rvo2.pyx\n",
            "  tree = Parsing.p_module(s, pxd, full_module_name)\n",
            "running build\n",
            "running build_ext\n",
            "-- The C compiler identification is GNU 7.5.0\n",
            "-- The CXX compiler identification is GNU 7.5.0\n",
            "-- Check for working C compiler: /usr/bin/cc\n",
            "-- Check for working C compiler: /usr/bin/cc -- works\n",
            "-- Detecting C compiler ABI info\n",
            "-- Detecting C compiler ABI info - done\n",
            "-- Detecting C compile features\n",
            "-- Detecting C compile features - done\n",
            "-- Check for working CXX compiler: /usr/bin/c++\n",
            "-- Check for working CXX compiler: /usr/bin/c++ -- works\n",
            "-- Detecting CXX compiler ABI info\n",
            "-- Detecting CXX compiler ABI info - done\n",
            "-- Detecting CXX compile features\n",
            "-- Detecting CXX compile features - done\n",
            "-- Configuring done\n",
            "-- Generating done\n",
            "-- Build files have been written to: /content/drive/My Drive/trajnet++/trajnetplusplusdataset/Python-RVO2-master/build/RVO2\n",
            "\u001b[35m\u001b[1mScanning dependencies of target RVO\u001b[0m\n",
            "[ -9%] \u001b[32mBuilding CXX object src/CMakeFiles/RVO.dir/Agent.cpp.o\u001b[0m\n",
            "[  0%] \u001b[32mBuilding CXX object src/CMakeFiles/RVO.dir/KdTree.cpp.o\u001b[0m\n",
            "[  9%] \u001b[32mBuilding CXX object src/CMakeFiles/RVO.dir/Obstacle.cpp.o\u001b[0m\n",
            "[ 18%] \u001b[32mBuilding CXX object src/CMakeFiles/RVO.dir/RVOSimulator.cpp.o\u001b[0m\n",
            "[ 27%] \u001b[32m\u001b[1mLinking CXX static library libRVO.a\u001b[0m\n",
            "[ 27%] Built target RVO\n",
            "\u001b[35m\u001b[1mScanning dependencies of target Circle\u001b[0m\n",
            "[ 36%] \u001b[32mBuilding CXX object examples/CMakeFiles/Circle.dir/Circle.cpp.o\u001b[0m\n",
            "[ 45%] \u001b[32m\u001b[1mLinking CXX executable Circle\u001b[0m\n",
            "[ 45%] Built target Circle\n",
            "\u001b[35m\u001b[1mScanning dependencies of target Roadmap\u001b[0m\n",
            "[ 54%] \u001b[32mBuilding CXX object examples/CMakeFiles/Roadmap.dir/Roadmap.cpp.o\u001b[0m\n",
            "[ 63%] \u001b[32m\u001b[1mLinking CXX executable Roadmap\u001b[0m\n",
            "[ 63%] Built target Roadmap\n",
            "\u001b[35m\u001b[1mScanning dependencies of target Blocks\u001b[0m\n",
            "[ 72%] \u001b[32mBuilding CXX object examples/CMakeFiles/Blocks.dir/Blocks.cpp.o\u001b[0m\n",
            "[ 81%] \u001b[32m\u001b[1mLinking CXX executable Blocks\u001b[0m\n",
            "[ 81%] Built target Blocks\n",
            "building 'rvo2' extension\n",
            "creating build/temp.linux-x86_64-3.6\n",
            "creating build/temp.linux-x86_64-3.6/src\n",
            "x86_64-linux-gnu-gcc -pthread -DNDEBUG -g -fwrapv -O2 -Wall -g -fstack-protector-strong -Wformat -Werror=format-security -Wdate-time -D_FORTIFY_SOURCE=2 -fPIC -Isrc -I/usr/include/python3.6m -c src/rvo2.cpp -o build/temp.linux-x86_64-3.6/src/rvo2.o -fPIC\n",
            "creating build/lib.linux-x86_64-3.6\n",
            "x86_64-linux-gnu-g++ -pthread -shared -Wl,-O1 -Wl,-Bsymbolic-functions -Wl,-Bsymbolic-functions -Wl,-z,relro -Wl,-Bsymbolic-functions -Wl,-z,relro -g -fstack-protector-strong -Wformat -Werror=format-security -Wdate-time -D_FORTIFY_SOURCE=2 build/temp.linux-x86_64-3.6/src/rvo2.o -Lbuild/RVO2/src -lRVO -o build/lib.linux-x86_64-3.6/rvo2.cpython-36m-x86_64-linux-gnu.so\n"
          ],
          "name": "stdout"
        }
      ]
    },
    {
      "cell_type": "code",
      "metadata": {
        "id": "S7BL7Ry1Rn6o",
        "colab_type": "code",
        "colab": {
          "base_uri": "https://localhost:8080/",
          "height": 714
        },
        "outputId": "ce139ca3-6efb-4dd8-a483-944e50d1ac6d"
      },
      "source": [
        "!python setup.py install"
      ],
      "execution_count": 19,
      "outputs": [
        {
          "output_type": "stream",
          "text": [
            "running install\n",
            "running bdist_egg\n",
            "running egg_info\n",
            "creating pyrvo2.egg-info\n",
            "writing pyrvo2.egg-info/PKG-INFO\n",
            "writing dependency_links to pyrvo2.egg-info/dependency_links.txt\n",
            "writing top-level names to pyrvo2.egg-info/top_level.txt\n",
            "writing manifest file 'pyrvo2.egg-info/SOURCES.txt'\n",
            "reading manifest file 'pyrvo2.egg-info/SOURCES.txt'\n",
            "writing manifest file 'pyrvo2.egg-info/SOURCES.txt'\n",
            "installing library code to build/bdist.linux-x86_64/egg\n",
            "running install_lib\n",
            "running build_ext\n",
            "[ 27%] Built target RVO\n",
            "[ 45%] Built target Circle\n",
            "[ 63%] Built target Roadmap\n",
            "[ 81%] Built target Blocks\n",
            "creating build/bdist.linux-x86_64\n",
            "creating build/bdist.linux-x86_64/egg\n",
            "copying build/lib.linux-x86_64-3.6/rvo2.cpython-36m-x86_64-linux-gnu.so -> build/bdist.linux-x86_64/egg\n",
            "creating stub loader for rvo2.cpython-36m-x86_64-linux-gnu.so\n",
            "byte-compiling build/bdist.linux-x86_64/egg/rvo2.py to rvo2.cpython-36.pyc\n",
            "creating build/bdist.linux-x86_64/egg/EGG-INFO\n",
            "copying pyrvo2.egg-info/PKG-INFO -> build/bdist.linux-x86_64/egg/EGG-INFO\n",
            "copying pyrvo2.egg-info/SOURCES.txt -> build/bdist.linux-x86_64/egg/EGG-INFO\n",
            "copying pyrvo2.egg-info/dependency_links.txt -> build/bdist.linux-x86_64/egg/EGG-INFO\n",
            "copying pyrvo2.egg-info/top_level.txt -> build/bdist.linux-x86_64/egg/EGG-INFO\n",
            "writing build/bdist.linux-x86_64/egg/EGG-INFO/native_libs.txt\n",
            "zip_safe flag not set; analyzing archive contents...\n",
            "__pycache__.rvo2.cpython-36: module references __file__\n",
            "creating dist\n",
            "creating 'dist/pyrvo2-0.0.0-py3.6-linux-x86_64.egg' and adding 'build/bdist.linux-x86_64/egg' to it\n",
            "removing 'build/bdist.linux-x86_64/egg' (and everything under it)\n",
            "Processing pyrvo2-0.0.0-py3.6-linux-x86_64.egg\n",
            "creating /usr/local/lib/python3.6/dist-packages/pyrvo2-0.0.0-py3.6-linux-x86_64.egg\n",
            "Extracting pyrvo2-0.0.0-py3.6-linux-x86_64.egg to /usr/local/lib/python3.6/dist-packages\n",
            "Adding pyrvo2 0.0.0 to easy-install.pth file\n",
            "\n",
            "Installed /usr/local/lib/python3.6/dist-packages/pyrvo2-0.0.0-py3.6-linux-x86_64.egg\n",
            "Processing dependencies for pyrvo2==0.0.0\n",
            "Finished processing dependencies for pyrvo2==0.0.0\n"
          ],
          "name": "stdout"
        }
      ]
    },
    {
      "cell_type": "markdown",
      "metadata": {
        "id": "XoQO2HliR6y2",
        "colab_type": "text"
      },
      "source": [
        "# **Download and setup Social Force Simulator**"
      ]
    },
    {
      "cell_type": "code",
      "metadata": {
        "id": "3g8eXDDKRy_B",
        "colab_type": "code",
        "colab": {}
      },
      "source": [
        "os.chdir('/content/drive/My Drive/trajnet++/trajnetplusplusdataset')"
      ],
      "execution_count": 0,
      "outputs": []
    },
    {
      "cell_type": "code",
      "metadata": {
        "id": "naaJMugUSCzv",
        "colab_type": "code",
        "colab": {}
      },
      "source": [
        "!wget https://github.com/svenkreiss/socialforce/archive/master.zip\n",
        "!unzip master.zip\n",
        "!rm master.zip"
      ],
      "execution_count": 0,
      "outputs": []
    },
    {
      "cell_type": "code",
      "metadata": {
        "id": "Hq5H20u3SXbg",
        "colab_type": "code",
        "colab": {}
      },
      "source": [
        "os.chdir('/content/drive/My Drive/trajnet++/trajnetplusplusdataset/socialforce-master')\n",
        "pip install -e ."
      ],
      "execution_count": 0,
      "outputs": []
    },
    {
      "cell_type": "markdown",
      "metadata": {
        "id": "MRS7NR-yTfz8",
        "colab_type": "text"
      },
      "source": [
        "# **Generate Controlled Data using the ORCA simulator**\n",
        "\n",
        "Generating 100 scenarios of 6 pedestrains in a circle_crossing (default) setting"
      ]
    },
    {
      "cell_type": "code",
      "metadata": {
        "id": "mJ9d-qx3Socd",
        "colab_type": "code",
        "colab": {}
      },
      "source": [
        "os.chdir('/content/drive/My Drive/trajnet++/trajnetplusplusdataset/data')\n",
        "!mkdir -p raw/controlled"
      ],
      "execution_count": 0,
      "outputs": []
    },
    {
      "cell_type": "code",
      "metadata": {
        "id": "Yj1Fi3_tTvpi",
        "colab_type": "code",
        "colab": {
          "base_uri": "https://localhost:8080/",
          "height": 204
        },
        "outputId": "bc818e23-d30b-4dc0-9230-b75987251ca7"
      },
      "source": [
        "os.chdir('/content/drive/My Drive/trajnet++/trajnetplusplusdataset')\n",
        "!python -m trajnetdataset.controlled_data --simulator 'orca' --num_ped 10 --num_scenes 100"
      ],
      "execution_count": 36,
      "outputs": [
        {
          "output_type": "stream",
          "text": [
            "data/raw/controlled/orca_circle_crossing_10ped_.txt\n",
            "9\n",
            "19\n",
            "29\n",
            "39\n",
            "49\n",
            "59\n",
            "69\n",
            "79\n",
            "89\n",
            "99\n"
          ],
          "name": "stdout"
        }
      ]
    },
    {
      "cell_type": "code",
      "metadata": {
        "id": "TPqS0PGFVAim",
        "colab_type": "code",
        "colab": {
          "base_uri": "https://localhost:8080/",
          "height": 255
        },
        "outputId": "ab13f5b7-1468-421f-f21f-be2205ee6ec4"
      },
      "source": [
        "!python -m trajnetdataset.controlled_data --help"
      ],
      "execution_count": 37,
      "outputs": [
        {
          "output_type": "stream",
          "text": [
            "usage: controlled_data.py [-h] [--simulator {orca,social_force}]\n",
            "                          [--simulation_scene {circle_crossing,square_crossing,circle_overfit,two_ped}]\n",
            "                          [--style STYLE] [--num_ped NUM_PED]\n",
            "                          [--num_scenes NUM_SCENES] [--test TEST]\n",
            "\n",
            "optional arguments:\n",
            "  -h, --help            show this help message and exit\n",
            "  --simulator {orca,social_force}\n",
            "  --simulation_scene {circle_crossing,square_crossing,circle_overfit,two_ped}\n",
            "  --style STYLE\n",
            "  --num_ped NUM_PED     Number of ped in scene\n",
            "  --num_scenes NUM_SCENES\n",
            "                        Number of scenes\n",
            "  --test TEST\n"
          ],
          "name": "stdout"
        }
      ]
    },
    {
      "cell_type": "markdown",
      "metadata": {
        "id": "fuL_yNFSXMPV",
        "colab_type": "text"
      },
      "source": [
        "# **Convert the generated ‘.txt’ file into the TrajNet++ data structure format**"
      ]
    },
    {
      "cell_type": "code",
      "metadata": {
        "id": "BIcRmA42W7sK",
        "colab_type": "code",
        "colab": {
          "base_uri": "https://localhost:8080/",
          "height": 408
        },
        "outputId": "dc601e71-76de-4a99-9a51-cc011c2214bd"
      },
      "source": [
        "!python -m trajnetdataset.convert --linear_threshold 0.3 --acceptance 0 0 1.0 0"
      ],
      "execution_count": 40,
      "outputs": [
        {
          "output_type": "stream",
          "text": [
            "processing data/raw/controlled/orca_circle_crossing_10ped_.txt\n",
            " Entering Writing \n",
            "Output File:  output_pre/test/orca_circle_crossing_10ped.ndjson\n",
            " Entering Categorizing \n",
            "All Three\n",
            "processing output_pre/train/orca_circle_crossing_10ped.ndjson\n",
            "Total Scenes:  2007\n",
            "Main Tags\n",
            "Type 1:  0 Type 2:  0 Type 3:  1723 Type 4:  0\n",
            "Sub Tags\n",
            "LF:  66 CA:  207 Group:  355 Others:  1127\n",
            "processing output_pre/val/orca_circle_crossing_10ped.ndjson\n",
            "Total Scenes:  688\n",
            "Main Tags\n",
            "Type 1:  0 Type 2:  0 Type 3:  621 Type 4:  0\n",
            "Sub Tags\n",
            "LF:  14 CA:  80 Group:  106 Others:  445\n",
            "processing output_pre/test_private/orca_circle_crossing_10ped.ndjson\n",
            "Total Scenes:  669\n",
            "Main Tags\n",
            "Type 1:  0 Type 2:  0 Type 3:  613 Type 4:  0\n",
            "Sub Tags\n",
            "LF:  14 CA:  89 Group:  118 Others:  399\n"
          ],
          "name": "stdout"
        }
      ]
    },
    {
      "cell_type": "markdown",
      "metadata": {
        "id": "Rey01VCfxiTT",
        "colab_type": "text"
      },
      "source": [
        "# **Dataset Stats**"
      ]
    },
    {
      "cell_type": "code",
      "metadata": {
        "id": "Xe5WbL2ExrHU",
        "colab_type": "code",
        "colab": {
          "base_uri": "https://localhost:8080/",
          "height": 34
        },
        "outputId": "09937258-5560-4262-c909-eb7e74a6d859"
      },
      "source": [
        "!pwd"
      ],
      "execution_count": 41,
      "outputs": [
        {
          "output_type": "stream",
          "text": [
            "/content/drive/My Drive/trajnet++/trajnetplusplusdataset\n"
          ],
          "name": "stdout"
        }
      ]
    },
    {
      "cell_type": "code",
      "metadata": {
        "id": "hIOq_Td_lkku",
        "colab_type": "code",
        "colab": {
          "base_uri": "https://localhost:8080/",
          "height": 136
        },
        "outputId": "2bdc916d-87dd-47b8-db3f-5383166bab7e"
      },
      "source": [
        "# obtain new dataset statistics\n",
        "!python -m trajnettools.dataset_stats output/train/*.ndjson"
      ],
      "execution_count": 44,
      "outputs": [
        {
          "output_type": "stream",
          "text": [
            "              output/train/orca_circle_crossing_10ped.ndjson\n",
            "Total Scenes\n",
            "1723\n",
            "Main Tags\n",
            "Type 1:  0 Type 2:  0 Type 3:  1723 Type 4:  0\n",
            "Sub Tags\n",
            "LF:  66 CA:  207 Group:  355 Others:  1127\n"
          ],
          "name": "stdout"
        }
      ]
    },
    {
      "cell_type": "code",
      "metadata": {
        "id": "DE9wuFCvx4rE",
        "colab_type": "code",
        "colab": {}
      },
      "source": [
        "# visualize sample scenes\n",
        "!python -m trajnettools.trajectories output/train/*.ndjson --random"
      ],
      "execution_count": 0,
      "outputs": []
    },
    {
      "cell_type": "code",
      "metadata": {
        "id": "8n_5EtIoyTrX",
        "colab_type": "code",
        "colab": {}
      },
      "source": [
        "# visualize interactions (Default: Collision Avoidance)\n",
        "!python -m trajnettools.visualize_type output/train/*.ndjson"
      ],
      "execution_count": 0,
      "outputs": []
    },
    {
      "cell_type": "markdown",
      "metadata": {
        "id": "mkyr9q83zUNq",
        "colab_type": "text"
      },
      "source": [
        "# **Move the converted data to the trajnetbaselines folder**"
      ]
    },
    {
      "cell_type": "code",
      "metadata": {
        "id": "SbYT0qSrykbF",
        "colab_type": "code",
        "colab": {}
      },
      "source": [
        "!mv output ../trajnetplusplusbaselines/DATA_BLOCK/synth_data"
      ],
      "execution_count": 0,
      "outputs": []
    },
    {
      "cell_type": "code",
      "metadata": {
        "id": "YhecKLWqzi6q",
        "colab_type": "code",
        "colab": {}
      },
      "source": [
        "os.chdir('/content/drive/My Drive/trajnet++/trajnetplusplusbaselines')"
      ],
      "execution_count": 0,
      "outputs": []
    },
    {
      "cell_type": "markdown",
      "metadata": {
        "id": "8ugbBy1mz1HR",
        "colab_type": "text"
      },
      "source": [
        "# **Training Models**"
      ]
    },
    {
      "cell_type": "code",
      "metadata": {
        "id": "WUAc6BDazyh8",
        "colab_type": "code",
        "colab": {}
      },
      "source": [
        "!python -m trajnetbaselines.lstm.trainer --path synth_data --epoch 5"
      ],
      "execution_count": 0,
      "outputs": []
    },
    {
      "cell_type": "markdown",
      "metadata": {
        "id": "3MiRcZIg1dvP",
        "colab_type": "text"
      },
      "source": [
        "# **Evaluating Models**"
      ]
    },
    {
      "cell_type": "code",
      "metadata": {
        "id": "PUvVi3NXz98K",
        "colab_type": "code",
        "colab": {
          "base_uri": "https://localhost:8080/",
          "height": 119
        },
        "outputId": "4f4107c9-7bc3-49d5-d690-9b178a028d68"
      },
      "source": [
        "!python -m evaluator.trajnet_evaluator --data synth_data --output OUTPUT_BLOCK/synth_data/vanilla.pkl.epoch5"
      ],
      "execution_count": 54,
      "outputs": [
        {
          "output_type": "stream",
          "text": [
            "processing orca_circle_crossing_10ped.ndjson\n",
            "Model Name:  vanilla.epoch5\n",
            "LSTM\n",
            "\n",
            "vanilla.epoch5\n",
            "\n"
          ],
          "name": "stdout"
        }
      ]
    },
    {
      "cell_type": "markdown",
      "metadata": {
        "id": "1EykxPh44ggb",
        "colab_type": "text"
      },
      "source": [
        "![results](https://doc-10-2o-docs.googleusercontent.com/docs/securesc/5frg0m047puf07cj58k23jsppbdquc73/l19sb0ogn0m769o87sejk054k8qeg7fn/1591190175000/02444475918307263250/01168628881383650119/1R1CTVYWondDt9nDuS3yAWK3QSpbnwBjF?authuser=0)"
      ]
    },
    {
      "cell_type": "code",
      "metadata": {
        "id": "TVX-IAcS3zkh",
        "colab_type": "code",
        "colab": {}
      },
      "source": [
        ""
      ],
      "execution_count": 0,
      "outputs": []
    }
  ]
}