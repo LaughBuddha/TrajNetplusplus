{
  "nbformat": 4,
  "nbformat_minor": 0,
  "metadata": {
    "colab": {
      "name": "TrajNet++.ipynb",
      "provenance": [],
      "authorship_tag": "ABX9TyMW+Ml5RaJsJFPU404Ha+IJ",
      "include_colab_link": true
    },
    "kernelspec": {
      "name": "python3",
      "display_name": "Python 3"
    }
  },
  "cells": [
    {
      "cell_type": "markdown",
      "metadata": {
        "id": "view-in-github",
        "colab_type": "text"
      },
      "source": [
        "<a href=\"https://colab.research.google.com/github/LaughBuddha/TrajNetplusplus/blob/master/TrajNet%2B%2B_Baseline.ipynb\" target=\"_parent\"><img src=\"https://colab.research.google.com/assets/colab-badge.svg\" alt=\"Open In Colab\"/></a>"
      ]
    },
    {
      "cell_type": "markdown",
      "metadata": {
        "id": "EVxttMdBPKL7",
        "colab_type": "text"
      },
      "source": [
        "# **Clone the dataset and baseline repos**"
      ]
    },
    {
      "cell_type": "code",
      "metadata": {
        "id": "uJZVW3lEAg_o",
        "colab_type": "code",
        "colab": {
          "base_uri": "https://localhost:8080/",
          "height": 255
        },
        "outputId": "2bf4bf70-d7d4-410c-eee6-6d7d9a5c9ca7"
      },
      "source": [
        "!git clone https://github.com/vita-epfl/trajnetplusplusdataset.git\n",
        "!git clone https://github.com/vita-epfl/trajnetplusplusbaselines.git"
      ],
      "execution_count": 8,
      "outputs": [
        {
          "output_type": "stream",
          "text": [
            "Cloning into 'trajnetplusplusdataset'...\n",
            "remote: Enumerating objects: 370, done.\u001b[K\n",
            "remote: Counting objects: 100% (370/370), done.\u001b[K\n",
            "remote: Compressing objects: 100% (167/167), done.\u001b[K\n",
            "remote: Total 370 (delta 218), reused 345 (delta 198), pack-reused 0\u001b[K\n",
            "Receiving objects: 100% (370/370), 4.24 MiB | 3.44 MiB/s, done.\n",
            "Resolving deltas: 100% (218/218), done.\n",
            "Cloning into 'trajnetplusplusbaselines'...\n",
            "remote: Enumerating objects: 946, done.\u001b[K\n",
            "remote: Counting objects: 100% (946/946), done.\u001b[K\n",
            "remote: Compressing objects: 100% (324/324), done.\u001b[K\n",
            "remote: Total 946 (delta 650), reused 897 (delta 610), pack-reused 0\u001b[K\n",
            "Receiving objects: 100% (946/946), 2.06 MiB | 2.13 MiB/s, done.\n",
            "Resolving deltas: 100% (650/650), done.\n"
          ],
          "name": "stdout"
        }
      ]
    },
    {
      "cell_type": "markdown",
      "metadata": {
        "id": "Qx4pzuacPRLu",
        "colab_type": "text"
      },
      "source": [
        "# **Mount Google Drive**"
      ]
    },
    {
      "cell_type": "code",
      "metadata": {
        "id": "Yz3mSWDk__jX",
        "colab_type": "code",
        "colab": {
          "base_uri": "https://localhost:8080/",
          "height": 122
        },
        "outputId": "4d2d60c7-9595-4b84-e4fb-843b97c4f9b6"
      },
      "source": [
        "from google.colab import drive\n",
        "drive.mount('/content/drive')"
      ],
      "execution_count": 1,
      "outputs": [
        {
          "output_type": "stream",
          "text": [
            "Go to this URL in a browser: https://accounts.google.com/o/oauth2/auth?client_id=947318989803-6bn6qk8qdgf4n4g3pfee6491hc0brc4i.apps.googleusercontent.com&redirect_uri=urn%3aietf%3awg%3aoauth%3a2.0%3aoob&response_type=code&scope=email%20https%3a%2f%2fwww.googleapis.com%2fauth%2fdocs.test%20https%3a%2f%2fwww.googleapis.com%2fauth%2fdrive%20https%3a%2f%2fwww.googleapis.com%2fauth%2fdrive.photos.readonly%20https%3a%2f%2fwww.googleapis.com%2fauth%2fpeopleapi.readonly\n",
            "\n",
            "Enter your authorization code:\n",
            "··········\n",
            "Mounted at /content/drive\n"
          ],
          "name": "stdout"
        }
      ]
    },
    {
      "cell_type": "markdown",
      "metadata": {
        "id": "0uIiMQxUPUtY",
        "colab_type": "text"
      },
      "source": [
        "# **Go to 'Trajnet++' folder**"
      ]
    },
    {
      "cell_type": "code",
      "metadata": {
        "id": "wWhujxizAA1v",
        "colab_type": "code",
        "colab": {}
      },
      "source": [
        "import os\n",
        "os.chdir('/content/drive/My Drive/trajnet++')"
      ],
      "execution_count": 0,
      "outputs": []
    },
    {
      "cell_type": "markdown",
      "metadata": {
        "id": "C35PTHLkN985",
        "colab_type": "text"
      },
      "source": [
        "# **Set Baselines folder**"
      ]
    },
    {
      "cell_type": "code",
      "metadata": {
        "id": "--kDoZZEBPhM",
        "colab_type": "code",
        "colab": {}
      },
      "source": [
        "os.chdir('trajnetplusplusbaselines')\n",
        "!pip install -e ."
      ],
      "execution_count": 0,
      "outputs": []
    },
    {
      "cell_type": "markdown",
      "metadata": {
        "id": "3Dk-3alBOPKV",
        "colab_type": "text"
      },
      "source": [
        "# **Set Datasets folder**"
      ]
    },
    {
      "cell_type": "code",
      "metadata": {
        "id": "d2s8YlzzNvb1",
        "colab_type": "code",
        "colab": {}
      },
      "source": [
        "os.chdir('/content/drive/My Drive/trajnet++/trajnetplusplusdataset')\n",
        "!pip install -e ."
      ],
      "execution_count": 0,
      "outputs": []
    },
    {
      "cell_type": "code",
      "metadata": {
        "id": "qPkvxhLLNxRQ",
        "colab_type": "code",
        "colab": {}
      },
      "source": [
        "pip install -e '.[test, plot]'"
      ],
      "execution_count": 0,
      "outputs": []
    },
    {
      "cell_type": "markdown",
      "metadata": {
        "id": "JB_g5ymuPeqF",
        "colab_type": "text"
      },
      "source": [
        "# **Dataset Preparation**\n",
        "\n",
        "Create the dataset splits to train and test prediction models."
      ]
    },
    {
      "cell_type": "code",
      "metadata": {
        "id": "USpvZYDdN8s3",
        "colab_type": "code",
        "colab": {}
      },
      "source": [
        "!wget https://github.com/sybrenstuvel/Python-RVO2/archive/master.zip\n",
        "!unzip master.zip\n",
        "!rm master.zip"
      ],
      "execution_count": 0,
      "outputs": []
    },
    {
      "cell_type": "code",
      "metadata": {
        "id": "844xD87lOqjy",
        "colab_type": "code",
        "colab": {}
      },
      "source": [
        "os.chdir('/content/drive/My Drive/trajnet++/trajnetplusplusdataset/Python-RVO2-master')"
      ],
      "execution_count": 0,
      "outputs": []
    },
    {
      "cell_type": "code",
      "metadata": {
        "id": "ppTRLu1QRiTw",
        "colab_type": "code",
        "colab": {
          "base_uri": "https://localhost:8080/",
          "height": 34
        },
        "outputId": "cae6706c-9828-4030-8cf2-52f2bb5a6f2c"
      },
      "source": [
        "!pip install cython"
      ],
      "execution_count": 16,
      "outputs": [
        {
          "output_type": "stream",
          "text": [
            "Requirement already satisfied: cython in /usr/local/lib/python3.6/dist-packages (0.29.19)\n"
          ],
          "name": "stdout"
        }
      ]
    },
    {
      "cell_type": "code",
      "metadata": {
        "id": "GRBN08UaRk7I",
        "colab_type": "code",
        "colab": {
          "base_uri": "https://localhost:8080/",
          "height": 853
        },
        "outputId": "593dcbdd-de62-41d5-c3d2-d1e2a6a440cb"
      },
      "source": [
        "!python setup.py build"
      ],
      "execution_count": 17,
      "outputs": [
        {
          "output_type": "stream",
          "text": [
            "Compiling src/rvo2.pyx because it changed.\n",
            "[1/1] Cythonizing src/rvo2.pyx\n",
            "/usr/local/lib/python3.6/dist-packages/Cython/Compiler/Main.py:369: FutureWarning: Cython directive 'language_level' not set, using 2 for now (Py2). This will change in a later release! File: /content/drive/My Drive/trajnet++/trajnetplusplusdataset/Python-RVO2-master/src/rvo2.pyx\n",
            "  tree = Parsing.p_module(s, pxd, full_module_name)\n",
            "running build\n",
            "running build_ext\n",
            "-- The C compiler identification is GNU 7.5.0\n",
            "-- The CXX compiler identification is GNU 7.5.0\n",
            "-- Check for working C compiler: /usr/bin/cc\n",
            "-- Check for working C compiler: /usr/bin/cc -- works\n",
            "-- Detecting C compiler ABI info\n",
            "-- Detecting C compiler ABI info - done\n",
            "-- Detecting C compile features\n",
            "-- Detecting C compile features - done\n",
            "-- Check for working CXX compiler: /usr/bin/c++\n",
            "-- Check for working CXX compiler: /usr/bin/c++ -- works\n",
            "-- Detecting CXX compiler ABI info\n",
            "-- Detecting CXX compiler ABI info - done\n",
            "-- Detecting CXX compile features\n",
            "-- Detecting CXX compile features - done\n",
            "-- Configuring done\n",
            "-- Generating done\n",
            "-- Build files have been written to: /content/drive/My Drive/trajnet++/trajnetplusplusdataset/Python-RVO2-master/build/RVO2\n",
            "\u001b[35m\u001b[1mScanning dependencies of target RVO\u001b[0m\n",
            "[ -9%] \u001b[32mBuilding CXX object src/CMakeFiles/RVO.dir/Agent.cpp.o\u001b[0m\n",
            "[  0%] \u001b[32mBuilding CXX object src/CMakeFiles/RVO.dir/KdTree.cpp.o\u001b[0m\n",
            "[  9%] \u001b[32mBuilding CXX object src/CMakeFiles/RVO.dir/Obstacle.cpp.o\u001b[0m\n",
            "[ 18%] \u001b[32mBuilding CXX object src/CMakeFiles/RVO.dir/RVOSimulator.cpp.o\u001b[0m\n",
            "[ 27%] \u001b[32m\u001b[1mLinking CXX static library libRVO.a\u001b[0m\n",
            "[ 27%] Built target RVO\n",
            "\u001b[35m\u001b[1mScanning dependencies of target Circle\u001b[0m\n",
            "[ 36%] \u001b[32mBuilding CXX object examples/CMakeFiles/Circle.dir/Circle.cpp.o\u001b[0m\n",
            "[ 45%] \u001b[32m\u001b[1mLinking CXX executable Circle\u001b[0m\n",
            "[ 45%] Built target Circle\n",
            "\u001b[35m\u001b[1mScanning dependencies of target Roadmap\u001b[0m\n",
            "[ 54%] \u001b[32mBuilding CXX object examples/CMakeFiles/Roadmap.dir/Roadmap.cpp.o\u001b[0m\n",
            "[ 63%] \u001b[32m\u001b[1mLinking CXX executable Roadmap\u001b[0m\n",
            "[ 63%] Built target Roadmap\n",
            "\u001b[35m\u001b[1mScanning dependencies of target Blocks\u001b[0m\n",
            "[ 72%] \u001b[32mBuilding CXX object examples/CMakeFiles/Blocks.dir/Blocks.cpp.o\u001b[0m\n",
            "[ 81%] \u001b[32m\u001b[1mLinking CXX executable Blocks\u001b[0m\n",
            "[ 81%] Built target Blocks\n",
            "building 'rvo2' extension\n",
            "creating build/temp.linux-x86_64-3.6\n",
            "creating build/temp.linux-x86_64-3.6/src\n",
            "x86_64-linux-gnu-gcc -pthread -DNDEBUG -g -fwrapv -O2 -Wall -g -fstack-protector-strong -Wformat -Werror=format-security -Wdate-time -D_FORTIFY_SOURCE=2 -fPIC -Isrc -I/usr/include/python3.6m -c src/rvo2.cpp -o build/temp.linux-x86_64-3.6/src/rvo2.o -fPIC\n",
            "creating build/lib.linux-x86_64-3.6\n",
            "x86_64-linux-gnu-g++ -pthread -shared -Wl,-O1 -Wl,-Bsymbolic-functions -Wl,-Bsymbolic-functions -Wl,-z,relro -Wl,-Bsymbolic-functions -Wl,-z,relro -g -fstack-protector-strong -Wformat -Werror=format-security -Wdate-time -D_FORTIFY_SOURCE=2 build/temp.linux-x86_64-3.6/src/rvo2.o -Lbuild/RVO2/src -lRVO -o build/lib.linux-x86_64-3.6/rvo2.cpython-36m-x86_64-linux-gnu.so\n"
          ],
          "name": "stdout"
        }
      ]
    },
    {
      "cell_type": "code",
      "metadata": {
        "id": "S7BL7Ry1Rn6o",
        "colab_type": "code",
        "colab": {
          "base_uri": "https://localhost:8080/",
          "height": 714
        },
        "outputId": "ce139ca3-6efb-4dd8-a483-944e50d1ac6d"
      },
      "source": [
        "!python setup.py install"
      ],
      "execution_count": 19,
      "outputs": [
        {
          "output_type": "stream",
          "text": [
            "running install\n",
            "running bdist_egg\n",
            "running egg_info\n",
            "creating pyrvo2.egg-info\n",
            "writing pyrvo2.egg-info/PKG-INFO\n",
            "writing dependency_links to pyrvo2.egg-info/dependency_links.txt\n",
            "writing top-level names to pyrvo2.egg-info/top_level.txt\n",
            "writing manifest file 'pyrvo2.egg-info/SOURCES.txt'\n",
            "reading manifest file 'pyrvo2.egg-info/SOURCES.txt'\n",
            "writing manifest file 'pyrvo2.egg-info/SOURCES.txt'\n",
            "installing library code to build/bdist.linux-x86_64/egg\n",
            "running install_lib\n",
            "running build_ext\n",
            "[ 27%] Built target RVO\n",
            "[ 45%] Built target Circle\n",
            "[ 63%] Built target Roadmap\n",
            "[ 81%] Built target Blocks\n",
            "creating build/bdist.linux-x86_64\n",
            "creating build/bdist.linux-x86_64/egg\n",
            "copying build/lib.linux-x86_64-3.6/rvo2.cpython-36m-x86_64-linux-gnu.so -> build/bdist.linux-x86_64/egg\n",
            "creating stub loader for rvo2.cpython-36m-x86_64-linux-gnu.so\n",
            "byte-compiling build/bdist.linux-x86_64/egg/rvo2.py to rvo2.cpython-36.pyc\n",
            "creating build/bdist.linux-x86_64/egg/EGG-INFO\n",
            "copying pyrvo2.egg-info/PKG-INFO -> build/bdist.linux-x86_64/egg/EGG-INFO\n",
            "copying pyrvo2.egg-info/SOURCES.txt -> build/bdist.linux-x86_64/egg/EGG-INFO\n",
            "copying pyrvo2.egg-info/dependency_links.txt -> build/bdist.linux-x86_64/egg/EGG-INFO\n",
            "copying pyrvo2.egg-info/top_level.txt -> build/bdist.linux-x86_64/egg/EGG-INFO\n",
            "writing build/bdist.linux-x86_64/egg/EGG-INFO/native_libs.txt\n",
            "zip_safe flag not set; analyzing archive contents...\n",
            "__pycache__.rvo2.cpython-36: module references __file__\n",
            "creating dist\n",
            "creating 'dist/pyrvo2-0.0.0-py3.6-linux-x86_64.egg' and adding 'build/bdist.linux-x86_64/egg' to it\n",
            "removing 'build/bdist.linux-x86_64/egg' (and everything under it)\n",
            "Processing pyrvo2-0.0.0-py3.6-linux-x86_64.egg\n",
            "creating /usr/local/lib/python3.6/dist-packages/pyrvo2-0.0.0-py3.6-linux-x86_64.egg\n",
            "Extracting pyrvo2-0.0.0-py3.6-linux-x86_64.egg to /usr/local/lib/python3.6/dist-packages\n",
            "Adding pyrvo2 0.0.0 to easy-install.pth file\n",
            "\n",
            "Installed /usr/local/lib/python3.6/dist-packages/pyrvo2-0.0.0-py3.6-linux-x86_64.egg\n",
            "Processing dependencies for pyrvo2==0.0.0\n",
            "Finished processing dependencies for pyrvo2==0.0.0\n"
          ],
          "name": "stdout"
        }
      ]
    },
    {
      "cell_type": "markdown",
      "metadata": {
        "id": "XoQO2HliR6y2",
        "colab_type": "text"
      },
      "source": [
        "# **Download and setup Social Force Simulator**"
      ]
    },
    {
      "cell_type": "code",
      "metadata": {
        "id": "3g8eXDDKRy_B",
        "colab_type": "code",
        "colab": {}
      },
      "source": [
        "os.chdir('/content/drive/My Drive/trajnet++/trajnetplusplusdataset')"
      ],
      "execution_count": 0,
      "outputs": []
    },
    {
      "cell_type": "code",
      "metadata": {
        "id": "naaJMugUSCzv",
        "colab_type": "code",
        "colab": {}
      },
      "source": [
        "!wget https://github.com/svenkreiss/socialforce/archive/master.zip\n",
        "!unzip master.zip\n",
        "!rm master.zip"
      ],
      "execution_count": 0,
      "outputs": []
    },
    {
      "cell_type": "code",
      "metadata": {
        "id": "Hq5H20u3SXbg",
        "colab_type": "code",
        "colab": {}
      },
      "source": [
        "os.chdir('/content/drive/My Drive/trajnet++/trajnetplusplusdataset/socialforce-master')\n",
        "pip install -e ."
      ],
      "execution_count": 0,
      "outputs": []
    },
    {
      "cell_type": "markdown",
      "metadata": {
        "id": "MRS7NR-yTfz8",
        "colab_type": "text"
      },
      "source": [
        "# **Generate Controlled Data using the ORCA simulator**\n",
        "\n",
        "Generating 100 scenarios of 6 pedestrains in a circle_crossing (default) setting"
      ]
    },
    {
      "cell_type": "code",
      "metadata": {
        "id": "mJ9d-qx3Socd",
        "colab_type": "code",
        "colab": {}
      },
      "source": [
        "os.chdir('/content/drive/My Drive/trajnet++/trajnetplusplusdataset/data')\n",
        "!mkdir -p raw/controlled"
      ],
      "execution_count": 0,
      "outputs": []
    },
    {
      "cell_type": "code",
      "metadata": {
        "id": "Yj1Fi3_tTvpi",
        "colab_type": "code",
        "colab": {
          "base_uri": "https://localhost:8080/",
          "height": 204
        },
        "outputId": "bc818e23-d30b-4dc0-9230-b75987251ca7"
      },
      "source": [
        "os.chdir('/content/drive/My Drive/trajnet++/trajnetplusplusdataset')\n",
        "!python -m trajnetdataset.controlled_data --simulator 'orca' --num_ped 10 --num_scenes 100"
      ],
      "execution_count": 36,
      "outputs": [
        {
          "output_type": "stream",
          "text": [
            "data/raw/controlled/orca_circle_crossing_10ped_.txt\n",
            "9\n",
            "19\n",
            "29\n",
            "39\n",
            "49\n",
            "59\n",
            "69\n",
            "79\n",
            "89\n",
            "99\n"
          ],
          "name": "stdout"
        }
      ]
    },
    {
      "cell_type": "code",
      "metadata": {
        "id": "TPqS0PGFVAim",
        "colab_type": "code",
        "colab": {
          "base_uri": "https://localhost:8080/",
          "height": 255
        },
        "outputId": "ab13f5b7-1468-421f-f21f-be2205ee6ec4"
      },
      "source": [
        "!python -m trajnetdataset.controlled_data --help"
      ],
      "execution_count": 37,
      "outputs": [
        {
          "output_type": "stream",
          "text": [
            "usage: controlled_data.py [-h] [--simulator {orca,social_force}]\n",
            "                          [--simulation_scene {circle_crossing,square_crossing,circle_overfit,two_ped}]\n",
            "                          [--style STYLE] [--num_ped NUM_PED]\n",
            "                          [--num_scenes NUM_SCENES] [--test TEST]\n",
            "\n",
            "optional arguments:\n",
            "  -h, --help            show this help message and exit\n",
            "  --simulator {orca,social_force}\n",
            "  --simulation_scene {circle_crossing,square_crossing,circle_overfit,two_ped}\n",
            "  --style STYLE\n",
            "  --num_ped NUM_PED     Number of ped in scene\n",
            "  --num_scenes NUM_SCENES\n",
            "                        Number of scenes\n",
            "  --test TEST\n"
          ],
          "name": "stdout"
        }
      ]
    },
    {
      "cell_type": "markdown",
      "metadata": {
        "id": "fuL_yNFSXMPV",
        "colab_type": "text"
      },
      "source": [
        "# **Convert the generated ‘.txt’ file into the TrajNet++ data structure format**"
      ]
    },
    {
      "cell_type": "code",
      "metadata": {
        "id": "BIcRmA42W7sK",
        "colab_type": "code",
        "colab": {
          "base_uri": "https://localhost:8080/",
          "height": 408
        },
        "outputId": "dc601e71-76de-4a99-9a51-cc011c2214bd"
      },
      "source": [
        "!python -m trajnetdataset.convert --linear_threshold 0.3 --acceptance 0 0 1.0 0"
      ],
      "execution_count": 40,
      "outputs": [
        {
          "output_type": "stream",
          "text": [
            "processing data/raw/controlled/orca_circle_crossing_10ped_.txt\n",
            " Entering Writing \n",
            "Output File:  output_pre/test/orca_circle_crossing_10ped.ndjson\n",
            " Entering Categorizing \n",
            "All Three\n",
            "processing output_pre/train/orca_circle_crossing_10ped.ndjson\n",
            "Total Scenes:  2007\n",
            "Main Tags\n",
            "Type 1:  0 Type 2:  0 Type 3:  1723 Type 4:  0\n",
            "Sub Tags\n",
            "LF:  66 CA:  207 Group:  355 Others:  1127\n",
            "processing output_pre/val/orca_circle_crossing_10ped.ndjson\n",
            "Total Scenes:  688\n",
            "Main Tags\n",
            "Type 1:  0 Type 2:  0 Type 3:  621 Type 4:  0\n",
            "Sub Tags\n",
            "LF:  14 CA:  80 Group:  106 Others:  445\n",
            "processing output_pre/test_private/orca_circle_crossing_10ped.ndjson\n",
            "Total Scenes:  669\n",
            "Main Tags\n",
            "Type 1:  0 Type 2:  0 Type 3:  613 Type 4:  0\n",
            "Sub Tags\n",
            "LF:  14 CA:  89 Group:  118 Others:  399\n"
          ],
          "name": "stdout"
        }
      ]
    },
    {
      "cell_type": "markdown",
      "metadata": {
        "id": "Rey01VCfxiTT",
        "colab_type": "text"
      },
      "source": [
        "# **Dataset Stats**"
      ]
    },
    {
      "cell_type": "code",
      "metadata": {
        "id": "Xe5WbL2ExrHU",
        "colab_type": "code",
        "colab": {
          "base_uri": "https://localhost:8080/",
          "height": 34
        },
        "outputId": "09937258-5560-4262-c909-eb7e74a6d859"
      },
      "source": [
        "!pwd"
      ],
      "execution_count": 41,
      "outputs": [
        {
          "output_type": "stream",
          "text": [
            "/content/drive/My Drive/trajnet++/trajnetplusplusdataset\n"
          ],
          "name": "stdout"
        }
      ]
    },
    {
      "cell_type": "code",
      "metadata": {
        "id": "hIOq_Td_lkku",
        "colab_type": "code",
        "colab": {
          "base_uri": "https://localhost:8080/",
          "height": 136
        },
        "outputId": "2bdc916d-87dd-47b8-db3f-5383166bab7e"
      },
      "source": [
        "# obtain new dataset statistics\n",
        "!python -m trajnettools.dataset_stats output/train/*.ndjson"
      ],
      "execution_count": 44,
      "outputs": [
        {
          "output_type": "stream",
          "text": [
            "              output/train/orca_circle_crossing_10ped.ndjson\n",
            "Total Scenes\n",
            "1723\n",
            "Main Tags\n",
            "Type 1:  0 Type 2:  0 Type 3:  1723 Type 4:  0\n",
            "Sub Tags\n",
            "LF:  66 CA:  207 Group:  355 Others:  1127\n"
          ],
          "name": "stdout"
        }
      ]
    },
    {
      "cell_type": "code",
      "metadata": {
        "id": "DE9wuFCvx4rE",
        "colab_type": "code",
        "colab": {}
      },
      "source": [
        "# visualize sample scenes\n",
        "!python -m trajnettools.trajectories output/train/*.ndjson --random"
      ],
      "execution_count": 0,
      "outputs": []
    },
    {
      "cell_type": "code",
      "metadata": {
        "id": "8n_5EtIoyTrX",
        "colab_type": "code",
        "colab": {}
      },
      "source": [
        "# visualize interactions (Default: Collision Avoidance)\n",
        "!python -m trajnettools.visualize_type output/train/*.ndjson"
      ],
      "execution_count": 0,
      "outputs": []
    },
    {
      "cell_type": "markdown",
      "metadata": {
        "id": "mkyr9q83zUNq",
        "colab_type": "text"
      },
      "source": [
        "# **Move the converted data to the trajnetbaselines folder**"
      ]
    },
    {
      "cell_type": "code",
      "metadata": {
        "id": "SbYT0qSrykbF",
        "colab_type": "code",
        "colab": {}
      },
      "source": [
        "!mv output ../trajnetplusplusbaselines/DATA_BLOCK/synth_data"
      ],
      "execution_count": 0,
      "outputs": []
    },
    {
      "cell_type": "code",
      "metadata": {
        "id": "YhecKLWqzi6q",
        "colab_type": "code",
        "colab": {}
      },
      "source": [
        "os.chdir('/content/drive/My Drive/trajnet++/trajnetplusplusbaselines')"
      ],
      "execution_count": 0,
      "outputs": []
    },
    {
      "cell_type": "markdown",
      "metadata": {
        "id": "8ugbBy1mz1HR",
        "colab_type": "text"
      },
      "source": [
        "# **Training Models**"
      ]
    },
    {
      "cell_type": "code",
      "metadata": {
        "id": "WUAc6BDazyh8",
        "colab_type": "code",
        "colab": {
          "base_uri": "https://localhost:8080/",
          "height": 1000
        },
        "outputId": "6d30e9dc-7b31-45f7-c984-75a611e31ddf"
      },
      "source": [
        "!python -m trajnetbaselines.lstm.trainer --path synth_data --epoch 5"
      ],
      "execution_count": 51,
      "outputs": [
        {
          "output_type": "stream",
          "text": [
            "INFO:root:{'type': 'process', 'argv': ['/content/drive/My Drive/trajnet++/trajnetplusplusbaselines/trajnetbaselines/lstm/trainer.py', '--path', 'synth_data', '--epoch', '5'], 'args': {'epochs': 5, 'obs_length': 9, 'pred_length': 12, 'batch_size': 1, 'lr': 0.001, 'type': 'vanilla', 'output': 'OUTPUT_BLOCK/synth_data/vanilla.pkl', 'disable_cuda': False, 'front': False, 'fast': False, 'path': 'synth_data', 'loss': 'L2', 'load_state': None, 'load_full_state': None, 'nonstrict_load_state': None, 'hidden_dim': 128, 'coordinate_embedding_dim': 64, 'cell_side': 1.0, 'n': 10}, 'version': '0.1.0', 'hostname': '522baf8a23ae'}\n",
            "INFO:trajnettools.dataset:loading dataset from DATA_BLOCK/synth_data/train/**/*.ndjson\n",
            "INFO:trajnettools.dataset:loading dataset from DATA_BLOCK/synth_data/val/**/*.ndjson\n",
            "epoch 0\n",
            "/usr/local/lib/python3.6/dist-packages/torch/optim/lr_scheduler.py:123: UserWarning: Detected call of `lr_scheduler.step()` before `optimizer.step()`. In PyTorch 1.1.0 and later, you should call them in the opposite order: `optimizer.step()` before `lr_scheduler.step()`.  Failure to do this will result in PyTorch skipping the first value of the learning rate schedule. See more details at https://pytorch.org/docs/stable/optim.html#how-to-adjust-learning-rate\n",
            "  \"https://pytorch.org/docs/stable/optim.html#how-to-adjust-learning-rate\", UserWarning)\n",
            "INFO:Trainer:{'type': 'train', 'epoch': 0, 'batch': 0, 'n_batches': 1723, 'time': 0.055, 'data_time': 0.0, 'lr': 0.001, 'loss': 2.053}\n",
            "INFO:Trainer:{'type': 'train', 'epoch': 0, 'batch': 10, 'n_batches': 1723, 'time': 0.044, 'data_time': 0.0, 'lr': 0.001, 'loss': 2.031}\n",
            "INFO:Trainer:{'type': 'train', 'epoch': 0, 'batch': 20, 'n_batches': 1723, 'time': 0.047, 'data_time': 0.0, 'lr': 0.001, 'loss': 3.176}\n",
            "INFO:Trainer:{'type': 'train', 'epoch': 0, 'batch': 30, 'n_batches': 1723, 'time': 0.048, 'data_time': 0.0, 'lr': 0.001, 'loss': 5.676}\n",
            "INFO:Trainer:{'type': 'train', 'epoch': 0, 'batch': 40, 'n_batches': 1723, 'time': 0.044, 'data_time': 0.0, 'lr': 0.001, 'loss': 1.956}\n",
            "INFO:Trainer:{'type': 'train', 'epoch': 0, 'batch': 50, 'n_batches': 1723, 'time': 0.045, 'data_time': 0.0, 'lr': 0.001, 'loss': 2.243}\n",
            "INFO:Trainer:{'type': 'train', 'epoch': 0, 'batch': 60, 'n_batches': 1723, 'time': 0.045, 'data_time': 0.0, 'lr': 0.001, 'loss': 1.369}\n",
            "INFO:Trainer:{'type': 'train', 'epoch': 0, 'batch': 70, 'n_batches': 1723, 'time': 0.045, 'data_time': 0.0, 'lr': 0.001, 'loss': 1.504}\n",
            "INFO:Trainer:{'type': 'train', 'epoch': 0, 'batch': 80, 'n_batches': 1723, 'time': 0.046, 'data_time': 0.0, 'lr': 0.001, 'loss': 0.512}\n",
            "INFO:Trainer:{'type': 'train', 'epoch': 0, 'batch': 90, 'n_batches': 1723, 'time': 0.045, 'data_time': 0.0, 'lr': 0.001, 'loss': 1.875}\n",
            "INFO:Trainer:{'type': 'train', 'epoch': 0, 'batch': 100, 'n_batches': 1723, 'time': 0.045, 'data_time': 0.0, 'lr': 0.001, 'loss': 1.975}\n",
            "INFO:Trainer:{'type': 'train', 'epoch': 0, 'batch': 110, 'n_batches': 1723, 'time': 0.05, 'data_time': 0.0, 'lr': 0.001, 'loss': 0.484}\n",
            "INFO:Trainer:{'type': 'train', 'epoch': 0, 'batch': 120, 'n_batches': 1723, 'time': 0.044, 'data_time': 0.0, 'lr': 0.001, 'loss': 4.77}\n",
            "INFO:Trainer:{'type': 'train', 'epoch': 0, 'batch': 130, 'n_batches': 1723, 'time': 0.044, 'data_time': 0.0, 'lr': 0.001, 'loss': 1.969}\n",
            "INFO:Trainer:{'type': 'train', 'epoch': 0, 'batch': 140, 'n_batches': 1723, 'time': 0.045, 'data_time': 0.0, 'lr': 0.001, 'loss': 0.615}\n",
            "INFO:Trainer:{'type': 'train', 'epoch': 0, 'batch': 150, 'n_batches': 1723, 'time': 0.044, 'data_time': 0.0, 'lr': 0.001, 'loss': 0.197}\n",
            "INFO:Trainer:{'type': 'train', 'epoch': 0, 'batch': 160, 'n_batches': 1723, 'time': 0.045, 'data_time': 0.0, 'lr': 0.001, 'loss': 0.171}\n",
            "INFO:Trainer:{'type': 'train', 'epoch': 0, 'batch': 170, 'n_batches': 1723, 'time': 0.045, 'data_time': 0.0, 'lr': 0.001, 'loss': 2.166}\n",
            "INFO:Trainer:{'type': 'train', 'epoch': 0, 'batch': 180, 'n_batches': 1723, 'time': 0.045, 'data_time': 0.0, 'lr': 0.001, 'loss': 0.891}\n",
            "INFO:Trainer:{'type': 'train', 'epoch': 0, 'batch': 190, 'n_batches': 1723, 'time': 0.049, 'data_time': 0.0, 'lr': 0.001, 'loss': 0.446}\n",
            "INFO:Trainer:{'type': 'train', 'epoch': 0, 'batch': 200, 'n_batches': 1723, 'time': 0.045, 'data_time': 0.0, 'lr': 0.001, 'loss': 0.958}\n",
            "INFO:Trainer:{'type': 'train', 'epoch': 0, 'batch': 210, 'n_batches': 1723, 'time': 0.051, 'data_time': 0.0, 'lr': 0.001, 'loss': 0.241}\n",
            "INFO:Trainer:{'type': 'train', 'epoch': 0, 'batch': 220, 'n_batches': 1723, 'time': 0.044, 'data_time': 0.0, 'lr': 0.001, 'loss': 2.517}\n",
            "INFO:Trainer:{'type': 'train', 'epoch': 0, 'batch': 230, 'n_batches': 1723, 'time': 0.046, 'data_time': 0.0, 'lr': 0.001, 'loss': 2.5}\n",
            "INFO:Trainer:{'type': 'train', 'epoch': 0, 'batch': 240, 'n_batches': 1723, 'time': 0.044, 'data_time': 0.0, 'lr': 0.001, 'loss': 1.726}\n",
            "INFO:Trainer:{'type': 'train', 'epoch': 0, 'batch': 250, 'n_batches': 1723, 'time': 0.045, 'data_time': 0.0, 'lr': 0.001, 'loss': 0.7}\n",
            "INFO:Trainer:{'type': 'train', 'epoch': 0, 'batch': 260, 'n_batches': 1723, 'time': 0.044, 'data_time': 0.0, 'lr': 0.001, 'loss': 0.718}\n",
            "INFO:Trainer:{'type': 'train', 'epoch': 0, 'batch': 270, 'n_batches': 1723, 'time': 0.041, 'data_time': 0.0, 'lr': 0.001, 'loss': 0.662}\n",
            "INFO:Trainer:{'type': 'train', 'epoch': 0, 'batch': 280, 'n_batches': 1723, 'time': 0.044, 'data_time': 0.0, 'lr': 0.001, 'loss': 0.678}\n",
            "INFO:Trainer:{'type': 'train', 'epoch': 0, 'batch': 290, 'n_batches': 1723, 'time': 0.044, 'data_time': 0.0, 'lr': 0.001, 'loss': 0.402}\n",
            "INFO:Trainer:{'type': 'train', 'epoch': 0, 'batch': 300, 'n_batches': 1723, 'time': 0.044, 'data_time': 0.0, 'lr': 0.001, 'loss': 1.728}\n",
            "INFO:Trainer:{'type': 'train', 'epoch': 0, 'batch': 310, 'n_batches': 1723, 'time': 0.046, 'data_time': 0.0, 'lr': 0.001, 'loss': 0.543}\n",
            "INFO:Trainer:{'type': 'train', 'epoch': 0, 'batch': 320, 'n_batches': 1723, 'time': 0.042, 'data_time': 0.0, 'lr': 0.001, 'loss': 11.044}\n",
            "INFO:Trainer:{'type': 'train', 'epoch': 0, 'batch': 330, 'n_batches': 1723, 'time': 0.045, 'data_time': 0.0, 'lr': 0.001, 'loss': 1.457}\n",
            "INFO:Trainer:{'type': 'train', 'epoch': 0, 'batch': 340, 'n_batches': 1723, 'time': 0.045, 'data_time': 0.0, 'lr': 0.001, 'loss': 5.625}\n",
            "INFO:Trainer:{'type': 'train', 'epoch': 0, 'batch': 350, 'n_batches': 1723, 'time': 0.045, 'data_time': 0.0, 'lr': 0.001, 'loss': 1.214}\n",
            "INFO:Trainer:{'type': 'train', 'epoch': 0, 'batch': 360, 'n_batches': 1723, 'time': 0.051, 'data_time': 0.0, 'lr': 0.001, 'loss': 0.72}\n",
            "INFO:Trainer:{'type': 'train', 'epoch': 0, 'batch': 370, 'n_batches': 1723, 'time': 0.045, 'data_time': 0.0, 'lr': 0.001, 'loss': 2.202}\n",
            "INFO:Trainer:{'type': 'train', 'epoch': 0, 'batch': 380, 'n_batches': 1723, 'time': 0.045, 'data_time': 0.0, 'lr': 0.001, 'loss': 0.802}\n",
            "INFO:Trainer:{'type': 'train', 'epoch': 0, 'batch': 390, 'n_batches': 1723, 'time': 0.045, 'data_time': 0.0, 'lr': 0.001, 'loss': 0.349}\n",
            "INFO:Trainer:{'type': 'train', 'epoch': 0, 'batch': 400, 'n_batches': 1723, 'time': 0.044, 'data_time': 0.0, 'lr': 0.001, 'loss': 3.366}\n",
            "INFO:Trainer:{'type': 'train', 'epoch': 0, 'batch': 410, 'n_batches': 1723, 'time': 0.045, 'data_time': 0.0, 'lr': 0.001, 'loss': 1.388}\n",
            "INFO:Trainer:{'type': 'train', 'epoch': 0, 'batch': 420, 'n_batches': 1723, 'time': 0.045, 'data_time': 0.0, 'lr': 0.001, 'loss': 0.42}\n",
            "INFO:Trainer:{'type': 'train', 'epoch': 0, 'batch': 430, 'n_batches': 1723, 'time': 0.048, 'data_time': 0.0, 'lr': 0.001, 'loss': 1.281}\n",
            "INFO:Trainer:{'type': 'train', 'epoch': 0, 'batch': 440, 'n_batches': 1723, 'time': 0.045, 'data_time': 0.0, 'lr': 0.001, 'loss': 2.533}\n",
            "INFO:Trainer:{'type': 'train', 'epoch': 0, 'batch': 450, 'n_batches': 1723, 'time': 0.047, 'data_time': 0.0, 'lr': 0.001, 'loss': 0.304}\n",
            "INFO:Trainer:{'type': 'train', 'epoch': 0, 'batch': 460, 'n_batches': 1723, 'time': 0.045, 'data_time': 0.0, 'lr': 0.001, 'loss': 3.557}\n",
            "INFO:Trainer:{'type': 'train', 'epoch': 0, 'batch': 470, 'n_batches': 1723, 'time': 0.044, 'data_time': 0.0, 'lr': 0.001, 'loss': 1.281}\n",
            "INFO:Trainer:{'type': 'train', 'epoch': 0, 'batch': 480, 'n_batches': 1723, 'time': 0.045, 'data_time': 0.0, 'lr': 0.001, 'loss': 0.342}\n",
            "INFO:Trainer:{'type': 'train', 'epoch': 0, 'batch': 490, 'n_batches': 1723, 'time': 0.045, 'data_time': 0.0, 'lr': 0.001, 'loss': 2.026}\n",
            "INFO:Trainer:{'type': 'train', 'epoch': 0, 'batch': 500, 'n_batches': 1723, 'time': 0.046, 'data_time': 0.0, 'lr': 0.001, 'loss': 1.66}\n",
            "INFO:Trainer:{'type': 'train', 'epoch': 0, 'batch': 510, 'n_batches': 1723, 'time': 0.046, 'data_time': 0.0, 'lr': 0.001, 'loss': 1.318}\n",
            "INFO:Trainer:{'type': 'train', 'epoch': 0, 'batch': 520, 'n_batches': 1723, 'time': 0.046, 'data_time': 0.0, 'lr': 0.001, 'loss': 0.227}\n",
            "INFO:Trainer:{'type': 'train', 'epoch': 0, 'batch': 530, 'n_batches': 1723, 'time': 0.051, 'data_time': 0.0, 'lr': 0.001, 'loss': 0.473}\n",
            "INFO:Trainer:{'type': 'train', 'epoch': 0, 'batch': 540, 'n_batches': 1723, 'time': 0.045, 'data_time': 0.0, 'lr': 0.001, 'loss': 0.826}\n",
            "INFO:Trainer:{'type': 'train', 'epoch': 0, 'batch': 550, 'n_batches': 1723, 'time': 0.044, 'data_time': 0.0, 'lr': 0.001, 'loss': 0.332}\n",
            "INFO:Trainer:{'type': 'train', 'epoch': 0, 'batch': 560, 'n_batches': 1723, 'time': 0.044, 'data_time': 0.0, 'lr': 0.001, 'loss': 1.138}\n",
            "INFO:Trainer:{'type': 'train', 'epoch': 0, 'batch': 570, 'n_batches': 1723, 'time': 0.044, 'data_time': 0.0, 'lr': 0.001, 'loss': 0.992}\n",
            "INFO:Trainer:{'type': 'train', 'epoch': 0, 'batch': 580, 'n_batches': 1723, 'time': 0.045, 'data_time': 0.0, 'lr': 0.001, 'loss': 1.663}\n",
            "INFO:Trainer:{'type': 'train', 'epoch': 0, 'batch': 590, 'n_batches': 1723, 'time': 0.048, 'data_time': 0.0, 'lr': 0.001, 'loss': 0.316}\n",
            "INFO:Trainer:{'type': 'train', 'epoch': 0, 'batch': 600, 'n_batches': 1723, 'time': 0.044, 'data_time': 0.0, 'lr': 0.001, 'loss': 2.435}\n",
            "INFO:Trainer:{'type': 'train', 'epoch': 0, 'batch': 610, 'n_batches': 1723, 'time': 0.045, 'data_time': 0.0, 'lr': 0.001, 'loss': 0.677}\n",
            "INFO:Trainer:{'type': 'train', 'epoch': 0, 'batch': 620, 'n_batches': 1723, 'time': 0.045, 'data_time': 0.0, 'lr': 0.001, 'loss': 0.652}\n",
            "INFO:Trainer:{'type': 'train', 'epoch': 0, 'batch': 630, 'n_batches': 1723, 'time': 0.045, 'data_time': 0.0, 'lr': 0.001, 'loss': 1.582}\n",
            "INFO:Trainer:{'type': 'train', 'epoch': 0, 'batch': 640, 'n_batches': 1723, 'time': 0.045, 'data_time': 0.0, 'lr': 0.001, 'loss': 1.359}\n",
            "INFO:Trainer:{'type': 'train', 'epoch': 0, 'batch': 650, 'n_batches': 1723, 'time': 0.048, 'data_time': 0.0, 'lr': 0.001, 'loss': 0.16}\n",
            "INFO:Trainer:{'type': 'train', 'epoch': 0, 'batch': 660, 'n_batches': 1723, 'time': 0.044, 'data_time': 0.0, 'lr': 0.001, 'loss': 0.46}\n",
            "INFO:Trainer:{'type': 'train', 'epoch': 0, 'batch': 670, 'n_batches': 1723, 'time': 0.045, 'data_time': 0.0, 'lr': 0.001, 'loss': 3.408}\n",
            "INFO:Trainer:{'type': 'train', 'epoch': 0, 'batch': 680, 'n_batches': 1723, 'time': 0.045, 'data_time': 0.0, 'lr': 0.001, 'loss': 0.884}\n",
            "INFO:Trainer:{'type': 'train', 'epoch': 0, 'batch': 690, 'n_batches': 1723, 'time': 0.044, 'data_time': 0.0, 'lr': 0.001, 'loss': 0.757}\n",
            "INFO:Trainer:{'type': 'train', 'epoch': 0, 'batch': 700, 'n_batches': 1723, 'time': 0.051, 'data_time': 0.0, 'lr': 0.001, 'loss': 0.144}\n",
            "INFO:Trainer:{'type': 'train', 'epoch': 0, 'batch': 710, 'n_batches': 1723, 'time': 0.044, 'data_time': 0.0, 'lr': 0.001, 'loss': 1.101}\n",
            "INFO:Trainer:{'type': 'train', 'epoch': 0, 'batch': 720, 'n_batches': 1723, 'time': 0.044, 'data_time': 0.0, 'lr': 0.001, 'loss': 0.229}\n",
            "INFO:Trainer:{'type': 'train', 'epoch': 0, 'batch': 730, 'n_batches': 1723, 'time': 0.045, 'data_time': 0.0, 'lr': 0.001, 'loss': 0.254}\n",
            "INFO:Trainer:{'type': 'train', 'epoch': 0, 'batch': 740, 'n_batches': 1723, 'time': 0.044, 'data_time': 0.0, 'lr': 0.001, 'loss': 0.338}\n",
            "INFO:Trainer:{'type': 'train', 'epoch': 0, 'batch': 750, 'n_batches': 1723, 'time': 0.045, 'data_time': 0.0, 'lr': 0.001, 'loss': 0.461}\n",
            "INFO:Trainer:{'type': 'train', 'epoch': 0, 'batch': 760, 'n_batches': 1723, 'time': 0.045, 'data_time': 0.0, 'lr': 0.001, 'loss': 1.247}\n",
            "INFO:Trainer:{'type': 'train', 'epoch': 0, 'batch': 770, 'n_batches': 1723, 'time': 0.044, 'data_time': 0.0, 'lr': 0.001, 'loss': 1.254}\n",
            "INFO:Trainer:{'type': 'train', 'epoch': 0, 'batch': 780, 'n_batches': 1723, 'time': 0.044, 'data_time': 0.0, 'lr': 0.001, 'loss': 0.936}\n",
            "INFO:Trainer:{'type': 'train', 'epoch': 0, 'batch': 790, 'n_batches': 1723, 'time': 0.044, 'data_time': 0.0, 'lr': 0.001, 'loss': 0.965}\n",
            "INFO:Trainer:{'type': 'train', 'epoch': 0, 'batch': 800, 'n_batches': 1723, 'time': 0.045, 'data_time': 0.0, 'lr': 0.001, 'loss': 0.324}\n",
            "INFO:Trainer:{'type': 'train', 'epoch': 0, 'batch': 810, 'n_batches': 1723, 'time': 0.047, 'data_time': 0.0, 'lr': 0.001, 'loss': 0.749}\n",
            "INFO:Trainer:{'type': 'train', 'epoch': 0, 'batch': 820, 'n_batches': 1723, 'time': 0.044, 'data_time': 0.0, 'lr': 0.001, 'loss': 3.658}\n",
            "INFO:Trainer:{'type': 'train', 'epoch': 0, 'batch': 830, 'n_batches': 1723, 'time': 0.044, 'data_time': 0.0, 'lr': 0.001, 'loss': 1.696}\n",
            "INFO:Trainer:{'type': 'train', 'epoch': 0, 'batch': 840, 'n_batches': 1723, 'time': 0.045, 'data_time': 0.0, 'lr': 0.001, 'loss': 3.397}\n",
            "INFO:Trainer:{'type': 'train', 'epoch': 0, 'batch': 850, 'n_batches': 1723, 'time': 0.051, 'data_time': 0.0, 'lr': 0.001, 'loss': 1.389}\n",
            "INFO:Trainer:{'type': 'train', 'epoch': 0, 'batch': 860, 'n_batches': 1723, 'time': 0.048, 'data_time': 0.0, 'lr': 0.001, 'loss': 1.667}\n",
            "INFO:Trainer:{'type': 'train', 'epoch': 0, 'batch': 870, 'n_batches': 1723, 'time': 0.045, 'data_time': 0.0, 'lr': 0.001, 'loss': 1.323}\n",
            "INFO:Trainer:{'type': 'train', 'epoch': 0, 'batch': 880, 'n_batches': 1723, 'time': 0.046, 'data_time': 0.0, 'lr': 0.001, 'loss': 0.798}\n",
            "INFO:Trainer:{'type': 'train', 'epoch': 0, 'batch': 890, 'n_batches': 1723, 'time': 0.045, 'data_time': 0.0, 'lr': 0.001, 'loss': 0.532}\n",
            "INFO:Trainer:{'type': 'train', 'epoch': 0, 'batch': 900, 'n_batches': 1723, 'time': 0.045, 'data_time': 0.0, 'lr': 0.001, 'loss': 1.094}\n",
            "INFO:Trainer:{'type': 'train', 'epoch': 0, 'batch': 910, 'n_batches': 1723, 'time': 0.045, 'data_time': 0.0, 'lr': 0.001, 'loss': 0.627}\n",
            "INFO:Trainer:{'type': 'train', 'epoch': 0, 'batch': 920, 'n_batches': 1723, 'time': 0.048, 'data_time': 0.0, 'lr': 0.001, 'loss': 0.656}\n",
            "INFO:Trainer:{'type': 'train', 'epoch': 0, 'batch': 930, 'n_batches': 1723, 'time': 0.046, 'data_time': 0.0, 'lr': 0.001, 'loss': 2.148}\n",
            "INFO:Trainer:{'type': 'train', 'epoch': 0, 'batch': 940, 'n_batches': 1723, 'time': 0.045, 'data_time': 0.0, 'lr': 0.001, 'loss': 0.332}\n",
            "INFO:Trainer:{'type': 'train', 'epoch': 0, 'batch': 950, 'n_batches': 1723, 'time': 0.044, 'data_time': 0.0, 'lr': 0.001, 'loss': 5.11}\n",
            "INFO:Trainer:{'type': 'train', 'epoch': 0, 'batch': 960, 'n_batches': 1723, 'time': 0.045, 'data_time': 0.0, 'lr': 0.001, 'loss': 0.716}\n",
            "INFO:Trainer:{'type': 'train', 'epoch': 0, 'batch': 970, 'n_batches': 1723, 'time': 0.045, 'data_time': 0.0, 'lr': 0.001, 'loss': 1.095}\n",
            "INFO:Trainer:{'type': 'train', 'epoch': 0, 'batch': 980, 'n_batches': 1723, 'time': 0.044, 'data_time': 0.0, 'lr': 0.001, 'loss': 3.013}\n",
            "INFO:Trainer:{'type': 'train', 'epoch': 0, 'batch': 990, 'n_batches': 1723, 'time': 0.045, 'data_time': 0.0, 'lr': 0.001, 'loss': 2.141}\n",
            "INFO:Trainer:{'type': 'train', 'epoch': 0, 'batch': 1000, 'n_batches': 1723, 'time': 0.044, 'data_time': 0.0, 'lr': 0.001, 'loss': 0.517}\n",
            "INFO:Trainer:{'type': 'train', 'epoch': 0, 'batch': 1010, 'n_batches': 1723, 'time': 0.044, 'data_time': 0.0, 'lr': 0.001, 'loss': 4.355}\n",
            "INFO:Trainer:{'type': 'train', 'epoch': 0, 'batch': 1020, 'n_batches': 1723, 'time': 0.045, 'data_time': 0.0, 'lr': 0.001, 'loss': 0.303}\n",
            "INFO:Trainer:{'type': 'train', 'epoch': 0, 'batch': 1030, 'n_batches': 1723, 'time': 0.055, 'data_time': 0.0, 'lr': 0.001, 'loss': 0.381}\n",
            "INFO:Trainer:{'type': 'train', 'epoch': 0, 'batch': 1040, 'n_batches': 1723, 'time': 0.051, 'data_time': 0.0, 'lr': 0.001, 'loss': 0.404}\n",
            "INFO:Trainer:{'type': 'train', 'epoch': 0, 'batch': 1050, 'n_batches': 1723, 'time': 0.044, 'data_time': 0.0, 'lr': 0.001, 'loss': 2.05}\n",
            "INFO:Trainer:{'type': 'train', 'epoch': 0, 'batch': 1060, 'n_batches': 1723, 'time': 0.044, 'data_time': 0.0, 'lr': 0.001, 'loss': 0.663}\n",
            "INFO:Trainer:{'type': 'train', 'epoch': 0, 'batch': 1070, 'n_batches': 1723, 'time': 0.045, 'data_time': 0.0, 'lr': 0.001, 'loss': 0.753}\n",
            "INFO:Trainer:{'type': 'train', 'epoch': 0, 'batch': 1080, 'n_batches': 1723, 'time': 0.045, 'data_time': 0.0, 'lr': 0.001, 'loss': 1.164}\n",
            "INFO:Trainer:{'type': 'train', 'epoch': 0, 'batch': 1090, 'n_batches': 1723, 'time': 0.044, 'data_time': 0.0, 'lr': 0.001, 'loss': 0.266}\n",
            "INFO:Trainer:{'type': 'train', 'epoch': 0, 'batch': 1100, 'n_batches': 1723, 'time': 0.045, 'data_time': 0.0, 'lr': 0.001, 'loss': 1.596}\n",
            "INFO:Trainer:{'type': 'train', 'epoch': 0, 'batch': 1110, 'n_batches': 1723, 'time': 0.045, 'data_time': 0.0, 'lr': 0.001, 'loss': 0.242}\n",
            "INFO:Trainer:{'type': 'train', 'epoch': 0, 'batch': 1120, 'n_batches': 1723, 'time': 0.044, 'data_time': 0.0, 'lr': 0.001, 'loss': 0.537}\n",
            "INFO:Trainer:{'type': 'train', 'epoch': 0, 'batch': 1130, 'n_batches': 1723, 'time': 0.045, 'data_time': 0.0, 'lr': 0.001, 'loss': 0.363}\n",
            "INFO:Trainer:{'type': 'train', 'epoch': 0, 'batch': 1140, 'n_batches': 1723, 'time': 0.045, 'data_time': 0.0, 'lr': 0.001, 'loss': 0.759}\n",
            "INFO:Trainer:{'type': 'train', 'epoch': 0, 'batch': 1150, 'n_batches': 1723, 'time': 0.044, 'data_time': 0.0, 'lr': 0.001, 'loss': 3.625}\n",
            "INFO:Trainer:{'type': 'train', 'epoch': 0, 'batch': 1160, 'n_batches': 1723, 'time': 0.044, 'data_time': 0.0, 'lr': 0.001, 'loss': 0.18}\n",
            "INFO:Trainer:{'type': 'train', 'epoch': 0, 'batch': 1170, 'n_batches': 1723, 'time': 0.045, 'data_time': 0.0, 'lr': 0.001, 'loss': 2.758}\n",
            "INFO:Trainer:{'type': 'train', 'epoch': 0, 'batch': 1180, 'n_batches': 1723, 'time': 0.045, 'data_time': 0.0, 'lr': 0.001, 'loss': 0.244}\n",
            "INFO:Trainer:{'type': 'train', 'epoch': 0, 'batch': 1190, 'n_batches': 1723, 'time': 0.045, 'data_time': 0.0, 'lr': 0.001, 'loss': 0.39}\n",
            "INFO:Trainer:{'type': 'train', 'epoch': 0, 'batch': 1200, 'n_batches': 1723, 'time': 0.045, 'data_time': 0.0, 'lr': 0.001, 'loss': 0.917}\n",
            "INFO:Trainer:{'type': 'train', 'epoch': 0, 'batch': 1210, 'n_batches': 1723, 'time': 0.052, 'data_time': 0.0, 'lr': 0.001, 'loss': 1.227}\n",
            "INFO:Trainer:{'type': 'train', 'epoch': 0, 'batch': 1220, 'n_batches': 1723, 'time': 0.045, 'data_time': 0.0, 'lr': 0.001, 'loss': 0.998}\n",
            "INFO:Trainer:{'type': 'train', 'epoch': 0, 'batch': 1230, 'n_batches': 1723, 'time': 0.051, 'data_time': 0.0, 'lr': 0.001, 'loss': 0.579}\n",
            "INFO:Trainer:{'type': 'train', 'epoch': 0, 'batch': 1240, 'n_batches': 1723, 'time': 0.044, 'data_time': 0.0, 'lr': 0.001, 'loss': 0.808}\n",
            "INFO:Trainer:{'type': 'train', 'epoch': 0, 'batch': 1250, 'n_batches': 1723, 'time': 0.044, 'data_time': 0.0, 'lr': 0.001, 'loss': 1.777}\n",
            "INFO:Trainer:{'type': 'train', 'epoch': 0, 'batch': 1260, 'n_batches': 1723, 'time': 0.045, 'data_time': 0.0, 'lr': 0.001, 'loss': 0.576}\n",
            "INFO:Trainer:{'type': 'train', 'epoch': 0, 'batch': 1270, 'n_batches': 1723, 'time': 0.045, 'data_time': 0.0, 'lr': 0.001, 'loss': 1.573}\n",
            "INFO:Trainer:{'type': 'train', 'epoch': 0, 'batch': 1280, 'n_batches': 1723, 'time': 0.044, 'data_time': 0.0, 'lr': 0.001, 'loss': 1.408}\n",
            "INFO:Trainer:{'type': 'train', 'epoch': 0, 'batch': 1290, 'n_batches': 1723, 'time': 0.045, 'data_time': 0.0, 'lr': 0.001, 'loss': 1.905}\n",
            "INFO:Trainer:{'type': 'train', 'epoch': 0, 'batch': 1300, 'n_batches': 1723, 'time': 0.044, 'data_time': 0.0, 'lr': 0.001, 'loss': 0.478}\n",
            "INFO:Trainer:{'type': 'train', 'epoch': 0, 'batch': 1310, 'n_batches': 1723, 'time': 0.045, 'data_time': 0.0, 'lr': 0.001, 'loss': 0.718}\n",
            "INFO:Trainer:{'type': 'train', 'epoch': 0, 'batch': 1320, 'n_batches': 1723, 'time': 0.044, 'data_time': 0.0, 'lr': 0.001, 'loss': 0.408}\n",
            "INFO:Trainer:{'type': 'train', 'epoch': 0, 'batch': 1330, 'n_batches': 1723, 'time': 0.045, 'data_time': 0.0, 'lr': 0.001, 'loss': 1.245}\n",
            "INFO:Trainer:{'type': 'train', 'epoch': 0, 'batch': 1340, 'n_batches': 1723, 'time': 0.045, 'data_time': 0.0, 'lr': 0.001, 'loss': 0.808}\n",
            "INFO:Trainer:{'type': 'train', 'epoch': 0, 'batch': 1350, 'n_batches': 1723, 'time': 0.044, 'data_time': 0.0, 'lr': 0.001, 'loss': 0.936}\n",
            "INFO:Trainer:{'type': 'train', 'epoch': 0, 'batch': 1360, 'n_batches': 1723, 'time': 0.045, 'data_time': 0.0, 'lr': 0.001, 'loss': 0.234}\n",
            "INFO:Trainer:{'type': 'train', 'epoch': 0, 'batch': 1370, 'n_batches': 1723, 'time': 0.045, 'data_time': 0.0, 'lr': 0.001, 'loss': 0.596}\n",
            "INFO:Trainer:{'type': 'train', 'epoch': 0, 'batch': 1380, 'n_batches': 1723, 'time': 0.046, 'data_time': 0.0, 'lr': 0.001, 'loss': 1.186}\n",
            "INFO:Trainer:{'type': 'train', 'epoch': 0, 'batch': 1390, 'n_batches': 1723, 'time': 0.045, 'data_time': 0.0, 'lr': 0.001, 'loss': 1.11}\n",
            "INFO:Trainer:{'type': 'train', 'epoch': 0, 'batch': 1400, 'n_batches': 1723, 'time': 0.045, 'data_time': 0.0, 'lr': 0.001, 'loss': 0.558}\n",
            "INFO:Trainer:{'type': 'train', 'epoch': 0, 'batch': 1410, 'n_batches': 1723, 'time': 0.045, 'data_time': 0.0, 'lr': 0.001, 'loss': 1.311}\n",
            "INFO:Trainer:{'type': 'train', 'epoch': 0, 'batch': 1420, 'n_batches': 1723, 'time': 0.046, 'data_time': 0.0, 'lr': 0.001, 'loss': 0.481}\n",
            "INFO:Trainer:{'type': 'train', 'epoch': 0, 'batch': 1430, 'n_batches': 1723, 'time': 0.045, 'data_time': 0.0, 'lr': 0.001, 'loss': 0.433}\n",
            "INFO:Trainer:{'type': 'train', 'epoch': 0, 'batch': 1440, 'n_batches': 1723, 'time': 0.045, 'data_time': 0.0, 'lr': 0.001, 'loss': 1.38}\n",
            "INFO:Trainer:{'type': 'train', 'epoch': 0, 'batch': 1450, 'n_batches': 1723, 'time': 0.045, 'data_time': 0.0, 'lr': 0.001, 'loss': 0.392}\n",
            "INFO:Trainer:{'type': 'train', 'epoch': 0, 'batch': 1460, 'n_batches': 1723, 'time': 0.045, 'data_time': 0.0, 'lr': 0.001, 'loss': 0.422}\n",
            "INFO:Trainer:{'type': 'train', 'epoch': 0, 'batch': 1470, 'n_batches': 1723, 'time': 0.044, 'data_time': 0.0, 'lr': 0.001, 'loss': 1.21}\n",
            "INFO:Trainer:{'type': 'train', 'epoch': 0, 'batch': 1480, 'n_batches': 1723, 'time': 0.045, 'data_time': 0.0, 'lr': 0.001, 'loss': 0.384}\n",
            "INFO:Trainer:{'type': 'train', 'epoch': 0, 'batch': 1490, 'n_batches': 1723, 'time': 0.044, 'data_time': 0.0, 'lr': 0.001, 'loss': 0.668}\n",
            "INFO:Trainer:{'type': 'train', 'epoch': 0, 'batch': 1500, 'n_batches': 1723, 'time': 0.045, 'data_time': 0.0, 'lr': 0.001, 'loss': 1.074}\n",
            "INFO:Trainer:{'type': 'train', 'epoch': 0, 'batch': 1510, 'n_batches': 1723, 'time': 0.045, 'data_time': 0.0, 'lr': 0.001, 'loss': 0.675}\n",
            "INFO:Trainer:{'type': 'train', 'epoch': 0, 'batch': 1520, 'n_batches': 1723, 'time': 0.045, 'data_time': 0.0, 'lr': 0.001, 'loss': 0.539}\n",
            "INFO:Trainer:{'type': 'train', 'epoch': 0, 'batch': 1530, 'n_batches': 1723, 'time': 0.045, 'data_time': 0.0, 'lr': 0.001, 'loss': 0.264}\n",
            "INFO:Trainer:{'type': 'train', 'epoch': 0, 'batch': 1540, 'n_batches': 1723, 'time': 0.045, 'data_time': 0.0, 'lr': 0.001, 'loss': 0.895}\n",
            "INFO:Trainer:{'type': 'train', 'epoch': 0, 'batch': 1550, 'n_batches': 1723, 'time': 0.045, 'data_time': 0.0, 'lr': 0.001, 'loss': 2.422}\n",
            "INFO:Trainer:{'type': 'train', 'epoch': 0, 'batch': 1560, 'n_batches': 1723, 'time': 0.045, 'data_time': 0.0, 'lr': 0.001, 'loss': 0.36}\n",
            "INFO:Trainer:{'type': 'train', 'epoch': 0, 'batch': 1570, 'n_batches': 1723, 'time': 0.045, 'data_time': 0.0, 'lr': 0.001, 'loss': 0.252}\n",
            "INFO:Trainer:{'type': 'train', 'epoch': 0, 'batch': 1580, 'n_batches': 1723, 'time': 0.046, 'data_time': 0.0, 'lr': 0.001, 'loss': 1.774}\n",
            "INFO:Trainer:{'type': 'train', 'epoch': 0, 'batch': 1590, 'n_batches': 1723, 'time': 0.046, 'data_time': 0.0, 'lr': 0.001, 'loss': 0.979}\n",
            "INFO:Trainer:{'type': 'train', 'epoch': 0, 'batch': 1600, 'n_batches': 1723, 'time': 0.047, 'data_time': 0.0, 'lr': 0.001, 'loss': 0.651}\n",
            "INFO:Trainer:{'type': 'train', 'epoch': 0, 'batch': 1610, 'n_batches': 1723, 'time': 0.046, 'data_time': 0.0, 'lr': 0.001, 'loss': 0.194}\n",
            "INFO:Trainer:{'type': 'train', 'epoch': 0, 'batch': 1620, 'n_batches': 1723, 'time': 0.048, 'data_time': 0.0, 'lr': 0.001, 'loss': 0.487}\n",
            "INFO:Trainer:{'type': 'train', 'epoch': 0, 'batch': 1630, 'n_batches': 1723, 'time': 0.047, 'data_time': 0.0, 'lr': 0.001, 'loss': 2.077}\n",
            "INFO:Trainer:{'type': 'train', 'epoch': 0, 'batch': 1640, 'n_batches': 1723, 'time': 0.047, 'data_time': 0.0, 'lr': 0.001, 'loss': 0.92}\n",
            "INFO:Trainer:{'type': 'train', 'epoch': 0, 'batch': 1650, 'n_batches': 1723, 'time': 0.047, 'data_time': 0.0, 'lr': 0.001, 'loss': 1.27}\n",
            "INFO:Trainer:{'type': 'train', 'epoch': 0, 'batch': 1660, 'n_batches': 1723, 'time': 0.046, 'data_time': 0.0, 'lr': 0.001, 'loss': 15.691}\n",
            "INFO:Trainer:{'type': 'train', 'epoch': 0, 'batch': 1670, 'n_batches': 1723, 'time': 0.047, 'data_time': 0.0, 'lr': 0.001, 'loss': 7.581}\n",
            "INFO:Trainer:{'type': 'train', 'epoch': 0, 'batch': 1680, 'n_batches': 1723, 'time': 0.047, 'data_time': 0.0, 'lr': 0.001, 'loss': 1.322}\n",
            "INFO:Trainer:{'type': 'train', 'epoch': 0, 'batch': 1690, 'n_batches': 1723, 'time': 0.047, 'data_time': 0.0, 'lr': 0.001, 'loss': 1.836}\n",
            "INFO:Trainer:{'type': 'train', 'epoch': 0, 'batch': 1700, 'n_batches': 1723, 'time': 0.047, 'data_time': 0.0, 'lr': 0.001, 'loss': 0.154}\n",
            "INFO:Trainer:{'type': 'train', 'epoch': 0, 'batch': 1710, 'n_batches': 1723, 'time': 0.047, 'data_time': 0.0, 'lr': 0.001, 'loss': 0.342}\n",
            "INFO:Trainer:{'type': 'train', 'epoch': 0, 'batch': 1720, 'n_batches': 1723, 'time': 0.047, 'data_time': 0.0, 'lr': 0.001, 'loss': 0.569}\n",
            "INFO:Trainer:{'type': 'train-epoch', 'epoch': 1, 'loss': 1.44, 'time': 82.8}\n",
            "INFO:Trainer:{'type': 'val-epoch', 'epoch': 1, 'loss': 1.009, 'time': 10.5}\n",
            "epoch 1\n",
            "INFO:Trainer:{'type': 'train', 'epoch': 1, 'batch': 0, 'n_batches': 1723, 'time': 0.047, 'data_time': 0.0, 'lr': 0.001, 'loss': 0.921}\n",
            "INFO:Trainer:{'type': 'train', 'epoch': 1, 'batch': 10, 'n_batches': 1723, 'time': 0.049, 'data_time': 0.0, 'lr': 0.001, 'loss': 0.463}\n",
            "INFO:Trainer:{'type': 'train', 'epoch': 1, 'batch': 20, 'n_batches': 1723, 'time': 0.047, 'data_time': 0.0, 'lr': 0.001, 'loss': 0.754}\n",
            "INFO:Trainer:{'type': 'train', 'epoch': 1, 'batch': 30, 'n_batches': 1723, 'time': 0.046, 'data_time': 0.0, 'lr': 0.001, 'loss': 1.191}\n",
            "INFO:Trainer:{'type': 'train', 'epoch': 1, 'batch': 40, 'n_batches': 1723, 'time': 0.047, 'data_time': 0.0, 'lr': 0.001, 'loss': 0.517}\n",
            "INFO:Trainer:{'type': 'train', 'epoch': 1, 'batch': 50, 'n_batches': 1723, 'time': 0.047, 'data_time': 0.0, 'lr': 0.001, 'loss': 0.353}\n",
            "INFO:Trainer:{'type': 'train', 'epoch': 1, 'batch': 60, 'n_batches': 1723, 'time': 0.046, 'data_time': 0.0, 'lr': 0.001, 'loss': 0.268}\n",
            "INFO:Trainer:{'type': 'train', 'epoch': 1, 'batch': 70, 'n_batches': 1723, 'time': 0.047, 'data_time': 0.0, 'lr': 0.001, 'loss': 0.779}\n",
            "INFO:Trainer:{'type': 'train', 'epoch': 1, 'batch': 80, 'n_batches': 1723, 'time': 0.046, 'data_time': 0.0, 'lr': 0.001, 'loss': 0.378}\n",
            "INFO:Trainer:{'type': 'train', 'epoch': 1, 'batch': 90, 'n_batches': 1723, 'time': 0.046, 'data_time': 0.0, 'lr': 0.001, 'loss': 8.32}\n",
            "INFO:Trainer:{'type': 'train', 'epoch': 1, 'batch': 100, 'n_batches': 1723, 'time': 0.046, 'data_time': 0.0, 'lr': 0.001, 'loss': 0.649}\n",
            "INFO:Trainer:{'type': 'train', 'epoch': 1, 'batch': 110, 'n_batches': 1723, 'time': 0.046, 'data_time': 0.0, 'lr': 0.001, 'loss': 0.571}\n",
            "INFO:Trainer:{'type': 'train', 'epoch': 1, 'batch': 120, 'n_batches': 1723, 'time': 0.046, 'data_time': 0.0, 'lr': 0.001, 'loss': 0.277}\n",
            "INFO:Trainer:{'type': 'train', 'epoch': 1, 'batch': 130, 'n_batches': 1723, 'time': 0.047, 'data_time': 0.0, 'lr': 0.001, 'loss': 0.597}\n",
            "INFO:Trainer:{'type': 'train', 'epoch': 1, 'batch': 140, 'n_batches': 1723, 'time': 0.047, 'data_time': 0.0, 'lr': 0.001, 'loss': 0.648}\n",
            "INFO:Trainer:{'type': 'train', 'epoch': 1, 'batch': 150, 'n_batches': 1723, 'time': 0.046, 'data_time': 0.0, 'lr': 0.001, 'loss': 1.241}\n",
            "INFO:Trainer:{'type': 'train', 'epoch': 1, 'batch': 160, 'n_batches': 1723, 'time': 0.049, 'data_time': 0.0, 'lr': 0.001, 'loss': 0.859}\n",
            "INFO:Trainer:{'type': 'train', 'epoch': 1, 'batch': 170, 'n_batches': 1723, 'time': 0.046, 'data_time': 0.0, 'lr': 0.001, 'loss': 0.313}\n",
            "INFO:Trainer:{'type': 'train', 'epoch': 1, 'batch': 180, 'n_batches': 1723, 'time': 0.052, 'data_time': 0.0, 'lr': 0.001, 'loss': 0.392}\n",
            "INFO:Trainer:{'type': 'train', 'epoch': 1, 'batch': 190, 'n_batches': 1723, 'time': 0.066, 'data_time': 0.0, 'lr': 0.001, 'loss': 1.83}\n",
            "INFO:Trainer:{'type': 'train', 'epoch': 1, 'batch': 200, 'n_batches': 1723, 'time': 0.053, 'data_time': 0.0, 'lr': 0.001, 'loss': 0.219}\n",
            "INFO:Trainer:{'type': 'train', 'epoch': 1, 'batch': 210, 'n_batches': 1723, 'time': 0.046, 'data_time': 0.0, 'lr': 0.001, 'loss': 1.569}\n",
            "INFO:Trainer:{'type': 'train', 'epoch': 1, 'batch': 220, 'n_batches': 1723, 'time': 0.057, 'data_time': 0.0, 'lr': 0.001, 'loss': 0.69}\n",
            "INFO:Trainer:{'type': 'train', 'epoch': 1, 'batch': 230, 'n_batches': 1723, 'time': 0.048, 'data_time': 0.0, 'lr': 0.001, 'loss': 1.101}\n",
            "INFO:Trainer:{'type': 'train', 'epoch': 1, 'batch': 240, 'n_batches': 1723, 'time': 0.048, 'data_time': 0.0, 'lr': 0.001, 'loss': 0.874}\n",
            "INFO:Trainer:{'type': 'train', 'epoch': 1, 'batch': 250, 'n_batches': 1723, 'time': 0.047, 'data_time': 0.0, 'lr': 0.001, 'loss': 0.475}\n",
            "INFO:Trainer:{'type': 'train', 'epoch': 1, 'batch': 260, 'n_batches': 1723, 'time': 0.047, 'data_time': 0.0, 'lr': 0.001, 'loss': 0.499}\n",
            "INFO:Trainer:{'type': 'train', 'epoch': 1, 'batch': 270, 'n_batches': 1723, 'time': 0.047, 'data_time': 0.0, 'lr': 0.001, 'loss': 0.137}\n",
            "INFO:Trainer:{'type': 'train', 'epoch': 1, 'batch': 280, 'n_batches': 1723, 'time': 0.053, 'data_time': 0.0, 'lr': 0.001, 'loss': 0.457}\n",
            "INFO:Trainer:{'type': 'train', 'epoch': 1, 'batch': 290, 'n_batches': 1723, 'time': 0.048, 'data_time': 0.0, 'lr': 0.001, 'loss': 0.056}\n",
            "INFO:Trainer:{'type': 'train', 'epoch': 1, 'batch': 300, 'n_batches': 1723, 'time': 0.052, 'data_time': 0.0, 'lr': 0.001, 'loss': 0.347}\n",
            "INFO:Trainer:{'type': 'train', 'epoch': 1, 'batch': 310, 'n_batches': 1723, 'time': 0.048, 'data_time': 0.0, 'lr': 0.001, 'loss': 0.24}\n",
            "INFO:Trainer:{'type': 'train', 'epoch': 1, 'batch': 320, 'n_batches': 1723, 'time': 0.053, 'data_time': 0.0, 'lr': 0.001, 'loss': 0.078}\n",
            "INFO:Trainer:{'type': 'train', 'epoch': 1, 'batch': 330, 'n_batches': 1723, 'time': 0.048, 'data_time': 0.0, 'lr': 0.001, 'loss': 0.466}\n",
            "INFO:Trainer:{'type': 'train', 'epoch': 1, 'batch': 340, 'n_batches': 1723, 'time': 0.054, 'data_time': 0.0, 'lr': 0.001, 'loss': 1.112}\n",
            "INFO:Trainer:{'type': 'train', 'epoch': 1, 'batch': 350, 'n_batches': 1723, 'time': 0.047, 'data_time': 0.0, 'lr': 0.001, 'loss': 0.526}\n",
            "INFO:Trainer:{'type': 'train', 'epoch': 1, 'batch': 360, 'n_batches': 1723, 'time': 0.05, 'data_time': 0.0, 'lr': 0.001, 'loss': 1.895}\n",
            "INFO:Trainer:{'type': 'train', 'epoch': 1, 'batch': 370, 'n_batches': 1723, 'time': 0.047, 'data_time': 0.0, 'lr': 0.001, 'loss': 1.921}\n",
            "INFO:Trainer:{'type': 'train', 'epoch': 1, 'batch': 380, 'n_batches': 1723, 'time': 0.047, 'data_time': 0.0, 'lr': 0.001, 'loss': 3.882}\n",
            "INFO:Trainer:{'type': 'train', 'epoch': 1, 'batch': 390, 'n_batches': 1723, 'time': 0.047, 'data_time': 0.0, 'lr': 0.001, 'loss': 0.933}\n",
            "INFO:Trainer:{'type': 'train', 'epoch': 1, 'batch': 400, 'n_batches': 1723, 'time': 0.047, 'data_time': 0.0, 'lr': 0.001, 'loss': 0.326}\n",
            "INFO:Trainer:{'type': 'train', 'epoch': 1, 'batch': 410, 'n_batches': 1723, 'time': 0.047, 'data_time': 0.0, 'lr': 0.001, 'loss': 1.299}\n",
            "INFO:Trainer:{'type': 'train', 'epoch': 1, 'batch': 420, 'n_batches': 1723, 'time': 0.046, 'data_time': 0.0, 'lr': 0.001, 'loss': 0.337}\n",
            "INFO:Trainer:{'type': 'train', 'epoch': 1, 'batch': 430, 'n_batches': 1723, 'time': 0.047, 'data_time': 0.0, 'lr': 0.001, 'loss': 0.743}\n",
            "INFO:Trainer:{'type': 'train', 'epoch': 1, 'batch': 440, 'n_batches': 1723, 'time': 0.047, 'data_time': 0.0, 'lr': 0.001, 'loss': 0.206}\n",
            "INFO:Trainer:{'type': 'train', 'epoch': 1, 'batch': 450, 'n_batches': 1723, 'time': 0.047, 'data_time': 0.0, 'lr': 0.001, 'loss': 1.18}\n",
            "INFO:Trainer:{'type': 'train', 'epoch': 1, 'batch': 460, 'n_batches': 1723, 'time': 0.046, 'data_time': 0.0, 'lr': 0.001, 'loss': 0.931}\n",
            "INFO:Trainer:{'type': 'train', 'epoch': 1, 'batch': 470, 'n_batches': 1723, 'time': 0.048, 'data_time': 0.0, 'lr': 0.001, 'loss': 1.67}\n",
            "INFO:Trainer:{'type': 'train', 'epoch': 1, 'batch': 480, 'n_batches': 1723, 'time': 0.047, 'data_time': 0.0, 'lr': 0.001, 'loss': 0.996}\n",
            "INFO:Trainer:{'type': 'train', 'epoch': 1, 'batch': 490, 'n_batches': 1723, 'time': 0.047, 'data_time': 0.0, 'lr': 0.001, 'loss': 0.575}\n",
            "INFO:Trainer:{'type': 'train', 'epoch': 1, 'batch': 500, 'n_batches': 1723, 'time': 0.046, 'data_time': 0.0, 'lr': 0.001, 'loss': 2.086}\n",
            "INFO:Trainer:{'type': 'train', 'epoch': 1, 'batch': 510, 'n_batches': 1723, 'time': 0.046, 'data_time': 0.0, 'lr': 0.001, 'loss': 0.533}\n",
            "INFO:Trainer:{'type': 'train', 'epoch': 1, 'batch': 520, 'n_batches': 1723, 'time': 0.045, 'data_time': 0.0, 'lr': 0.001, 'loss': 0.569}\n",
            "INFO:Trainer:{'type': 'train', 'epoch': 1, 'batch': 530, 'n_batches': 1723, 'time': 0.046, 'data_time': 0.0, 'lr': 0.001, 'loss': 1.233}\n",
            "INFO:Trainer:{'type': 'train', 'epoch': 1, 'batch': 540, 'n_batches': 1723, 'time': 0.046, 'data_time': 0.0, 'lr': 0.001, 'loss': 0.253}\n",
            "INFO:Trainer:{'type': 'train', 'epoch': 1, 'batch': 550, 'n_batches': 1723, 'time': 0.046, 'data_time': 0.0, 'lr': 0.001, 'loss': 1.155}\n",
            "INFO:Trainer:{'type': 'train', 'epoch': 1, 'batch': 560, 'n_batches': 1723, 'time': 0.045, 'data_time': 0.0, 'lr': 0.001, 'loss': 1.073}\n",
            "INFO:Trainer:{'type': 'train', 'epoch': 1, 'batch': 570, 'n_batches': 1723, 'time': 0.045, 'data_time': 0.0, 'lr': 0.001, 'loss': 0.971}\n",
            "INFO:Trainer:{'type': 'train', 'epoch': 1, 'batch': 580, 'n_batches': 1723, 'time': 0.045, 'data_time': 0.0, 'lr': 0.001, 'loss': 0.436}\n",
            "INFO:Trainer:{'type': 'train', 'epoch': 1, 'batch': 590, 'n_batches': 1723, 'time': 0.046, 'data_time': 0.0, 'lr': 0.001, 'loss': 0.56}\n",
            "INFO:Trainer:{'type': 'train', 'epoch': 1, 'batch': 600, 'n_batches': 1723, 'time': 0.045, 'data_time': 0.0, 'lr': 0.001, 'loss': 0.073}\n",
            "INFO:Trainer:{'type': 'train', 'epoch': 1, 'batch': 610, 'n_batches': 1723, 'time': 0.045, 'data_time': 0.0, 'lr': 0.001, 'loss': 4.007}\n",
            "INFO:Trainer:{'type': 'train', 'epoch': 1, 'batch': 620, 'n_batches': 1723, 'time': 0.045, 'data_time': 0.0, 'lr': 0.001, 'loss': 2.99}\n",
            "INFO:Trainer:{'type': 'train', 'epoch': 1, 'batch': 630, 'n_batches': 1723, 'time': 0.045, 'data_time': 0.0, 'lr': 0.001, 'loss': 0.621}\n",
            "INFO:Trainer:{'type': 'train', 'epoch': 1, 'batch': 640, 'n_batches': 1723, 'time': 0.045, 'data_time': 0.0, 'lr': 0.001, 'loss': 0.784}\n",
            "INFO:Trainer:{'type': 'train', 'epoch': 1, 'batch': 650, 'n_batches': 1723, 'time': 0.046, 'data_time': 0.0, 'lr': 0.001, 'loss': 1.087}\n",
            "INFO:Trainer:{'type': 'train', 'epoch': 1, 'batch': 660, 'n_batches': 1723, 'time': 0.047, 'data_time': 0.0, 'lr': 0.001, 'loss': 0.546}\n",
            "INFO:Trainer:{'type': 'train', 'epoch': 1, 'batch': 670, 'n_batches': 1723, 'time': 0.047, 'data_time': 0.0, 'lr': 0.001, 'loss': 0.672}\n",
            "INFO:Trainer:{'type': 'train', 'epoch': 1, 'batch': 680, 'n_batches': 1723, 'time': 0.045, 'data_time': 0.0, 'lr': 0.001, 'loss': 0.699}\n",
            "INFO:Trainer:{'type': 'train', 'epoch': 1, 'batch': 690, 'n_batches': 1723, 'time': 0.048, 'data_time': 0.0, 'lr': 0.001, 'loss': 0.828}\n",
            "INFO:Trainer:{'type': 'train', 'epoch': 1, 'batch': 700, 'n_batches': 1723, 'time': 0.045, 'data_time': 0.0, 'lr': 0.001, 'loss': 1.745}\n",
            "INFO:Trainer:{'type': 'train', 'epoch': 1, 'batch': 710, 'n_batches': 1723, 'time': 0.046, 'data_time': 0.0, 'lr': 0.001, 'loss': 0.952}\n",
            "INFO:Trainer:{'type': 'train', 'epoch': 1, 'batch': 720, 'n_batches': 1723, 'time': 0.045, 'data_time': 0.0, 'lr': 0.001, 'loss': 0.638}\n",
            "INFO:Trainer:{'type': 'train', 'epoch': 1, 'batch': 730, 'n_batches': 1723, 'time': 0.046, 'data_time': 0.0, 'lr': 0.001, 'loss': 1.295}\n",
            "INFO:Trainer:{'type': 'train', 'epoch': 1, 'batch': 740, 'n_batches': 1723, 'time': 0.045, 'data_time': 0.0, 'lr': 0.001, 'loss': 1.856}\n",
            "INFO:Trainer:{'type': 'train', 'epoch': 1, 'batch': 750, 'n_batches': 1723, 'time': 0.051, 'data_time': 0.0, 'lr': 0.001, 'loss': 0.347}\n",
            "INFO:Trainer:{'type': 'train', 'epoch': 1, 'batch': 760, 'n_batches': 1723, 'time': 0.046, 'data_time': 0.0, 'lr': 0.001, 'loss': 1.196}\n",
            "INFO:Trainer:{'type': 'train', 'epoch': 1, 'batch': 770, 'n_batches': 1723, 'time': 0.046, 'data_time': 0.0, 'lr': 0.001, 'loss': 0.391}\n",
            "INFO:Trainer:{'type': 'train', 'epoch': 1, 'batch': 780, 'n_batches': 1723, 'time': 0.046, 'data_time': 0.0, 'lr': 0.001, 'loss': 1.203}\n",
            "INFO:Trainer:{'type': 'train', 'epoch': 1, 'batch': 790, 'n_batches': 1723, 'time': 0.045, 'data_time': 0.0, 'lr': 0.001, 'loss': 0.541}\n",
            "INFO:Trainer:{'type': 'train', 'epoch': 1, 'batch': 800, 'n_batches': 1723, 'time': 0.039, 'data_time': 0.0, 'lr': 0.001, 'loss': 2.54}\n",
            "INFO:Trainer:{'type': 'train', 'epoch': 1, 'batch': 810, 'n_batches': 1723, 'time': 0.045, 'data_time': 0.0, 'lr': 0.001, 'loss': 0.428}\n",
            "INFO:Trainer:{'type': 'train', 'epoch': 1, 'batch': 820, 'n_batches': 1723, 'time': 0.045, 'data_time': 0.0, 'lr': 0.001, 'loss': 0.435}\n",
            "INFO:Trainer:{'type': 'train', 'epoch': 1, 'batch': 830, 'n_batches': 1723, 'time': 0.045, 'data_time': 0.0, 'lr': 0.001, 'loss': 3.809}\n",
            "INFO:Trainer:{'type': 'train', 'epoch': 1, 'batch': 840, 'n_batches': 1723, 'time': 0.045, 'data_time': 0.0, 'lr': 0.001, 'loss': 0.445}\n",
            "INFO:Trainer:{'type': 'train', 'epoch': 1, 'batch': 850, 'n_batches': 1723, 'time': 0.045, 'data_time': 0.0, 'lr': 0.001, 'loss': 1.084}\n",
            "INFO:Trainer:{'type': 'train', 'epoch': 1, 'batch': 860, 'n_batches': 1723, 'time': 0.058, 'data_time': 0.0, 'lr': 0.001, 'loss': 2.12}\n",
            "INFO:Trainer:{'type': 'train', 'epoch': 1, 'batch': 870, 'n_batches': 1723, 'time': 0.046, 'data_time': 0.0, 'lr': 0.001, 'loss': 0.772}\n",
            "INFO:Trainer:{'type': 'train', 'epoch': 1, 'batch': 880, 'n_batches': 1723, 'time': 0.045, 'data_time': 0.0, 'lr': 0.001, 'loss': 0.123}\n",
            "INFO:Trainer:{'type': 'train', 'epoch': 1, 'batch': 890, 'n_batches': 1723, 'time': 0.045, 'data_time': 0.0, 'lr': 0.001, 'loss': 0.709}\n",
            "INFO:Trainer:{'type': 'train', 'epoch': 1, 'batch': 900, 'n_batches': 1723, 'time': 0.045, 'data_time': 0.0, 'lr': 0.001, 'loss': 0.899}\n",
            "INFO:Trainer:{'type': 'train', 'epoch': 1, 'batch': 910, 'n_batches': 1723, 'time': 0.045, 'data_time': 0.0, 'lr': 0.001, 'loss': 0.355}\n",
            "INFO:Trainer:{'type': 'train', 'epoch': 1, 'batch': 920, 'n_batches': 1723, 'time': 0.045, 'data_time': 0.0, 'lr': 0.001, 'loss': 0.255}\n",
            "INFO:Trainer:{'type': 'train', 'epoch': 1, 'batch': 930, 'n_batches': 1723, 'time': 0.044, 'data_time': 0.0, 'lr': 0.001, 'loss': 1.226}\n",
            "INFO:Trainer:{'type': 'train', 'epoch': 1, 'batch': 940, 'n_batches': 1723, 'time': 0.046, 'data_time': 0.0, 'lr': 0.001, 'loss': 0.529}\n",
            "INFO:Trainer:{'type': 'train', 'epoch': 1, 'batch': 950, 'n_batches': 1723, 'time': 0.044, 'data_time': 0.0, 'lr': 0.001, 'loss': 0.807}\n",
            "INFO:Trainer:{'type': 'train', 'epoch': 1, 'batch': 960, 'n_batches': 1723, 'time': 0.047, 'data_time': 0.0, 'lr': 0.001, 'loss': 2.29}\n",
            "INFO:Trainer:{'type': 'train', 'epoch': 1, 'batch': 970, 'n_batches': 1723, 'time': 0.045, 'data_time': 0.0, 'lr': 0.001, 'loss': 0.668}\n",
            "INFO:Trainer:{'type': 'train', 'epoch': 1, 'batch': 980, 'n_batches': 1723, 'time': 0.045, 'data_time': 0.0, 'lr': 0.001, 'loss': 3.083}\n",
            "INFO:Trainer:{'type': 'train', 'epoch': 1, 'batch': 990, 'n_batches': 1723, 'time': 0.045, 'data_time': 0.0, 'lr': 0.001, 'loss': 2.568}\n",
            "INFO:Trainer:{'type': 'train', 'epoch': 1, 'batch': 1000, 'n_batches': 1723, 'time': 0.054, 'data_time': 0.0, 'lr': 0.001, 'loss': 0.139}\n",
            "INFO:Trainer:{'type': 'train', 'epoch': 1, 'batch': 1010, 'n_batches': 1723, 'time': 0.045, 'data_time': 0.0, 'lr': 0.001, 'loss': 0.897}\n",
            "INFO:Trainer:{'type': 'train', 'epoch': 1, 'batch': 1020, 'n_batches': 1723, 'time': 0.046, 'data_time': 0.0, 'lr': 0.001, 'loss': 1.118}\n",
            "INFO:Trainer:{'type': 'train', 'epoch': 1, 'batch': 1030, 'n_batches': 1723, 'time': 0.045, 'data_time': 0.0, 'lr': 0.001, 'loss': 0.272}\n",
            "INFO:Trainer:{'type': 'train', 'epoch': 1, 'batch': 1040, 'n_batches': 1723, 'time': 0.046, 'data_time': 0.0, 'lr': 0.001, 'loss': 0.743}\n",
            "INFO:Trainer:{'type': 'train', 'epoch': 1, 'batch': 1050, 'n_batches': 1723, 'time': 0.045, 'data_time': 0.0, 'lr': 0.001, 'loss': 0.475}\n",
            "INFO:Trainer:{'type': 'train', 'epoch': 1, 'batch': 1060, 'n_batches': 1723, 'time': 0.046, 'data_time': 0.0, 'lr': 0.001, 'loss': 0.679}\n",
            "INFO:Trainer:{'type': 'train', 'epoch': 1, 'batch': 1070, 'n_batches': 1723, 'time': 0.045, 'data_time': 0.0, 'lr': 0.001, 'loss': 0.296}\n",
            "INFO:Trainer:{'type': 'train', 'epoch': 1, 'batch': 1080, 'n_batches': 1723, 'time': 0.047, 'data_time': 0.0, 'lr': 0.001, 'loss': 0.264}\n",
            "INFO:Trainer:{'type': 'train', 'epoch': 1, 'batch': 1090, 'n_batches': 1723, 'time': 0.046, 'data_time': 0.0, 'lr': 0.001, 'loss': 1.48}\n",
            "INFO:Trainer:{'type': 'train', 'epoch': 1, 'batch': 1100, 'n_batches': 1723, 'time': 0.046, 'data_time': 0.0, 'lr': 0.001, 'loss': 0.516}\n",
            "INFO:Trainer:{'type': 'train', 'epoch': 1, 'batch': 1110, 'n_batches': 1723, 'time': 0.046, 'data_time': 0.0, 'lr': 0.001, 'loss': 0.469}\n",
            "INFO:Trainer:{'type': 'train', 'epoch': 1, 'batch': 1120, 'n_batches': 1723, 'time': 0.046, 'data_time': 0.0, 'lr': 0.001, 'loss': 2.811}\n",
            "INFO:Trainer:{'type': 'train', 'epoch': 1, 'batch': 1130, 'n_batches': 1723, 'time': 0.046, 'data_time': 0.0, 'lr': 0.001, 'loss': 1.853}\n",
            "INFO:Trainer:{'type': 'train', 'epoch': 1, 'batch': 1140, 'n_batches': 1723, 'time': 0.046, 'data_time': 0.0, 'lr': 0.001, 'loss': 1.076}\n",
            "INFO:Trainer:{'type': 'train', 'epoch': 1, 'batch': 1150, 'n_batches': 1723, 'time': 0.045, 'data_time': 0.0, 'lr': 0.001, 'loss': 0.443}\n",
            "INFO:Trainer:{'type': 'train', 'epoch': 1, 'batch': 1160, 'n_batches': 1723, 'time': 0.047, 'data_time': 0.0, 'lr': 0.001, 'loss': 0.256}\n",
            "INFO:Trainer:{'type': 'train', 'epoch': 1, 'batch': 1170, 'n_batches': 1723, 'time': 0.046, 'data_time': 0.0, 'lr': 0.001, 'loss': 1.902}\n",
            "INFO:Trainer:{'type': 'train', 'epoch': 1, 'batch': 1180, 'n_batches': 1723, 'time': 0.046, 'data_time': 0.0, 'lr': 0.001, 'loss': 0.452}\n",
            "INFO:Trainer:{'type': 'train', 'epoch': 1, 'batch': 1190, 'n_batches': 1723, 'time': 0.047, 'data_time': 0.0, 'lr': 0.001, 'loss': 1.372}\n",
            "INFO:Trainer:{'type': 'train', 'epoch': 1, 'batch': 1200, 'n_batches': 1723, 'time': 0.046, 'data_time': 0.0, 'lr': 0.001, 'loss': 0.189}\n",
            "INFO:Trainer:{'type': 'train', 'epoch': 1, 'batch': 1210, 'n_batches': 1723, 'time': 0.047, 'data_time': 0.0, 'lr': 0.001, 'loss': 0.739}\n",
            "INFO:Trainer:{'type': 'train', 'epoch': 1, 'batch': 1220, 'n_batches': 1723, 'time': 0.046, 'data_time': 0.0, 'lr': 0.001, 'loss': 0.452}\n",
            "INFO:Trainer:{'type': 'train', 'epoch': 1, 'batch': 1230, 'n_batches': 1723, 'time': 0.047, 'data_time': 0.0, 'lr': 0.001, 'loss': 0.819}\n",
            "INFO:Trainer:{'type': 'train', 'epoch': 1, 'batch': 1240, 'n_batches': 1723, 'time': 0.047, 'data_time': 0.0, 'lr': 0.001, 'loss': 0.285}\n",
            "INFO:Trainer:{'type': 'train', 'epoch': 1, 'batch': 1250, 'n_batches': 1723, 'time': 0.046, 'data_time': 0.0, 'lr': 0.001, 'loss': 0.42}\n",
            "INFO:Trainer:{'type': 'train', 'epoch': 1, 'batch': 1260, 'n_batches': 1723, 'time': 0.045, 'data_time': 0.0, 'lr': 0.001, 'loss': 0.744}\n",
            "INFO:Trainer:{'type': 'train', 'epoch': 1, 'batch': 1270, 'n_batches': 1723, 'time': 0.046, 'data_time': 0.0, 'lr': 0.001, 'loss': 0.352}\n",
            "INFO:Trainer:{'type': 'train', 'epoch': 1, 'batch': 1280, 'n_batches': 1723, 'time': 0.046, 'data_time': 0.0, 'lr': 0.001, 'loss': 1.091}\n",
            "INFO:Trainer:{'type': 'train', 'epoch': 1, 'batch': 1290, 'n_batches': 1723, 'time': 0.06, 'data_time': 0.0, 'lr': 0.001, 'loss': 0.214}\n",
            "INFO:Trainer:{'type': 'train', 'epoch': 1, 'batch': 1300, 'n_batches': 1723, 'time': 0.046, 'data_time': 0.0, 'lr': 0.001, 'loss': 0.339}\n",
            "INFO:Trainer:{'type': 'train', 'epoch': 1, 'batch': 1310, 'n_batches': 1723, 'time': 0.046, 'data_time': 0.0, 'lr': 0.001, 'loss': 1.88}\n",
            "INFO:Trainer:{'type': 'train', 'epoch': 1, 'batch': 1320, 'n_batches': 1723, 'time': 0.046, 'data_time': 0.0, 'lr': 0.001, 'loss': 0.645}\n",
            "INFO:Trainer:{'type': 'train', 'epoch': 1, 'batch': 1330, 'n_batches': 1723, 'time': 0.047, 'data_time': 0.0, 'lr': 0.001, 'loss': 2.381}\n",
            "INFO:Trainer:{'type': 'train', 'epoch': 1, 'batch': 1340, 'n_batches': 1723, 'time': 0.047, 'data_time': 0.0, 'lr': 0.001, 'loss': 0.507}\n",
            "INFO:Trainer:{'type': 'train', 'epoch': 1, 'batch': 1350, 'n_batches': 1723, 'time': 0.047, 'data_time': 0.0, 'lr': 0.001, 'loss': 0.972}\n",
            "INFO:Trainer:{'type': 'train', 'epoch': 1, 'batch': 1360, 'n_batches': 1723, 'time': 0.045, 'data_time': 0.0, 'lr': 0.001, 'loss': 1.87}\n",
            "INFO:Trainer:{'type': 'train', 'epoch': 1, 'batch': 1370, 'n_batches': 1723, 'time': 0.051, 'data_time': 0.0, 'lr': 0.001, 'loss': 0.241}\n",
            "INFO:Trainer:{'type': 'train', 'epoch': 1, 'batch': 1380, 'n_batches': 1723, 'time': 0.046, 'data_time': 0.0, 'lr': 0.001, 'loss': 0.72}\n",
            "INFO:Trainer:{'type': 'train', 'epoch': 1, 'batch': 1390, 'n_batches': 1723, 'time': 0.051, 'data_time': 0.0, 'lr': 0.001, 'loss': 0.688}\n",
            "INFO:Trainer:{'type': 'train', 'epoch': 1, 'batch': 1400, 'n_batches': 1723, 'time': 0.045, 'data_time': 0.0, 'lr': 0.001, 'loss': 0.313}\n",
            "INFO:Trainer:{'type': 'train', 'epoch': 1, 'batch': 1410, 'n_batches': 1723, 'time': 0.046, 'data_time': 0.0, 'lr': 0.001, 'loss': 0.557}\n",
            "INFO:Trainer:{'type': 'train', 'epoch': 1, 'batch': 1420, 'n_batches': 1723, 'time': 0.047, 'data_time': 0.0, 'lr': 0.001, 'loss': 0.322}\n",
            "INFO:Trainer:{'type': 'train', 'epoch': 1, 'batch': 1430, 'n_batches': 1723, 'time': 0.045, 'data_time': 0.0, 'lr': 0.001, 'loss': 1.116}\n",
            "INFO:Trainer:{'type': 'train', 'epoch': 1, 'batch': 1440, 'n_batches': 1723, 'time': 0.046, 'data_time': 0.0, 'lr': 0.001, 'loss': 0.234}\n",
            "INFO:Trainer:{'type': 'train', 'epoch': 1, 'batch': 1450, 'n_batches': 1723, 'time': 0.046, 'data_time': 0.0, 'lr': 0.001, 'loss': 1.925}\n",
            "INFO:Trainer:{'type': 'train', 'epoch': 1, 'batch': 1460, 'n_batches': 1723, 'time': 0.046, 'data_time': 0.0, 'lr': 0.001, 'loss': 1.361}\n",
            "INFO:Trainer:{'type': 'train', 'epoch': 1, 'batch': 1470, 'n_batches': 1723, 'time': 0.046, 'data_time': 0.0, 'lr': 0.001, 'loss': 0.626}\n",
            "INFO:Trainer:{'type': 'train', 'epoch': 1, 'batch': 1480, 'n_batches': 1723, 'time': 0.046, 'data_time': 0.0, 'lr': 0.001, 'loss': 1.175}\n",
            "INFO:Trainer:{'type': 'train', 'epoch': 1, 'batch': 1490, 'n_batches': 1723, 'time': 0.045, 'data_time': 0.0, 'lr': 0.001, 'loss': 0.153}\n",
            "INFO:Trainer:{'type': 'train', 'epoch': 1, 'batch': 1500, 'n_batches': 1723, 'time': 0.053, 'data_time': 0.0, 'lr': 0.001, 'loss': 0.346}\n",
            "INFO:Trainer:{'type': 'train', 'epoch': 1, 'batch': 1510, 'n_batches': 1723, 'time': 0.046, 'data_time': 0.0, 'lr': 0.001, 'loss': 0.255}\n",
            "INFO:Trainer:{'type': 'train', 'epoch': 1, 'batch': 1520, 'n_batches': 1723, 'time': 0.047, 'data_time': 0.0, 'lr': 0.001, 'loss': 0.839}\n",
            "INFO:Trainer:{'type': 'train', 'epoch': 1, 'batch': 1530, 'n_batches': 1723, 'time': 0.046, 'data_time': 0.0, 'lr': 0.001, 'loss': 0.55}\n",
            "INFO:Trainer:{'type': 'train', 'epoch': 1, 'batch': 1540, 'n_batches': 1723, 'time': 0.047, 'data_time': 0.0, 'lr': 0.001, 'loss': 0.444}\n",
            "INFO:Trainer:{'type': 'train', 'epoch': 1, 'batch': 1550, 'n_batches': 1723, 'time': 0.046, 'data_time': 0.0, 'lr': 0.001, 'loss': 0.518}\n",
            "INFO:Trainer:{'type': 'train', 'epoch': 1, 'batch': 1560, 'n_batches': 1723, 'time': 0.046, 'data_time': 0.0, 'lr': 0.001, 'loss': 0.507}\n",
            "INFO:Trainer:{'type': 'train', 'epoch': 1, 'batch': 1570, 'n_batches': 1723, 'time': 0.046, 'data_time': 0.0, 'lr': 0.001, 'loss': 0.474}\n",
            "INFO:Trainer:{'type': 'train', 'epoch': 1, 'batch': 1580, 'n_batches': 1723, 'time': 0.046, 'data_time': 0.0, 'lr': 0.001, 'loss': 0.388}\n",
            "INFO:Trainer:{'type': 'train', 'epoch': 1, 'batch': 1590, 'n_batches': 1723, 'time': 0.045, 'data_time': 0.0, 'lr': 0.001, 'loss': 1.248}\n",
            "INFO:Trainer:{'type': 'train', 'epoch': 1, 'batch': 1600, 'n_batches': 1723, 'time': 0.047, 'data_time': 0.0, 'lr': 0.001, 'loss': 1.386}\n",
            "INFO:Trainer:{'type': 'train', 'epoch': 1, 'batch': 1610, 'n_batches': 1723, 'time': 0.046, 'data_time': 0.0, 'lr': 0.001, 'loss': 2.204}\n",
            "INFO:Trainer:{'type': 'train', 'epoch': 1, 'batch': 1620, 'n_batches': 1723, 'time': 0.047, 'data_time': 0.0, 'lr': 0.001, 'loss': 0.379}\n",
            "INFO:Trainer:{'type': 'train', 'epoch': 1, 'batch': 1630, 'n_batches': 1723, 'time': 0.046, 'data_time': 0.0, 'lr': 0.001, 'loss': 0.533}\n",
            "INFO:Trainer:{'type': 'train', 'epoch': 1, 'batch': 1640, 'n_batches': 1723, 'time': 0.047, 'data_time': 0.0, 'lr': 0.001, 'loss': 0.632}\n",
            "INFO:Trainer:{'type': 'train', 'epoch': 1, 'batch': 1650, 'n_batches': 1723, 'time': 0.046, 'data_time': 0.0, 'lr': 0.001, 'loss': 0.523}\n",
            "INFO:Trainer:{'type': 'train', 'epoch': 1, 'batch': 1660, 'n_batches': 1723, 'time': 0.046, 'data_time': 0.0, 'lr': 0.001, 'loss': 0.407}\n",
            "INFO:Trainer:{'type': 'train', 'epoch': 1, 'batch': 1670, 'n_batches': 1723, 'time': 0.046, 'data_time': 0.0, 'lr': 0.001, 'loss': 0.432}\n",
            "INFO:Trainer:{'type': 'train', 'epoch': 1, 'batch': 1680, 'n_batches': 1723, 'time': 0.046, 'data_time': 0.0, 'lr': 0.001, 'loss': 1.224}\n",
            "INFO:Trainer:{'type': 'train', 'epoch': 1, 'batch': 1690, 'n_batches': 1723, 'time': 0.046, 'data_time': 0.0, 'lr': 0.001, 'loss': 0.262}\n",
            "INFO:Trainer:{'type': 'train', 'epoch': 1, 'batch': 1700, 'n_batches': 1723, 'time': 0.047, 'data_time': 0.0, 'lr': 0.001, 'loss': 0.255}\n",
            "INFO:Trainer:{'type': 'train', 'epoch': 1, 'batch': 1710, 'n_batches': 1723, 'time': 0.061, 'data_time': 0.0, 'lr': 0.001, 'loss': 0.284}\n",
            "INFO:Trainer:{'type': 'train', 'epoch': 1, 'batch': 1720, 'n_batches': 1723, 'time': 0.048, 'data_time': 0.0, 'lr': 0.001, 'loss': 1.673}\n",
            "INFO:Trainer:{'type': 'train-epoch', 'epoch': 2, 'loss': 1.054, 'time': 85.4}\n",
            "INFO:Trainer:{'type': 'val-epoch', 'epoch': 2, 'loss': 1.052, 'time': 10.5}\n",
            "epoch 2\n",
            "INFO:Trainer:{'type': 'train', 'epoch': 2, 'batch': 0, 'n_batches': 1723, 'time': 0.048, 'data_time': 0.0, 'lr': 0.001, 'loss': 0.606}\n",
            "INFO:Trainer:{'type': 'train', 'epoch': 2, 'batch': 10, 'n_batches': 1723, 'time': 0.048, 'data_time': 0.0, 'lr': 0.001, 'loss': 2.838}\n",
            "INFO:Trainer:{'type': 'train', 'epoch': 2, 'batch': 20, 'n_batches': 1723, 'time': 0.047, 'data_time': 0.0, 'lr': 0.001, 'loss': 1.367}\n",
            "INFO:Trainer:{'type': 'train', 'epoch': 2, 'batch': 30, 'n_batches': 1723, 'time': 0.047, 'data_time': 0.0, 'lr': 0.001, 'loss': 2.733}\n",
            "INFO:Trainer:{'type': 'train', 'epoch': 2, 'batch': 40, 'n_batches': 1723, 'time': 0.046, 'data_time': 0.0, 'lr': 0.001, 'loss': 0.901}\n",
            "INFO:Trainer:{'type': 'train', 'epoch': 2, 'batch': 50, 'n_batches': 1723, 'time': 0.049, 'data_time': 0.0, 'lr': 0.001, 'loss': 0.541}\n",
            "INFO:Trainer:{'type': 'train', 'epoch': 2, 'batch': 60, 'n_batches': 1723, 'time': 0.048, 'data_time': 0.0, 'lr': 0.001, 'loss': 0.832}\n",
            "INFO:Trainer:{'type': 'train', 'epoch': 2, 'batch': 70, 'n_batches': 1723, 'time': 0.049, 'data_time': 0.0, 'lr': 0.001, 'loss': 0.984}\n",
            "INFO:Trainer:{'type': 'train', 'epoch': 2, 'batch': 80, 'n_batches': 1723, 'time': 0.048, 'data_time': 0.0, 'lr': 0.001, 'loss': 1.453}\n",
            "INFO:Trainer:{'type': 'train', 'epoch': 2, 'batch': 90, 'n_batches': 1723, 'time': 0.049, 'data_time': 0.0, 'lr': 0.001, 'loss': 1.731}\n",
            "INFO:Trainer:{'type': 'train', 'epoch': 2, 'batch': 100, 'n_batches': 1723, 'time': 0.047, 'data_time': 0.0, 'lr': 0.001, 'loss': 0.762}\n",
            "INFO:Trainer:{'type': 'train', 'epoch': 2, 'batch': 110, 'n_batches': 1723, 'time': 0.047, 'data_time': 0.0, 'lr': 0.001, 'loss': 0.728}\n",
            "INFO:Trainer:{'type': 'train', 'epoch': 2, 'batch': 120, 'n_batches': 1723, 'time': 0.047, 'data_time': 0.0, 'lr': 0.001, 'loss': 0.522}\n",
            "INFO:Trainer:{'type': 'train', 'epoch': 2, 'batch': 130, 'n_batches': 1723, 'time': 0.049, 'data_time': 0.0, 'lr': 0.001, 'loss': 0.607}\n",
            "INFO:Trainer:{'type': 'train', 'epoch': 2, 'batch': 140, 'n_batches': 1723, 'time': 0.048, 'data_time': 0.0, 'lr': 0.001, 'loss': 0.279}\n",
            "INFO:Trainer:{'type': 'train', 'epoch': 2, 'batch': 150, 'n_batches': 1723, 'time': 0.047, 'data_time': 0.0, 'lr': 0.001, 'loss': 0.293}\n",
            "INFO:Trainer:{'type': 'train', 'epoch': 2, 'batch': 160, 'n_batches': 1723, 'time': 0.046, 'data_time': 0.0, 'lr': 0.001, 'loss': 0.677}\n",
            "INFO:Trainer:{'type': 'train', 'epoch': 2, 'batch': 170, 'n_batches': 1723, 'time': 0.047, 'data_time': 0.0, 'lr': 0.001, 'loss': 0.515}\n",
            "INFO:Trainer:{'type': 'train', 'epoch': 2, 'batch': 180, 'n_batches': 1723, 'time': 0.047, 'data_time': 0.0, 'lr': 0.001, 'loss': 0.41}\n",
            "INFO:Trainer:{'type': 'train', 'epoch': 2, 'batch': 190, 'n_batches': 1723, 'time': 0.047, 'data_time': 0.0, 'lr': 0.001, 'loss': 1.623}\n",
            "INFO:Trainer:{'type': 'train', 'epoch': 2, 'batch': 200, 'n_batches': 1723, 'time': 0.046, 'data_time': 0.0, 'lr': 0.001, 'loss': 0.839}\n",
            "INFO:Trainer:{'type': 'train', 'epoch': 2, 'batch': 210, 'n_batches': 1723, 'time': 0.048, 'data_time': 0.0, 'lr': 0.001, 'loss': 0.538}\n",
            "INFO:Trainer:{'type': 'train', 'epoch': 2, 'batch': 220, 'n_batches': 1723, 'time': 0.048, 'data_time': 0.0, 'lr': 0.001, 'loss': 0.344}\n",
            "INFO:Trainer:{'type': 'train', 'epoch': 2, 'batch': 230, 'n_batches': 1723, 'time': 0.047, 'data_time': 0.0, 'lr': 0.001, 'loss': 0.391}\n",
            "INFO:Trainer:{'type': 'train', 'epoch': 2, 'batch': 240, 'n_batches': 1723, 'time': 0.045, 'data_time': 0.0, 'lr': 0.001, 'loss': 3.09}\n",
            "INFO:Trainer:{'type': 'train', 'epoch': 2, 'batch': 250, 'n_batches': 1723, 'time': 0.047, 'data_time': 0.0, 'lr': 0.001, 'loss': 1.165}\n",
            "INFO:Trainer:{'type': 'train', 'epoch': 2, 'batch': 260, 'n_batches': 1723, 'time': 0.047, 'data_time': 0.0, 'lr': 0.001, 'loss': 0.212}\n",
            "INFO:Trainer:{'type': 'train', 'epoch': 2, 'batch': 270, 'n_batches': 1723, 'time': 0.047, 'data_time': 0.0, 'lr': 0.001, 'loss': 0.866}\n",
            "INFO:Trainer:{'type': 'train', 'epoch': 2, 'batch': 280, 'n_batches': 1723, 'time': 0.047, 'data_time': 0.0, 'lr': 0.001, 'loss': 0.528}\n",
            "INFO:Trainer:{'type': 'train', 'epoch': 2, 'batch': 290, 'n_batches': 1723, 'time': 0.048, 'data_time': 0.0, 'lr': 0.001, 'loss': 1.958}\n",
            "INFO:Trainer:{'type': 'train', 'epoch': 2, 'batch': 300, 'n_batches': 1723, 'time': 0.047, 'data_time': 0.0, 'lr': 0.001, 'loss': 0.494}\n",
            "INFO:Trainer:{'type': 'train', 'epoch': 2, 'batch': 310, 'n_batches': 1723, 'time': 0.048, 'data_time': 0.0, 'lr': 0.001, 'loss': 0.366}\n",
            "INFO:Trainer:{'type': 'train', 'epoch': 2, 'batch': 320, 'n_batches': 1723, 'time': 0.047, 'data_time': 0.0, 'lr': 0.001, 'loss': 0.534}\n",
            "INFO:Trainer:{'type': 'train', 'epoch': 2, 'batch': 330, 'n_batches': 1723, 'time': 0.051, 'data_time': 0.0, 'lr': 0.001, 'loss': 1.197}\n",
            "INFO:Trainer:{'type': 'train', 'epoch': 2, 'batch': 340, 'n_batches': 1723, 'time': 0.047, 'data_time': 0.0, 'lr': 0.001, 'loss': 0.311}\n",
            "INFO:Trainer:{'type': 'train', 'epoch': 2, 'batch': 350, 'n_batches': 1723, 'time': 0.047, 'data_time': 0.0, 'lr': 0.001, 'loss': 0.401}\n",
            "INFO:Trainer:{'type': 'train', 'epoch': 2, 'batch': 360, 'n_batches': 1723, 'time': 0.047, 'data_time': 0.0, 'lr': 0.001, 'loss': 4.593}\n",
            "INFO:Trainer:{'type': 'train', 'epoch': 2, 'batch': 370, 'n_batches': 1723, 'time': 0.053, 'data_time': 0.0, 'lr': 0.001, 'loss': 0.149}\n",
            "INFO:Trainer:{'type': 'train', 'epoch': 2, 'batch': 380, 'n_batches': 1723, 'time': 0.048, 'data_time': 0.0, 'lr': 0.001, 'loss': 0.452}\n",
            "INFO:Trainer:{'type': 'train', 'epoch': 2, 'batch': 390, 'n_batches': 1723, 'time': 0.046, 'data_time': 0.0, 'lr': 0.001, 'loss': 2.08}\n",
            "INFO:Trainer:{'type': 'train', 'epoch': 2, 'batch': 400, 'n_batches': 1723, 'time': 0.046, 'data_time': 0.0, 'lr': 0.001, 'loss': 0.319}\n",
            "INFO:Trainer:{'type': 'train', 'epoch': 2, 'batch': 410, 'n_batches': 1723, 'time': 0.047, 'data_time': 0.0, 'lr': 0.001, 'loss': 1.415}\n",
            "INFO:Trainer:{'type': 'train', 'epoch': 2, 'batch': 420, 'n_batches': 1723, 'time': 0.047, 'data_time': 0.0, 'lr': 0.001, 'loss': 0.604}\n",
            "INFO:Trainer:{'type': 'train', 'epoch': 2, 'batch': 430, 'n_batches': 1723, 'time': 0.046, 'data_time': 0.0, 'lr': 0.001, 'loss': 0.276}\n",
            "INFO:Trainer:{'type': 'train', 'epoch': 2, 'batch': 440, 'n_batches': 1723, 'time': 0.047, 'data_time': 0.0, 'lr': 0.001, 'loss': 1.489}\n",
            "INFO:Trainer:{'type': 'train', 'epoch': 2, 'batch': 450, 'n_batches': 1723, 'time': 0.046, 'data_time': 0.0, 'lr': 0.001, 'loss': 1.373}\n",
            "INFO:Trainer:{'type': 'train', 'epoch': 2, 'batch': 460, 'n_batches': 1723, 'time': 0.047, 'data_time': 0.0, 'lr': 0.001, 'loss': 0.835}\n",
            "INFO:Trainer:{'type': 'train', 'epoch': 2, 'batch': 470, 'n_batches': 1723, 'time': 0.052, 'data_time': 0.0, 'lr': 0.001, 'loss': 3.608}\n",
            "INFO:Trainer:{'type': 'train', 'epoch': 2, 'batch': 480, 'n_batches': 1723, 'time': 0.047, 'data_time': 0.0, 'lr': 0.001, 'loss': 0.907}\n",
            "INFO:Trainer:{'type': 'train', 'epoch': 2, 'batch': 490, 'n_batches': 1723, 'time': 0.047, 'data_time': 0.0, 'lr': 0.001, 'loss': 0.279}\n",
            "INFO:Trainer:{'type': 'train', 'epoch': 2, 'batch': 500, 'n_batches': 1723, 'time': 0.048, 'data_time': 0.0, 'lr': 0.001, 'loss': 0.35}\n",
            "INFO:Trainer:{'type': 'train', 'epoch': 2, 'batch': 510, 'n_batches': 1723, 'time': 0.046, 'data_time': 0.0, 'lr': 0.001, 'loss': 1.303}\n",
            "INFO:Trainer:{'type': 'train', 'epoch': 2, 'batch': 520, 'n_batches': 1723, 'time': 0.047, 'data_time': 0.0, 'lr': 0.001, 'loss': 0.322}\n",
            "INFO:Trainer:{'type': 'train', 'epoch': 2, 'batch': 530, 'n_batches': 1723, 'time': 0.047, 'data_time': 0.0, 'lr': 0.001, 'loss': 0.466}\n",
            "INFO:Trainer:{'type': 'train', 'epoch': 2, 'batch': 540, 'n_batches': 1723, 'time': 0.048, 'data_time': 0.0, 'lr': 0.001, 'loss': 0.399}\n",
            "INFO:Trainer:{'type': 'train', 'epoch': 2, 'batch': 550, 'n_batches': 1723, 'time': 0.047, 'data_time': 0.0, 'lr': 0.001, 'loss': 0.904}\n",
            "INFO:Trainer:{'type': 'train', 'epoch': 2, 'batch': 560, 'n_batches': 1723, 'time': 0.047, 'data_time': 0.0, 'lr': 0.001, 'loss': 0.275}\n",
            "INFO:Trainer:{'type': 'train', 'epoch': 2, 'batch': 570, 'n_batches': 1723, 'time': 0.047, 'data_time': 0.0, 'lr': 0.001, 'loss': 2.726}\n",
            "INFO:Trainer:{'type': 'train', 'epoch': 2, 'batch': 580, 'n_batches': 1723, 'time': 0.047, 'data_time': 0.0, 'lr': 0.001, 'loss': 0.21}\n",
            "INFO:Trainer:{'type': 'train', 'epoch': 2, 'batch': 590, 'n_batches': 1723, 'time': 0.047, 'data_time': 0.0, 'lr': 0.001, 'loss': 0.128}\n",
            "INFO:Trainer:{'type': 'train', 'epoch': 2, 'batch': 600, 'n_batches': 1723, 'time': 0.047, 'data_time': 0.0, 'lr': 0.001, 'loss': 0.526}\n",
            "INFO:Trainer:{'type': 'train', 'epoch': 2, 'batch': 610, 'n_batches': 1723, 'time': 0.047, 'data_time': 0.0, 'lr': 0.001, 'loss': 1.347}\n",
            "INFO:Trainer:{'type': 'train', 'epoch': 2, 'batch': 620, 'n_batches': 1723, 'time': 0.047, 'data_time': 0.0, 'lr': 0.001, 'loss': 2.072}\n",
            "INFO:Trainer:{'type': 'train', 'epoch': 2, 'batch': 630, 'n_batches': 1723, 'time': 0.046, 'data_time': 0.0, 'lr': 0.001, 'loss': 0.599}\n",
            "INFO:Trainer:{'type': 'train', 'epoch': 2, 'batch': 640, 'n_batches': 1723, 'time': 0.047, 'data_time': 0.0, 'lr': 0.001, 'loss': 0.105}\n",
            "INFO:Trainer:{'type': 'train', 'epoch': 2, 'batch': 650, 'n_batches': 1723, 'time': 0.047, 'data_time': 0.0, 'lr': 0.001, 'loss': 0.827}\n",
            "INFO:Trainer:{'type': 'train', 'epoch': 2, 'batch': 660, 'n_batches': 1723, 'time': 0.05, 'data_time': 0.0, 'lr': 0.001, 'loss': 0.488}\n",
            "INFO:Trainer:{'type': 'train', 'epoch': 2, 'batch': 670, 'n_batches': 1723, 'time': 0.047, 'data_time': 0.0, 'lr': 0.001, 'loss': 0.282}\n",
            "INFO:Trainer:{'type': 'train', 'epoch': 2, 'batch': 680, 'n_batches': 1723, 'time': 0.048, 'data_time': 0.0, 'lr': 0.001, 'loss': 0.757}\n",
            "INFO:Trainer:{'type': 'train', 'epoch': 2, 'batch': 690, 'n_batches': 1723, 'time': 0.046, 'data_time': 0.0, 'lr': 0.001, 'loss': 0.317}\n",
            "INFO:Trainer:{'type': 'train', 'epoch': 2, 'batch': 700, 'n_batches': 1723, 'time': 0.046, 'data_time': 0.0, 'lr': 0.001, 'loss': 1.064}\n",
            "INFO:Trainer:{'type': 'train', 'epoch': 2, 'batch': 710, 'n_batches': 1723, 'time': 0.047, 'data_time': 0.0, 'lr': 0.001, 'loss': 1.364}\n",
            "INFO:Trainer:{'type': 'train', 'epoch': 2, 'batch': 720, 'n_batches': 1723, 'time': 0.047, 'data_time': 0.0, 'lr': 0.001, 'loss': 0.675}\n",
            "INFO:Trainer:{'type': 'train', 'epoch': 2, 'batch': 730, 'n_batches': 1723, 'time': 0.047, 'data_time': 0.0, 'lr': 0.001, 'loss': 0.568}\n",
            "INFO:Trainer:{'type': 'train', 'epoch': 2, 'batch': 740, 'n_batches': 1723, 'time': 0.047, 'data_time': 0.0, 'lr': 0.001, 'loss': 0.547}\n",
            "INFO:Trainer:{'type': 'train', 'epoch': 2, 'batch': 750, 'n_batches': 1723, 'time': 0.048, 'data_time': 0.0, 'lr': 0.001, 'loss': 0.816}\n",
            "INFO:Trainer:{'type': 'train', 'epoch': 2, 'batch': 760, 'n_batches': 1723, 'time': 0.047, 'data_time': 0.0, 'lr': 0.001, 'loss': 0.081}\n",
            "INFO:Trainer:{'type': 'train', 'epoch': 2, 'batch': 770, 'n_batches': 1723, 'time': 0.047, 'data_time': 0.0, 'lr': 0.001, 'loss': 0.727}\n",
            "INFO:Trainer:{'type': 'train', 'epoch': 2, 'batch': 780, 'n_batches': 1723, 'time': 0.047, 'data_time': 0.0, 'lr': 0.001, 'loss': 1.377}\n",
            "INFO:Trainer:{'type': 'train', 'epoch': 2, 'batch': 790, 'n_batches': 1723, 'time': 0.049, 'data_time': 0.0, 'lr': 0.001, 'loss': 0.511}\n",
            "INFO:Trainer:{'type': 'train', 'epoch': 2, 'batch': 800, 'n_batches': 1723, 'time': 0.048, 'data_time': 0.0, 'lr': 0.001, 'loss': 0.635}\n",
            "INFO:Trainer:{'type': 'train', 'epoch': 2, 'batch': 810, 'n_batches': 1723, 'time': 0.05, 'data_time': 0.0, 'lr': 0.001, 'loss': 1.068}\n",
            "INFO:Trainer:{'type': 'train', 'epoch': 2, 'batch': 820, 'n_batches': 1723, 'time': 0.048, 'data_time': 0.0, 'lr': 0.001, 'loss': 1.622}\n",
            "INFO:Trainer:{'type': 'train', 'epoch': 2, 'batch': 830, 'n_batches': 1723, 'time': 0.05, 'data_time': 0.0, 'lr': 0.001, 'loss': 0.311}\n",
            "INFO:Trainer:{'type': 'train', 'epoch': 2, 'batch': 840, 'n_batches': 1723, 'time': 0.048, 'data_time': 0.0, 'lr': 0.001, 'loss': 0.51}\n",
            "INFO:Trainer:{'type': 'train', 'epoch': 2, 'batch': 850, 'n_batches': 1723, 'time': 0.047, 'data_time': 0.0, 'lr': 0.001, 'loss': 1.094}\n",
            "INFO:Trainer:{'type': 'train', 'epoch': 2, 'batch': 860, 'n_batches': 1723, 'time': 0.046, 'data_time': 0.0, 'lr': 0.001, 'loss': 0.251}\n",
            "INFO:Trainer:{'type': 'train', 'epoch': 2, 'batch': 870, 'n_batches': 1723, 'time': 0.047, 'data_time': 0.0, 'lr': 0.001, 'loss': 0.437}\n",
            "INFO:Trainer:{'type': 'train', 'epoch': 2, 'batch': 880, 'n_batches': 1723, 'time': 0.047, 'data_time': 0.0, 'lr': 0.001, 'loss': 2.312}\n",
            "INFO:Trainer:{'type': 'train', 'epoch': 2, 'batch': 890, 'n_batches': 1723, 'time': 0.048, 'data_time': 0.0, 'lr': 0.001, 'loss': 2.081}\n",
            "INFO:Trainer:{'type': 'train', 'epoch': 2, 'batch': 900, 'n_batches': 1723, 'time': 0.047, 'data_time': 0.0, 'lr': 0.001, 'loss': 0.615}\n",
            "INFO:Trainer:{'type': 'train', 'epoch': 2, 'batch': 910, 'n_batches': 1723, 'time': 0.051, 'data_time': 0.001, 'lr': 0.001, 'loss': 1.041}\n",
            "INFO:Trainer:{'type': 'train', 'epoch': 2, 'batch': 920, 'n_batches': 1723, 'time': 0.047, 'data_time': 0.0, 'lr': 0.001, 'loss': 0.299}\n",
            "INFO:Trainer:{'type': 'train', 'epoch': 2, 'batch': 930, 'n_batches': 1723, 'time': 0.052, 'data_time': 0.0, 'lr': 0.001, 'loss': 3.264}\n",
            "INFO:Trainer:{'type': 'train', 'epoch': 2, 'batch': 940, 'n_batches': 1723, 'time': 0.047, 'data_time': 0.0, 'lr': 0.001, 'loss': 0.956}\n",
            "INFO:Trainer:{'type': 'train', 'epoch': 2, 'batch': 950, 'n_batches': 1723, 'time': 0.053, 'data_time': 0.0, 'lr': 0.001, 'loss': 1.016}\n",
            "INFO:Trainer:{'type': 'train', 'epoch': 2, 'batch': 960, 'n_batches': 1723, 'time': 0.047, 'data_time': 0.0, 'lr': 0.001, 'loss': 0.249}\n",
            "INFO:Trainer:{'type': 'train', 'epoch': 2, 'batch': 970, 'n_batches': 1723, 'time': 0.052, 'data_time': 0.0, 'lr': 0.001, 'loss': 0.421}\n",
            "INFO:Trainer:{'type': 'train', 'epoch': 2, 'batch': 980, 'n_batches': 1723, 'time': 0.053, 'data_time': 0.0, 'lr': 0.001, 'loss': 0.595}\n",
            "INFO:Trainer:{'type': 'train', 'epoch': 2, 'batch': 990, 'n_batches': 1723, 'time': 0.052, 'data_time': 0.0, 'lr': 0.001, 'loss': 0.514}\n",
            "INFO:Trainer:{'type': 'train', 'epoch': 2, 'batch': 1000, 'n_batches': 1723, 'time': 0.047, 'data_time': 0.0, 'lr': 0.001, 'loss': 0.653}\n",
            "INFO:Trainer:{'type': 'train', 'epoch': 2, 'batch': 1010, 'n_batches': 1723, 'time': 0.054, 'data_time': 0.0, 'lr': 0.001, 'loss': 0.231}\n",
            "INFO:Trainer:{'type': 'train', 'epoch': 2, 'batch': 1020, 'n_batches': 1723, 'time': 0.047, 'data_time': 0.0, 'lr': 0.001, 'loss': 0.195}\n",
            "INFO:Trainer:{'type': 'train', 'epoch': 2, 'batch': 1030, 'n_batches': 1723, 'time': 0.052, 'data_time': 0.0, 'lr': 0.001, 'loss': 0.242}\n",
            "INFO:Trainer:{'type': 'train', 'epoch': 2, 'batch': 1040, 'n_batches': 1723, 'time': 0.048, 'data_time': 0.0, 'lr': 0.001, 'loss': 1.146}\n",
            "INFO:Trainer:{'type': 'train', 'epoch': 2, 'batch': 1050, 'n_batches': 1723, 'time': 0.053, 'data_time': 0.0, 'lr': 0.001, 'loss': 0.271}\n",
            "INFO:Trainer:{'type': 'train', 'epoch': 2, 'batch': 1060, 'n_batches': 1723, 'time': 0.048, 'data_time': 0.0, 'lr': 0.001, 'loss': 0.442}\n",
            "INFO:Trainer:{'type': 'train', 'epoch': 2, 'batch': 1070, 'n_batches': 1723, 'time': 0.053, 'data_time': 0.0, 'lr': 0.001, 'loss': 2.931}\n",
            "INFO:Trainer:{'type': 'train', 'epoch': 2, 'batch': 1080, 'n_batches': 1723, 'time': 0.048, 'data_time': 0.0, 'lr': 0.001, 'loss': 0.187}\n",
            "INFO:Trainer:{'type': 'train', 'epoch': 2, 'batch': 1090, 'n_batches': 1723, 'time': 0.054, 'data_time': 0.0, 'lr': 0.001, 'loss': 2.121}\n",
            "INFO:Trainer:{'type': 'train', 'epoch': 2, 'batch': 1100, 'n_batches': 1723, 'time': 0.048, 'data_time': 0.0, 'lr': 0.001, 'loss': 0.56}\n",
            "INFO:Trainer:{'type': 'train', 'epoch': 2, 'batch': 1110, 'n_batches': 1723, 'time': 0.053, 'data_time': 0.0, 'lr': 0.001, 'loss': 0.568}\n",
            "INFO:Trainer:{'type': 'train', 'epoch': 2, 'batch': 1120, 'n_batches': 1723, 'time': 0.048, 'data_time': 0.0, 'lr': 0.001, 'loss': 1.931}\n",
            "INFO:Trainer:{'type': 'train', 'epoch': 2, 'batch': 1130, 'n_batches': 1723, 'time': 0.053, 'data_time': 0.0, 'lr': 0.001, 'loss': 0.228}\n",
            "INFO:Trainer:{'type': 'train', 'epoch': 2, 'batch': 1140, 'n_batches': 1723, 'time': 0.056, 'data_time': 0.0, 'lr': 0.001, 'loss': 1.379}\n",
            "INFO:Trainer:{'type': 'train', 'epoch': 2, 'batch': 1150, 'n_batches': 1723, 'time': 0.048, 'data_time': 0.0, 'lr': 0.001, 'loss': 0.541}\n",
            "INFO:Trainer:{'type': 'train', 'epoch': 2, 'batch': 1160, 'n_batches': 1723, 'time': 0.047, 'data_time': 0.0, 'lr': 0.001, 'loss': 0.527}\n",
            "INFO:Trainer:{'type': 'train', 'epoch': 2, 'batch': 1170, 'n_batches': 1723, 'time': 0.048, 'data_time': 0.0, 'lr': 0.001, 'loss': 2.415}\n",
            "INFO:Trainer:{'type': 'train', 'epoch': 2, 'batch': 1180, 'n_batches': 1723, 'time': 0.047, 'data_time': 0.0, 'lr': 0.001, 'loss': 0.202}\n",
            "INFO:Trainer:{'type': 'train', 'epoch': 2, 'batch': 1190, 'n_batches': 1723, 'time': 0.048, 'data_time': 0.0, 'lr': 0.001, 'loss': 0.448}\n",
            "INFO:Trainer:{'type': 'train', 'epoch': 2, 'batch': 1200, 'n_batches': 1723, 'time': 0.048, 'data_time': 0.0, 'lr': 0.001, 'loss': 0.464}\n",
            "INFO:Trainer:{'type': 'train', 'epoch': 2, 'batch': 1210, 'n_batches': 1723, 'time': 0.047, 'data_time': 0.0, 'lr': 0.001, 'loss': 0.348}\n",
            "INFO:Trainer:{'type': 'train', 'epoch': 2, 'batch': 1220, 'n_batches': 1723, 'time': 0.048, 'data_time': 0.0, 'lr': 0.001, 'loss': 1.053}\n",
            "INFO:Trainer:{'type': 'train', 'epoch': 2, 'batch': 1230, 'n_batches': 1723, 'time': 0.047, 'data_time': 0.0, 'lr': 0.001, 'loss': 0.292}\n",
            "INFO:Trainer:{'type': 'train', 'epoch': 2, 'batch': 1240, 'n_batches': 1723, 'time': 0.048, 'data_time': 0.0, 'lr': 0.001, 'loss': 0.718}\n",
            "INFO:Trainer:{'type': 'train', 'epoch': 2, 'batch': 1250, 'n_batches': 1723, 'time': 0.049, 'data_time': 0.0, 'lr': 0.001, 'loss': 0.415}\n",
            "INFO:Trainer:{'type': 'train', 'epoch': 2, 'batch': 1260, 'n_batches': 1723, 'time': 0.05, 'data_time': 0.0, 'lr': 0.001, 'loss': 0.301}\n",
            "INFO:Trainer:{'type': 'train', 'epoch': 2, 'batch': 1270, 'n_batches': 1723, 'time': 0.048, 'data_time': 0.0, 'lr': 0.001, 'loss': 0.592}\n",
            "INFO:Trainer:{'type': 'train', 'epoch': 2, 'batch': 1280, 'n_batches': 1723, 'time': 0.048, 'data_time': 0.0, 'lr': 0.001, 'loss': 0.272}\n",
            "INFO:Trainer:{'type': 'train', 'epoch': 2, 'batch': 1290, 'n_batches': 1723, 'time': 0.047, 'data_time': 0.0, 'lr': 0.001, 'loss': 1.588}\n",
            "INFO:Trainer:{'type': 'train', 'epoch': 2, 'batch': 1300, 'n_batches': 1723, 'time': 0.047, 'data_time': 0.0, 'lr': 0.001, 'loss': 0.348}\n",
            "INFO:Trainer:{'type': 'train', 'epoch': 2, 'batch': 1310, 'n_batches': 1723, 'time': 0.047, 'data_time': 0.0, 'lr': 0.001, 'loss': 0.257}\n",
            "INFO:Trainer:{'type': 'train', 'epoch': 2, 'batch': 1320, 'n_batches': 1723, 'time': 0.047, 'data_time': 0.0, 'lr': 0.001, 'loss': 1.734}\n",
            "INFO:Trainer:{'type': 'train', 'epoch': 2, 'batch': 1330, 'n_batches': 1723, 'time': 0.047, 'data_time': 0.0, 'lr': 0.001, 'loss': 0.793}\n",
            "INFO:Trainer:{'type': 'train', 'epoch': 2, 'batch': 1340, 'n_batches': 1723, 'time': 0.047, 'data_time': 0.0, 'lr': 0.001, 'loss': 0.989}\n",
            "INFO:Trainer:{'type': 'train', 'epoch': 2, 'batch': 1350, 'n_batches': 1723, 'time': 0.048, 'data_time': 0.0, 'lr': 0.001, 'loss': 0.666}\n",
            "INFO:Trainer:{'type': 'train', 'epoch': 2, 'batch': 1360, 'n_batches': 1723, 'time': 0.057, 'data_time': 0.0, 'lr': 0.001, 'loss': 0.716}\n",
            "INFO:Trainer:{'type': 'train', 'epoch': 2, 'batch': 1370, 'n_batches': 1723, 'time': 0.047, 'data_time': 0.0, 'lr': 0.001, 'loss': 1.194}\n",
            "INFO:Trainer:{'type': 'train', 'epoch': 2, 'batch': 1380, 'n_batches': 1723, 'time': 0.048, 'data_time': 0.0, 'lr': 0.001, 'loss': 0.217}\n",
            "INFO:Trainer:{'type': 'train', 'epoch': 2, 'batch': 1390, 'n_batches': 1723, 'time': 0.049, 'data_time': 0.0, 'lr': 0.001, 'loss': 1.001}\n",
            "INFO:Trainer:{'type': 'train', 'epoch': 2, 'batch': 1400, 'n_batches': 1723, 'time': 0.048, 'data_time': 0.0, 'lr': 0.001, 'loss': 0.932}\n",
            "INFO:Trainer:{'type': 'train', 'epoch': 2, 'batch': 1410, 'n_batches': 1723, 'time': 0.048, 'data_time': 0.0, 'lr': 0.001, 'loss': 0.529}\n",
            "INFO:Trainer:{'type': 'train', 'epoch': 2, 'batch': 1420, 'n_batches': 1723, 'time': 0.048, 'data_time': 0.0, 'lr': 0.001, 'loss': 0.63}\n",
            "INFO:Trainer:{'type': 'train', 'epoch': 2, 'batch': 1430, 'n_batches': 1723, 'time': 0.047, 'data_time': 0.0, 'lr': 0.001, 'loss': 1.899}\n",
            "INFO:Trainer:{'type': 'train', 'epoch': 2, 'batch': 1440, 'n_batches': 1723, 'time': 0.047, 'data_time': 0.0, 'lr': 0.001, 'loss': 1.41}\n",
            "INFO:Trainer:{'type': 'train', 'epoch': 2, 'batch': 1450, 'n_batches': 1723, 'time': 0.048, 'data_time': 0.0, 'lr': 0.001, 'loss': 0.503}\n",
            "INFO:Trainer:{'type': 'train', 'epoch': 2, 'batch': 1460, 'n_batches': 1723, 'time': 0.047, 'data_time': 0.0, 'lr': 0.001, 'loss': 0.366}\n",
            "INFO:Trainer:{'type': 'train', 'epoch': 2, 'batch': 1470, 'n_batches': 1723, 'time': 0.048, 'data_time': 0.0, 'lr': 0.001, 'loss': 0.381}\n",
            "INFO:Trainer:{'type': 'train', 'epoch': 2, 'batch': 1480, 'n_batches': 1723, 'time': 0.047, 'data_time': 0.0, 'lr': 0.001, 'loss': 0.659}\n",
            "INFO:Trainer:{'type': 'train', 'epoch': 2, 'batch': 1490, 'n_batches': 1723, 'time': 0.049, 'data_time': 0.0, 'lr': 0.001, 'loss': 0.39}\n",
            "INFO:Trainer:{'type': 'train', 'epoch': 2, 'batch': 1500, 'n_batches': 1723, 'time': 0.047, 'data_time': 0.0, 'lr': 0.001, 'loss': 0.181}\n",
            "INFO:Trainer:{'type': 'train', 'epoch': 2, 'batch': 1510, 'n_batches': 1723, 'time': 0.048, 'data_time': 0.0, 'lr': 0.001, 'loss': 0.932}\n",
            "INFO:Trainer:{'type': 'train', 'epoch': 2, 'batch': 1520, 'n_batches': 1723, 'time': 0.059, 'data_time': 0.0, 'lr': 0.001, 'loss': 1.462}\n",
            "INFO:Trainer:{'type': 'train', 'epoch': 2, 'batch': 1530, 'n_batches': 1723, 'time': 0.048, 'data_time': 0.0, 'lr': 0.001, 'loss': 0.321}\n",
            "INFO:Trainer:{'type': 'train', 'epoch': 2, 'batch': 1540, 'n_batches': 1723, 'time': 0.047, 'data_time': 0.0, 'lr': 0.001, 'loss': 0.332}\n",
            "INFO:Trainer:{'type': 'train', 'epoch': 2, 'batch': 1550, 'n_batches': 1723, 'time': 0.047, 'data_time': 0.0, 'lr': 0.001, 'loss': 0.302}\n",
            "INFO:Trainer:{'type': 'train', 'epoch': 2, 'batch': 1560, 'n_batches': 1723, 'time': 0.047, 'data_time': 0.0, 'lr': 0.001, 'loss': 0.159}\n",
            "INFO:Trainer:{'type': 'train', 'epoch': 2, 'batch': 1570, 'n_batches': 1723, 'time': 0.046, 'data_time': 0.0, 'lr': 0.001, 'loss': 11.113}\n",
            "INFO:Trainer:{'type': 'train', 'epoch': 2, 'batch': 1580, 'n_batches': 1723, 'time': 0.047, 'data_time': 0.0, 'lr': 0.001, 'loss': 0.431}\n",
            "INFO:Trainer:{'type': 'train', 'epoch': 2, 'batch': 1590, 'n_batches': 1723, 'time': 0.047, 'data_time': 0.0, 'lr': 0.001, 'loss': 0.51}\n",
            "INFO:Trainer:{'type': 'train', 'epoch': 2, 'batch': 1600, 'n_batches': 1723, 'time': 0.048, 'data_time': 0.0, 'lr': 0.001, 'loss': 1.032}\n",
            "INFO:Trainer:{'type': 'train', 'epoch': 2, 'batch': 1610, 'n_batches': 1723, 'time': 0.049, 'data_time': 0.0, 'lr': 0.001, 'loss': 0.231}\n",
            "INFO:Trainer:{'type': 'train', 'epoch': 2, 'batch': 1620, 'n_batches': 1723, 'time': 0.048, 'data_time': 0.0, 'lr': 0.001, 'loss': 0.478}\n",
            "INFO:Trainer:{'type': 'train', 'epoch': 2, 'batch': 1630, 'n_batches': 1723, 'time': 0.048, 'data_time': 0.0, 'lr': 0.001, 'loss': 0.985}\n",
            "INFO:Trainer:{'type': 'train', 'epoch': 2, 'batch': 1640, 'n_batches': 1723, 'time': 0.048, 'data_time': 0.0, 'lr': 0.001, 'loss': 2.438}\n",
            "INFO:Trainer:{'type': 'train', 'epoch': 2, 'batch': 1650, 'n_batches': 1723, 'time': 0.061, 'data_time': 0.0, 'lr': 0.001, 'loss': 0.109}\n",
            "INFO:Trainer:{'type': 'train', 'epoch': 2, 'batch': 1660, 'n_batches': 1723, 'time': 0.048, 'data_time': 0.0, 'lr': 0.001, 'loss': 0.764}\n",
            "INFO:Trainer:{'type': 'train', 'epoch': 2, 'batch': 1670, 'n_batches': 1723, 'time': 0.048, 'data_time': 0.0, 'lr': 0.001, 'loss': 0.403}\n",
            "INFO:Trainer:{'type': 'train', 'epoch': 2, 'batch': 1680, 'n_batches': 1723, 'time': 0.047, 'data_time': 0.0, 'lr': 0.001, 'loss': 0.943}\n",
            "INFO:Trainer:{'type': 'train', 'epoch': 2, 'batch': 1690, 'n_batches': 1723, 'time': 0.049, 'data_time': 0.0, 'lr': 0.001, 'loss': 0.98}\n",
            "INFO:Trainer:{'type': 'train', 'epoch': 2, 'batch': 1700, 'n_batches': 1723, 'time': 0.049, 'data_time': 0.0, 'lr': 0.001, 'loss': 0.442}\n",
            "INFO:Trainer:{'type': 'train', 'epoch': 2, 'batch': 1710, 'n_batches': 1723, 'time': 0.049, 'data_time': 0.0, 'lr': 0.001, 'loss': 0.835}\n",
            "INFO:Trainer:{'type': 'train', 'epoch': 2, 'batch': 1720, 'n_batches': 1723, 'time': 0.048, 'data_time': 0.0, 'lr': 0.001, 'loss': 0.941}\n",
            "INFO:Trainer:{'type': 'train-epoch', 'epoch': 3, 'loss': 0.983, 'time': 87.6}\n",
            "INFO:Trainer:{'type': 'val-epoch', 'epoch': 3, 'loss': 1.026, 'time': 10.7}\n",
            "epoch 3\n",
            "INFO:Trainer:{'type': 'train', 'epoch': 3, 'batch': 0, 'n_batches': 1723, 'time': 0.049, 'data_time': 0.0, 'lr': 0.001, 'loss': 0.751}\n",
            "INFO:Trainer:{'type': 'train', 'epoch': 3, 'batch': 10, 'n_batches': 1723, 'time': 0.048, 'data_time': 0.0, 'lr': 0.001, 'loss': 0.228}\n",
            "INFO:Trainer:{'type': 'train', 'epoch': 3, 'batch': 20, 'n_batches': 1723, 'time': 0.048, 'data_time': 0.0, 'lr': 0.001, 'loss': 0.969}\n",
            "INFO:Trainer:{'type': 'train', 'epoch': 3, 'batch': 30, 'n_batches': 1723, 'time': 0.047, 'data_time': 0.0, 'lr': 0.001, 'loss': 0.746}\n",
            "INFO:Trainer:{'type': 'train', 'epoch': 3, 'batch': 40, 'n_batches': 1723, 'time': 0.047, 'data_time': 0.0, 'lr': 0.001, 'loss': 0.379}\n",
            "INFO:Trainer:{'type': 'train', 'epoch': 3, 'batch': 50, 'n_batches': 1723, 'time': 0.048, 'data_time': 0.0, 'lr': 0.001, 'loss': 0.616}\n",
            "INFO:Trainer:{'type': 'train', 'epoch': 3, 'batch': 60, 'n_batches': 1723, 'time': 0.049, 'data_time': 0.0, 'lr': 0.001, 'loss': 0.665}\n",
            "INFO:Trainer:{'type': 'train', 'epoch': 3, 'batch': 70, 'n_batches': 1723, 'time': 0.048, 'data_time': 0.0, 'lr': 0.001, 'loss': 1.305}\n",
            "INFO:Trainer:{'type': 'train', 'epoch': 3, 'batch': 80, 'n_batches': 1723, 'time': 0.048, 'data_time': 0.0, 'lr': 0.001, 'loss': 0.345}\n",
            "INFO:Trainer:{'type': 'train', 'epoch': 3, 'batch': 90, 'n_batches': 1723, 'time': 0.048, 'data_time': 0.0, 'lr': 0.001, 'loss': 3.367}\n",
            "INFO:Trainer:{'type': 'train', 'epoch': 3, 'batch': 100, 'n_batches': 1723, 'time': 0.048, 'data_time': 0.0, 'lr': 0.001, 'loss': 0.475}\n",
            "INFO:Trainer:{'type': 'train', 'epoch': 3, 'batch': 110, 'n_batches': 1723, 'time': 0.058, 'data_time': 0.0, 'lr': 0.001, 'loss': 0.958}\n",
            "INFO:Trainer:{'type': 'train', 'epoch': 3, 'batch': 120, 'n_batches': 1723, 'time': 0.048, 'data_time': 0.0, 'lr': 0.001, 'loss': 0.357}\n",
            "INFO:Trainer:{'type': 'train', 'epoch': 3, 'batch': 130, 'n_batches': 1723, 'time': 0.047, 'data_time': 0.0, 'lr': 0.001, 'loss': 1.796}\n",
            "INFO:Trainer:{'type': 'train', 'epoch': 3, 'batch': 140, 'n_batches': 1723, 'time': 0.048, 'data_time': 0.0, 'lr': 0.001, 'loss': 0.539}\n",
            "INFO:Trainer:{'type': 'train', 'epoch': 3, 'batch': 150, 'n_batches': 1723, 'time': 0.051, 'data_time': 0.0, 'lr': 0.001, 'loss': 0.592}\n",
            "INFO:Trainer:{'type': 'train', 'epoch': 3, 'batch': 160, 'n_batches': 1723, 'time': 0.049, 'data_time': 0.0, 'lr': 0.001, 'loss': 2.565}\n",
            "INFO:Trainer:{'type': 'train', 'epoch': 3, 'batch': 170, 'n_batches': 1723, 'time': 0.048, 'data_time': 0.0, 'lr': 0.001, 'loss': 0.5}\n",
            "INFO:Trainer:{'type': 'train', 'epoch': 3, 'batch': 180, 'n_batches': 1723, 'time': 0.048, 'data_time': 0.0, 'lr': 0.001, 'loss': 4.215}\n",
            "INFO:Trainer:{'type': 'train', 'epoch': 3, 'batch': 190, 'n_batches': 1723, 'time': 0.048, 'data_time': 0.0, 'lr': 0.001, 'loss': 0.528}\n",
            "INFO:Trainer:{'type': 'train', 'epoch': 3, 'batch': 200, 'n_batches': 1723, 'time': 0.048, 'data_time': 0.0, 'lr': 0.001, 'loss': 1.396}\n",
            "INFO:Trainer:{'type': 'train', 'epoch': 3, 'batch': 210, 'n_batches': 1723, 'time': 0.047, 'data_time': 0.0, 'lr': 0.001, 'loss': 0.161}\n",
            "INFO:Trainer:{'type': 'train', 'epoch': 3, 'batch': 220, 'n_batches': 1723, 'time': 0.049, 'data_time': 0.0, 'lr': 0.001, 'loss': 0.247}\n",
            "INFO:Trainer:{'type': 'train', 'epoch': 3, 'batch': 230, 'n_batches': 1723, 'time': 0.048, 'data_time': 0.0, 'lr': 0.001, 'loss': 0.618}\n",
            "INFO:Trainer:{'type': 'train', 'epoch': 3, 'batch': 240, 'n_batches': 1723, 'time': 0.047, 'data_time': 0.0, 'lr': 0.001, 'loss': 0.24}\n",
            "INFO:Trainer:{'type': 'train', 'epoch': 3, 'batch': 250, 'n_batches': 1723, 'time': 0.047, 'data_time': 0.0, 'lr': 0.001, 'loss': 0.772}\n",
            "INFO:Trainer:{'type': 'train', 'epoch': 3, 'batch': 260, 'n_batches': 1723, 'time': 0.048, 'data_time': 0.0, 'lr': 0.001, 'loss': 0.213}\n",
            "INFO:Trainer:{'type': 'train', 'epoch': 3, 'batch': 270, 'n_batches': 1723, 'time': 0.048, 'data_time': 0.0, 'lr': 0.001, 'loss': 1.92}\n",
            "INFO:Trainer:{'type': 'train', 'epoch': 3, 'batch': 280, 'n_batches': 1723, 'time': 0.048, 'data_time': 0.0, 'lr': 0.001, 'loss': 0.633}\n",
            "INFO:Trainer:{'type': 'train', 'epoch': 3, 'batch': 290, 'n_batches': 1723, 'time': 0.048, 'data_time': 0.0, 'lr': 0.001, 'loss': 0.148}\n",
            "INFO:Trainer:{'type': 'train', 'epoch': 3, 'batch': 300, 'n_batches': 1723, 'time': 0.047, 'data_time': 0.0, 'lr': 0.001, 'loss': 0.493}\n",
            "INFO:Trainer:{'type': 'train', 'epoch': 3, 'batch': 310, 'n_batches': 1723, 'time': 0.047, 'data_time': 0.0, 'lr': 0.001, 'loss': 1.605}\n",
            "INFO:Trainer:{'type': 'train', 'epoch': 3, 'batch': 320, 'n_batches': 1723, 'time': 0.048, 'data_time': 0.0, 'lr': 0.001, 'loss': 1.731}\n",
            "INFO:Trainer:{'type': 'train', 'epoch': 3, 'batch': 330, 'n_batches': 1723, 'time': 0.05, 'data_time': 0.0, 'lr': 0.001, 'loss': 0.334}\n",
            "INFO:Trainer:{'type': 'train', 'epoch': 3, 'batch': 340, 'n_batches': 1723, 'time': 0.048, 'data_time': 0.0, 'lr': 0.001, 'loss': 0.872}\n",
            "INFO:Trainer:{'type': 'train', 'epoch': 3, 'batch': 350, 'n_batches': 1723, 'time': 0.048, 'data_time': 0.0, 'lr': 0.001, 'loss': 0.756}\n",
            "INFO:Trainer:{'type': 'train', 'epoch': 3, 'batch': 360, 'n_batches': 1723, 'time': 0.047, 'data_time': 0.0, 'lr': 0.001, 'loss': 1.206}\n",
            "INFO:Trainer:{'type': 'train', 'epoch': 3, 'batch': 370, 'n_batches': 1723, 'time': 0.048, 'data_time': 0.0, 'lr': 0.001, 'loss': 2.926}\n",
            "INFO:Trainer:{'type': 'train', 'epoch': 3, 'batch': 380, 'n_batches': 1723, 'time': 0.048, 'data_time': 0.0, 'lr': 0.001, 'loss': 2.508}\n",
            "INFO:Trainer:{'type': 'train', 'epoch': 3, 'batch': 390, 'n_batches': 1723, 'time': 0.048, 'data_time': 0.0, 'lr': 0.001, 'loss': 0.129}\n",
            "INFO:Trainer:{'type': 'train', 'epoch': 3, 'batch': 400, 'n_batches': 1723, 'time': 0.059, 'data_time': 0.0, 'lr': 0.001, 'loss': 0.408}\n",
            "INFO:Trainer:{'type': 'train', 'epoch': 3, 'batch': 410, 'n_batches': 1723, 'time': 0.048, 'data_time': 0.0, 'lr': 0.001, 'loss': 1.996}\n",
            "INFO:Trainer:{'type': 'train', 'epoch': 3, 'batch': 420, 'n_batches': 1723, 'time': 0.053, 'data_time': 0.0, 'lr': 0.001, 'loss': 0.214}\n",
            "INFO:Trainer:{'type': 'train', 'epoch': 3, 'batch': 430, 'n_batches': 1723, 'time': 0.049, 'data_time': 0.0, 'lr': 0.001, 'loss': 2.239}\n",
            "INFO:Trainer:{'type': 'train', 'epoch': 3, 'batch': 440, 'n_batches': 1723, 'time': 0.053, 'data_time': 0.0, 'lr': 0.001, 'loss': 0.511}\n",
            "INFO:Trainer:{'type': 'train', 'epoch': 3, 'batch': 450, 'n_batches': 1723, 'time': 0.047, 'data_time': 0.0, 'lr': 0.001, 'loss': 0.532}\n",
            "INFO:Trainer:{'type': 'train', 'epoch': 3, 'batch': 460, 'n_batches': 1723, 'time': 0.055, 'data_time': 0.0, 'lr': 0.001, 'loss': 0.595}\n",
            "INFO:Trainer:{'type': 'train', 'epoch': 3, 'batch': 470, 'n_batches': 1723, 'time': 0.048, 'data_time': 0.0, 'lr': 0.001, 'loss': 1.685}\n",
            "INFO:Trainer:{'type': 'train', 'epoch': 3, 'batch': 480, 'n_batches': 1723, 'time': 0.048, 'data_time': 0.0, 'lr': 0.001, 'loss': 0.449}\n",
            "INFO:Trainer:{'type': 'train', 'epoch': 3, 'batch': 490, 'n_batches': 1723, 'time': 0.048, 'data_time': 0.0, 'lr': 0.001, 'loss': 0.805}\n",
            "INFO:Trainer:{'type': 'train', 'epoch': 3, 'batch': 500, 'n_batches': 1723, 'time': 0.048, 'data_time': 0.0, 'lr': 0.001, 'loss': 0.177}\n",
            "INFO:Trainer:{'type': 'train', 'epoch': 3, 'batch': 510, 'n_batches': 1723, 'time': 0.048, 'data_time': 0.0, 'lr': 0.001, 'loss': 0.369}\n",
            "INFO:Trainer:{'type': 'train', 'epoch': 3, 'batch': 520, 'n_batches': 1723, 'time': 0.047, 'data_time': 0.0, 'lr': 0.001, 'loss': 0.802}\n",
            "INFO:Trainer:{'type': 'train', 'epoch': 3, 'batch': 530, 'n_batches': 1723, 'time': 0.054, 'data_time': 0.0, 'lr': 0.001, 'loss': 1.917}\n",
            "INFO:Trainer:{'type': 'train', 'epoch': 3, 'batch': 540, 'n_batches': 1723, 'time': 0.049, 'data_time': 0.0, 'lr': 0.001, 'loss': 0.458}\n",
            "INFO:Trainer:{'type': 'train', 'epoch': 3, 'batch': 550, 'n_batches': 1723, 'time': 0.048, 'data_time': 0.0, 'lr': 0.001, 'loss': 0.367}\n",
            "INFO:Trainer:{'type': 'train', 'epoch': 3, 'batch': 560, 'n_batches': 1723, 'time': 0.047, 'data_time': 0.0, 'lr': 0.001, 'loss': 1.956}\n",
            "INFO:Trainer:{'type': 'train', 'epoch': 3, 'batch': 570, 'n_batches': 1723, 'time': 0.049, 'data_time': 0.0, 'lr': 0.001, 'loss': 0.346}\n",
            "INFO:Trainer:{'type': 'train', 'epoch': 3, 'batch': 580, 'n_batches': 1723, 'time': 0.047, 'data_time': 0.0, 'lr': 0.001, 'loss': 0.747}\n",
            "INFO:Trainer:{'type': 'train', 'epoch': 3, 'batch': 590, 'n_batches': 1723, 'time': 0.048, 'data_time': 0.0, 'lr': 0.001, 'loss': 1.36}\n",
            "INFO:Trainer:{'type': 'train', 'epoch': 3, 'batch': 600, 'n_batches': 1723, 'time': 0.047, 'data_time': 0.0, 'lr': 0.001, 'loss': 0.434}\n",
            "INFO:Trainer:{'type': 'train', 'epoch': 3, 'batch': 610, 'n_batches': 1723, 'time': 0.047, 'data_time': 0.0, 'lr': 0.001, 'loss': 0.217}\n",
            "INFO:Trainer:{'type': 'train', 'epoch': 3, 'batch': 620, 'n_batches': 1723, 'time': 0.047, 'data_time': 0.0, 'lr': 0.001, 'loss': 0.473}\n",
            "INFO:Trainer:{'type': 'train', 'epoch': 3, 'batch': 630, 'n_batches': 1723, 'time': 0.048, 'data_time': 0.0, 'lr': 0.001, 'loss': 2.107}\n",
            "INFO:Trainer:{'type': 'train', 'epoch': 3, 'batch': 640, 'n_batches': 1723, 'time': 0.048, 'data_time': 0.0, 'lr': 0.001, 'loss': 0.99}\n",
            "INFO:Trainer:{'type': 'train', 'epoch': 3, 'batch': 650, 'n_batches': 1723, 'time': 0.047, 'data_time': 0.0, 'lr': 0.001, 'loss': 0.181}\n",
            "INFO:Trainer:{'type': 'train', 'epoch': 3, 'batch': 660, 'n_batches': 1723, 'time': 0.048, 'data_time': 0.0, 'lr': 0.001, 'loss': 0.258}\n",
            "INFO:Trainer:{'type': 'train', 'epoch': 3, 'batch': 670, 'n_batches': 1723, 'time': 0.047, 'data_time': 0.0, 'lr': 0.001, 'loss': 0.299}\n",
            "INFO:Trainer:{'type': 'train', 'epoch': 3, 'batch': 680, 'n_batches': 1723, 'time': 0.048, 'data_time': 0.0, 'lr': 0.001, 'loss': 0.314}\n",
            "INFO:Trainer:{'type': 'train', 'epoch': 3, 'batch': 690, 'n_batches': 1723, 'time': 0.047, 'data_time': 0.0, 'lr': 0.001, 'loss': 1.299}\n",
            "INFO:Trainer:{'type': 'train', 'epoch': 3, 'batch': 700, 'n_batches': 1723, 'time': 0.05, 'data_time': 0.0, 'lr': 0.001, 'loss': 0.336}\n",
            "INFO:Trainer:{'type': 'train', 'epoch': 3, 'batch': 710, 'n_batches': 1723, 'time': 0.047, 'data_time': 0.0, 'lr': 0.001, 'loss': 8.003}\n",
            "INFO:Trainer:{'type': 'train', 'epoch': 3, 'batch': 720, 'n_batches': 1723, 'time': 0.048, 'data_time': 0.0, 'lr': 0.001, 'loss': 0.66}\n",
            "INFO:Trainer:{'type': 'train', 'epoch': 3, 'batch': 730, 'n_batches': 1723, 'time': 0.049, 'data_time': 0.0, 'lr': 0.001, 'loss': 0.237}\n",
            "INFO:Trainer:{'type': 'train', 'epoch': 3, 'batch': 740, 'n_batches': 1723, 'time': 0.049, 'data_time': 0.0, 'lr': 0.001, 'loss': 0.459}\n",
            "INFO:Trainer:{'type': 'train', 'epoch': 3, 'batch': 750, 'n_batches': 1723, 'time': 0.048, 'data_time': 0.0, 'lr': 0.001, 'loss': 0.387}\n",
            "INFO:Trainer:{'type': 'train', 'epoch': 3, 'batch': 760, 'n_batches': 1723, 'time': 0.06, 'data_time': 0.0, 'lr': 0.001, 'loss': 0.811}\n",
            "INFO:Trainer:{'type': 'train', 'epoch': 3, 'batch': 770, 'n_batches': 1723, 'time': 0.048, 'data_time': 0.0, 'lr': 0.001, 'loss': 0.353}\n",
            "INFO:Trainer:{'type': 'train', 'epoch': 3, 'batch': 780, 'n_batches': 1723, 'time': 0.049, 'data_time': 0.0, 'lr': 0.001, 'loss': 1.254}\n",
            "INFO:Trainer:{'type': 'train', 'epoch': 3, 'batch': 790, 'n_batches': 1723, 'time': 0.047, 'data_time': 0.0, 'lr': 0.001, 'loss': 0.529}\n",
            "INFO:Trainer:{'type': 'train', 'epoch': 3, 'batch': 800, 'n_batches': 1723, 'time': 0.048, 'data_time': 0.0, 'lr': 0.001, 'loss': 0.466}\n",
            "INFO:Trainer:{'type': 'train', 'epoch': 3, 'batch': 810, 'n_batches': 1723, 'time': 0.048, 'data_time': 0.0, 'lr': 0.001, 'loss': 0.458}\n",
            "INFO:Trainer:{'type': 'train', 'epoch': 3, 'batch': 820, 'n_batches': 1723, 'time': 0.048, 'data_time': 0.0, 'lr': 0.001, 'loss': 0.499}\n",
            "INFO:Trainer:{'type': 'train', 'epoch': 3, 'batch': 830, 'n_batches': 1723, 'time': 0.048, 'data_time': 0.0, 'lr': 0.001, 'loss': 0.485}\n",
            "INFO:Trainer:{'type': 'train', 'epoch': 3, 'batch': 840, 'n_batches': 1723, 'time': 0.049, 'data_time': 0.0, 'lr': 0.001, 'loss': 2.988}\n",
            "INFO:Trainer:{'type': 'train', 'epoch': 3, 'batch': 850, 'n_batches': 1723, 'time': 0.047, 'data_time': 0.0, 'lr': 0.001, 'loss': 0.324}\n",
            "INFO:Trainer:{'type': 'train', 'epoch': 3, 'batch': 860, 'n_batches': 1723, 'time': 0.049, 'data_time': 0.0, 'lr': 0.001, 'loss': 0.704}\n",
            "INFO:Trainer:{'type': 'train', 'epoch': 3, 'batch': 870, 'n_batches': 1723, 'time': 0.048, 'data_time': 0.0, 'lr': 0.001, 'loss': 0.48}\n",
            "INFO:Trainer:{'type': 'train', 'epoch': 3, 'batch': 880, 'n_batches': 1723, 'time': 0.047, 'data_time': 0.0, 'lr': 0.001, 'loss': 0.304}\n",
            "INFO:Trainer:{'type': 'train', 'epoch': 3, 'batch': 890, 'n_batches': 1723, 'time': 0.048, 'data_time': 0.0, 'lr': 0.001, 'loss': 1.106}\n",
            "INFO:Trainer:{'type': 'train', 'epoch': 3, 'batch': 900, 'n_batches': 1723, 'time': 0.048, 'data_time': 0.0, 'lr': 0.001, 'loss': 0.346}\n",
            "INFO:Trainer:{'type': 'train', 'epoch': 3, 'batch': 910, 'n_batches': 1723, 'time': 0.048, 'data_time': 0.0, 'lr': 0.001, 'loss': 0.59}\n",
            "INFO:Trainer:{'type': 'train', 'epoch': 3, 'batch': 920, 'n_batches': 1723, 'time': 0.047, 'data_time': 0.0, 'lr': 0.001, 'loss': 0.405}\n",
            "INFO:Trainer:{'type': 'train', 'epoch': 3, 'batch': 930, 'n_batches': 1723, 'time': 0.048, 'data_time': 0.0, 'lr': 0.001, 'loss': 0.492}\n",
            "INFO:Trainer:{'type': 'train', 'epoch': 3, 'batch': 940, 'n_batches': 1723, 'time': 0.049, 'data_time': 0.0, 'lr': 0.001, 'loss': 0.33}\n",
            "INFO:Trainer:{'type': 'train', 'epoch': 3, 'batch': 950, 'n_batches': 1723, 'time': 0.055, 'data_time': 0.0, 'lr': 0.001, 'loss': 0.125}\n",
            "INFO:Trainer:{'type': 'train', 'epoch': 3, 'batch': 960, 'n_batches': 1723, 'time': 0.048, 'data_time': 0.0, 'lr': 0.001, 'loss': 0.127}\n",
            "INFO:Trainer:{'type': 'train', 'epoch': 3, 'batch': 970, 'n_batches': 1723, 'time': 0.054, 'data_time': 0.0, 'lr': 0.001, 'loss': 0.271}\n",
            "INFO:Trainer:{'type': 'train', 'epoch': 3, 'batch': 980, 'n_batches': 1723, 'time': 0.048, 'data_time': 0.0, 'lr': 0.001, 'loss': 1.943}\n",
            "INFO:Trainer:{'type': 'train', 'epoch': 3, 'batch': 990, 'n_batches': 1723, 'time': 0.049, 'data_time': 0.0, 'lr': 0.001, 'loss': 0.461}\n",
            "INFO:Trainer:{'type': 'train', 'epoch': 3, 'batch': 1000, 'n_batches': 1723, 'time': 0.048, 'data_time': 0.0, 'lr': 0.001, 'loss': 0.846}\n",
            "INFO:Trainer:{'type': 'train', 'epoch': 3, 'batch': 1010, 'n_batches': 1723, 'time': 0.049, 'data_time': 0.0, 'lr': 0.001, 'loss': 0.878}\n",
            "INFO:Trainer:{'type': 'train', 'epoch': 3, 'batch': 1020, 'n_batches': 1723, 'time': 0.048, 'data_time': 0.0, 'lr': 0.001, 'loss': 3.943}\n",
            "INFO:Trainer:{'type': 'train', 'epoch': 3, 'batch': 1030, 'n_batches': 1723, 'time': 0.048, 'data_time': 0.0, 'lr': 0.001, 'loss': 0.397}\n",
            "INFO:Trainer:{'type': 'train', 'epoch': 3, 'batch': 1040, 'n_batches': 1723, 'time': 0.048, 'data_time': 0.0, 'lr': 0.001, 'loss': 0.264}\n",
            "INFO:Trainer:{'type': 'train', 'epoch': 3, 'batch': 1050, 'n_batches': 1723, 'time': 0.049, 'data_time': 0.0, 'lr': 0.001, 'loss': 0.271}\n",
            "INFO:Trainer:{'type': 'train', 'epoch': 3, 'batch': 1060, 'n_batches': 1723, 'time': 0.047, 'data_time': 0.0, 'lr': 0.001, 'loss': 1.61}\n",
            "INFO:Trainer:{'type': 'train', 'epoch': 3, 'batch': 1070, 'n_batches': 1723, 'time': 0.048, 'data_time': 0.0, 'lr': 0.001, 'loss': 0.394}\n",
            "INFO:Trainer:{'type': 'train', 'epoch': 3, 'batch': 1080, 'n_batches': 1723, 'time': 0.047, 'data_time': 0.0, 'lr': 0.001, 'loss': 0.883}\n",
            "INFO:Trainer:{'type': 'train', 'epoch': 3, 'batch': 1090, 'n_batches': 1723, 'time': 0.047, 'data_time': 0.0, 'lr': 0.001, 'loss': 0.948}\n",
            "INFO:Trainer:{'type': 'train', 'epoch': 3, 'batch': 1100, 'n_batches': 1723, 'time': 0.049, 'data_time': 0.0, 'lr': 0.001, 'loss': 0.759}\n",
            "INFO:Trainer:{'type': 'train', 'epoch': 3, 'batch': 1110, 'n_batches': 1723, 'time': 0.049, 'data_time': 0.0, 'lr': 0.001, 'loss': 0.235}\n",
            "INFO:Trainer:{'type': 'train', 'epoch': 3, 'batch': 1120, 'n_batches': 1723, 'time': 0.049, 'data_time': 0.0, 'lr': 0.001, 'loss': 0.179}\n",
            "INFO:Trainer:{'type': 'train', 'epoch': 3, 'batch': 1130, 'n_batches': 1723, 'time': 0.048, 'data_time': 0.0, 'lr': 0.001, 'loss': 2.765}\n",
            "INFO:Trainer:{'type': 'train', 'epoch': 3, 'batch': 1140, 'n_batches': 1723, 'time': 0.048, 'data_time': 0.0, 'lr': 0.001, 'loss': 0.614}\n",
            "INFO:Trainer:{'type': 'train', 'epoch': 3, 'batch': 1150, 'n_batches': 1723, 'time': 0.049, 'data_time': 0.0, 'lr': 0.001, 'loss': 0.607}\n",
            "INFO:Trainer:{'type': 'train', 'epoch': 3, 'batch': 1160, 'n_batches': 1723, 'time': 0.049, 'data_time': 0.0, 'lr': 0.001, 'loss': 0.322}\n",
            "INFO:Trainer:{'type': 'train', 'epoch': 3, 'batch': 1170, 'n_batches': 1723, 'time': 0.047, 'data_time': 0.0, 'lr': 0.001, 'loss': 0.621}\n",
            "INFO:Trainer:{'type': 'train', 'epoch': 3, 'batch': 1180, 'n_batches': 1723, 'time': 0.047, 'data_time': 0.0, 'lr': 0.001, 'loss': 0.502}\n",
            "INFO:Trainer:{'type': 'train', 'epoch': 3, 'batch': 1190, 'n_batches': 1723, 'time': 0.048, 'data_time': 0.0, 'lr': 0.001, 'loss': 1.649}\n",
            "INFO:Trainer:{'type': 'train', 'epoch': 3, 'batch': 1200, 'n_batches': 1723, 'time': 0.048, 'data_time': 0.0, 'lr': 0.001, 'loss': 0.938}\n",
            "INFO:Trainer:{'type': 'train', 'epoch': 3, 'batch': 1210, 'n_batches': 1723, 'time': 0.048, 'data_time': 0.0, 'lr': 0.001, 'loss': 0.232}\n",
            "INFO:Trainer:{'type': 'train', 'epoch': 3, 'batch': 1220, 'n_batches': 1723, 'time': 0.047, 'data_time': 0.0, 'lr': 0.001, 'loss': 0.474}\n",
            "INFO:Trainer:{'type': 'train', 'epoch': 3, 'batch': 1230, 'n_batches': 1723, 'time': 0.047, 'data_time': 0.0, 'lr': 0.001, 'loss': 0.433}\n",
            "INFO:Trainer:{'type': 'train', 'epoch': 3, 'batch': 1240, 'n_batches': 1723, 'time': 0.048, 'data_time': 0.0, 'lr': 0.001, 'loss': 0.696}\n",
            "INFO:Trainer:{'type': 'train', 'epoch': 3, 'batch': 1250, 'n_batches': 1723, 'time': 0.047, 'data_time': 0.0, 'lr': 0.001, 'loss': 0.233}\n",
            "INFO:Trainer:{'type': 'train', 'epoch': 3, 'batch': 1260, 'n_batches': 1723, 'time': 0.046, 'data_time': 0.0, 'lr': 0.001, 'loss': 1.349}\n",
            "INFO:Trainer:{'type': 'train', 'epoch': 3, 'batch': 1270, 'n_batches': 1723, 'time': 0.047, 'data_time': 0.0, 'lr': 0.001, 'loss': 1.048}\n",
            "INFO:Trainer:{'type': 'train', 'epoch': 3, 'batch': 1280, 'n_batches': 1723, 'time': 0.048, 'data_time': 0.0, 'lr': 0.001, 'loss': 1.391}\n",
            "INFO:Trainer:{'type': 'train', 'epoch': 3, 'batch': 1290, 'n_batches': 1723, 'time': 0.047, 'data_time': 0.0, 'lr': 0.001, 'loss': 0.709}\n",
            "INFO:Trainer:{'type': 'train', 'epoch': 3, 'batch': 1300, 'n_batches': 1723, 'time': 0.048, 'data_time': 0.0, 'lr': 0.001, 'loss': 0.253}\n",
            "INFO:Trainer:{'type': 'train', 'epoch': 3, 'batch': 1310, 'n_batches': 1723, 'time': 0.047, 'data_time': 0.0, 'lr': 0.001, 'loss': 1.149}\n",
            "INFO:Trainer:{'type': 'train', 'epoch': 3, 'batch': 1320, 'n_batches': 1723, 'time': 0.047, 'data_time': 0.0, 'lr': 0.001, 'loss': 0.304}\n",
            "INFO:Trainer:{'type': 'train', 'epoch': 3, 'batch': 1330, 'n_batches': 1723, 'time': 0.047, 'data_time': 0.0, 'lr': 0.001, 'loss': 0.288}\n",
            "INFO:Trainer:{'type': 'train', 'epoch': 3, 'batch': 1340, 'n_batches': 1723, 'time': 0.05, 'data_time': 0.0, 'lr': 0.001, 'loss': 1.786}\n",
            "INFO:Trainer:{'type': 'train', 'epoch': 3, 'batch': 1350, 'n_batches': 1723, 'time': 0.046, 'data_time': 0.0, 'lr': 0.001, 'loss': 2.043}\n",
            "INFO:Trainer:{'type': 'train', 'epoch': 3, 'batch': 1360, 'n_batches': 1723, 'time': 0.048, 'data_time': 0.0, 'lr': 0.001, 'loss': 0.614}\n",
            "INFO:Trainer:{'type': 'train', 'epoch': 3, 'batch': 1370, 'n_batches': 1723, 'time': 0.054, 'data_time': 0.0, 'lr': 0.001, 'loss': 0.487}\n",
            "INFO:Trainer:{'type': 'train', 'epoch': 3, 'batch': 1380, 'n_batches': 1723, 'time': 0.048, 'data_time': 0.0, 'lr': 0.001, 'loss': 0.506}\n",
            "INFO:Trainer:{'type': 'train', 'epoch': 3, 'batch': 1390, 'n_batches': 1723, 'time': 0.047, 'data_time': 0.0, 'lr': 0.001, 'loss': 0.594}\n",
            "INFO:Trainer:{'type': 'train', 'epoch': 3, 'batch': 1400, 'n_batches': 1723, 'time': 0.047, 'data_time': 0.0, 'lr': 0.001, 'loss': 0.244}\n",
            "INFO:Trainer:{'type': 'train', 'epoch': 3, 'batch': 1410, 'n_batches': 1723, 'time': 0.047, 'data_time': 0.0, 'lr': 0.001, 'loss': 1.605}\n",
            "INFO:Trainer:{'type': 'train', 'epoch': 3, 'batch': 1420, 'n_batches': 1723, 'time': 0.047, 'data_time': 0.0, 'lr': 0.001, 'loss': 0.363}\n",
            "INFO:Trainer:{'type': 'train', 'epoch': 3, 'batch': 1430, 'n_batches': 1723, 'time': 0.046, 'data_time': 0.0, 'lr': 0.001, 'loss': 0.278}\n",
            "INFO:Trainer:{'type': 'train', 'epoch': 3, 'batch': 1440, 'n_batches': 1723, 'time': 0.047, 'data_time': 0.0, 'lr': 0.001, 'loss': 3.031}\n",
            "INFO:Trainer:{'type': 'train', 'epoch': 3, 'batch': 1450, 'n_batches': 1723, 'time': 0.047, 'data_time': 0.0, 'lr': 0.001, 'loss': 1.85}\n",
            "INFO:Trainer:{'type': 'train', 'epoch': 3, 'batch': 1460, 'n_batches': 1723, 'time': 0.047, 'data_time': 0.0, 'lr': 0.001, 'loss': 0.697}\n",
            "INFO:Trainer:{'type': 'train', 'epoch': 3, 'batch': 1470, 'n_batches': 1723, 'time': 0.048, 'data_time': 0.0, 'lr': 0.001, 'loss': 0.666}\n",
            "INFO:Trainer:{'type': 'train', 'epoch': 3, 'batch': 1480, 'n_batches': 1723, 'time': 0.048, 'data_time': 0.0, 'lr': 0.001, 'loss': 0.765}\n",
            "INFO:Trainer:{'type': 'train', 'epoch': 3, 'batch': 1490, 'n_batches': 1723, 'time': 0.047, 'data_time': 0.0, 'lr': 0.001, 'loss': 0.525}\n",
            "INFO:Trainer:{'type': 'train', 'epoch': 3, 'batch': 1500, 'n_batches': 1723, 'time': 0.047, 'data_time': 0.0, 'lr': 0.001, 'loss': 0.5}\n",
            "INFO:Trainer:{'type': 'train', 'epoch': 3, 'batch': 1510, 'n_batches': 1723, 'time': 0.047, 'data_time': 0.0, 'lr': 0.001, 'loss': 0.312}\n",
            "INFO:Trainer:{'type': 'train', 'epoch': 3, 'batch': 1520, 'n_batches': 1723, 'time': 0.048, 'data_time': 0.0, 'lr': 0.001, 'loss': 1.088}\n",
            "INFO:Trainer:{'type': 'train', 'epoch': 3, 'batch': 1530, 'n_batches': 1723, 'time': 0.047, 'data_time': 0.0, 'lr': 0.001, 'loss': 0.361}\n",
            "INFO:Trainer:{'type': 'train', 'epoch': 3, 'batch': 1540, 'n_batches': 1723, 'time': 0.048, 'data_time': 0.0, 'lr': 0.001, 'loss': 0.662}\n",
            "INFO:Trainer:{'type': 'train', 'epoch': 3, 'batch': 1550, 'n_batches': 1723, 'time': 0.049, 'data_time': 0.0, 'lr': 0.001, 'loss': 0.688}\n",
            "INFO:Trainer:{'type': 'train', 'epoch': 3, 'batch': 1560, 'n_batches': 1723, 'time': 0.041, 'data_time': 0.0, 'lr': 0.001, 'loss': 2.656}\n",
            "INFO:Trainer:{'type': 'train', 'epoch': 3, 'batch': 1570, 'n_batches': 1723, 'time': 0.047, 'data_time': 0.0, 'lr': 0.001, 'loss': 0.365}\n",
            "INFO:Trainer:{'type': 'train', 'epoch': 3, 'batch': 1580, 'n_batches': 1723, 'time': 0.047, 'data_time': 0.0, 'lr': 0.001, 'loss': 1.228}\n",
            "INFO:Trainer:{'type': 'train', 'epoch': 3, 'batch': 1590, 'n_batches': 1723, 'time': 0.047, 'data_time': 0.0, 'lr': 0.001, 'loss': 0.689}\n",
            "INFO:Trainer:{'type': 'train', 'epoch': 3, 'batch': 1600, 'n_batches': 1723, 'time': 0.047, 'data_time': 0.0, 'lr': 0.001, 'loss': 0.995}\n",
            "INFO:Trainer:{'type': 'train', 'epoch': 3, 'batch': 1610, 'n_batches': 1723, 'time': 0.048, 'data_time': 0.0, 'lr': 0.001, 'loss': 0.687}\n",
            "INFO:Trainer:{'type': 'train', 'epoch': 3, 'batch': 1620, 'n_batches': 1723, 'time': 0.048, 'data_time': 0.0, 'lr': 0.001, 'loss': 0.544}\n",
            "INFO:Trainer:{'type': 'train', 'epoch': 3, 'batch': 1630, 'n_batches': 1723, 'time': 0.047, 'data_time': 0.0, 'lr': 0.001, 'loss': 0.331}\n",
            "INFO:Trainer:{'type': 'train', 'epoch': 3, 'batch': 1640, 'n_batches': 1723, 'time': 0.047, 'data_time': 0.0, 'lr': 0.001, 'loss': 0.381}\n",
            "INFO:Trainer:{'type': 'train', 'epoch': 3, 'batch': 1650, 'n_batches': 1723, 'time': 0.055, 'data_time': 0.0, 'lr': 0.001, 'loss': 0.39}\n",
            "INFO:Trainer:{'type': 'train', 'epoch': 3, 'batch': 1660, 'n_batches': 1723, 'time': 0.048, 'data_time': 0.0, 'lr': 0.001, 'loss': 1.003}\n",
            "INFO:Trainer:{'type': 'train', 'epoch': 3, 'batch': 1670, 'n_batches': 1723, 'time': 0.048, 'data_time': 0.0, 'lr': 0.001, 'loss': 0.36}\n",
            "INFO:Trainer:{'type': 'train', 'epoch': 3, 'batch': 1680, 'n_batches': 1723, 'time': 0.053, 'data_time': 0.0, 'lr': 0.001, 'loss': 1.292}\n",
            "INFO:Trainer:{'type': 'train', 'epoch': 3, 'batch': 1690, 'n_batches': 1723, 'time': 0.047, 'data_time': 0.0, 'lr': 0.001, 'loss': 0.197}\n",
            "INFO:Trainer:{'type': 'train', 'epoch': 3, 'batch': 1700, 'n_batches': 1723, 'time': 0.053, 'data_time': 0.0, 'lr': 0.001, 'loss': 1.98}\n",
            "INFO:Trainer:{'type': 'train', 'epoch': 3, 'batch': 1710, 'n_batches': 1723, 'time': 0.049, 'data_time': 0.0, 'lr': 0.001, 'loss': 0.196}\n",
            "INFO:Trainer:{'type': 'train', 'epoch': 3, 'batch': 1720, 'n_batches': 1723, 'time': 0.053, 'data_time': 0.0, 'lr': 0.001, 'loss': 0.232}\n",
            "INFO:Trainer:{'type': 'train-epoch', 'epoch': 4, 'loss': 0.944, 'time': 88.8}\n",
            "INFO:Trainer:{'type': 'val-epoch', 'epoch': 4, 'loss': 0.896, 'time': 10.5}\n",
            "epoch 4\n",
            "INFO:Trainer:{'type': 'train', 'epoch': 4, 'batch': 0, 'n_batches': 1723, 'time': 0.049, 'data_time': 0.0, 'lr': 0.001, 'loss': 0.476}\n",
            "INFO:Trainer:{'type': 'train', 'epoch': 4, 'batch': 10, 'n_batches': 1723, 'time': 0.049, 'data_time': 0.0, 'lr': 0.001, 'loss': 0.411}\n",
            "INFO:Trainer:{'type': 'train', 'epoch': 4, 'batch': 20, 'n_batches': 1723, 'time': 0.048, 'data_time': 0.0, 'lr': 0.001, 'loss': 0.929}\n",
            "INFO:Trainer:{'type': 'train', 'epoch': 4, 'batch': 30, 'n_batches': 1723, 'time': 0.062, 'data_time': 0.0, 'lr': 0.001, 'loss': 3.285}\n",
            "INFO:Trainer:{'type': 'train', 'epoch': 4, 'batch': 40, 'n_batches': 1723, 'time': 0.048, 'data_time': 0.0, 'lr': 0.001, 'loss': 0.338}\n",
            "INFO:Trainer:{'type': 'train', 'epoch': 4, 'batch': 50, 'n_batches': 1723, 'time': 0.048, 'data_time': 0.0, 'lr': 0.001, 'loss': 2.063}\n",
            "INFO:Trainer:{'type': 'train', 'epoch': 4, 'batch': 60, 'n_batches': 1723, 'time': 0.047, 'data_time': 0.0, 'lr': 0.001, 'loss': 0.819}\n",
            "INFO:Trainer:{'type': 'train', 'epoch': 4, 'batch': 70, 'n_batches': 1723, 'time': 0.047, 'data_time': 0.0, 'lr': 0.001, 'loss': 0.472}\n",
            "INFO:Trainer:{'type': 'train', 'epoch': 4, 'batch': 80, 'n_batches': 1723, 'time': 0.047, 'data_time': 0.0, 'lr': 0.001, 'loss': 1.217}\n",
            "INFO:Trainer:{'type': 'train', 'epoch': 4, 'batch': 90, 'n_batches': 1723, 'time': 0.047, 'data_time': 0.0, 'lr': 0.001, 'loss': 0.472}\n",
            "INFO:Trainer:{'type': 'train', 'epoch': 4, 'batch': 100, 'n_batches': 1723, 'time': 0.047, 'data_time': 0.0, 'lr': 0.001, 'loss': 1.596}\n",
            "INFO:Trainer:{'type': 'train', 'epoch': 4, 'batch': 110, 'n_batches': 1723, 'time': 0.047, 'data_time': 0.0, 'lr': 0.001, 'loss': 0.293}\n",
            "INFO:Trainer:{'type': 'train', 'epoch': 4, 'batch': 120, 'n_batches': 1723, 'time': 0.048, 'data_time': 0.0, 'lr': 0.001, 'loss': 6.245}\n",
            "INFO:Trainer:{'type': 'train', 'epoch': 4, 'batch': 130, 'n_batches': 1723, 'time': 0.048, 'data_time': 0.0, 'lr': 0.001, 'loss': 0.618}\n",
            "INFO:Trainer:{'type': 'train', 'epoch': 4, 'batch': 140, 'n_batches': 1723, 'time': 0.047, 'data_time': 0.0, 'lr': 0.001, 'loss': 1.638}\n",
            "INFO:Trainer:{'type': 'train', 'epoch': 4, 'batch': 150, 'n_batches': 1723, 'time': 0.047, 'data_time': 0.0, 'lr': 0.001, 'loss': 1.659}\n",
            "INFO:Trainer:{'type': 'train', 'epoch': 4, 'batch': 160, 'n_batches': 1723, 'time': 0.047, 'data_time': 0.0, 'lr': 0.001, 'loss': 1.763}\n",
            "INFO:Trainer:{'type': 'train', 'epoch': 4, 'batch': 170, 'n_batches': 1723, 'time': 0.048, 'data_time': 0.0, 'lr': 0.001, 'loss': 0.397}\n",
            "INFO:Trainer:{'type': 'train', 'epoch': 4, 'batch': 180, 'n_batches': 1723, 'time': 0.047, 'data_time': 0.0, 'lr': 0.001, 'loss': 0.587}\n",
            "INFO:Trainer:{'type': 'train', 'epoch': 4, 'batch': 190, 'n_batches': 1723, 'time': 0.048, 'data_time': 0.0, 'lr': 0.001, 'loss': 0.672}\n",
            "INFO:Trainer:{'type': 'train', 'epoch': 4, 'batch': 200, 'n_batches': 1723, 'time': 0.048, 'data_time': 0.0, 'lr': 0.001, 'loss': 0.896}\n",
            "INFO:Trainer:{'type': 'train', 'epoch': 4, 'batch': 210, 'n_batches': 1723, 'time': 0.048, 'data_time': 0.0, 'lr': 0.001, 'loss': 0.778}\n",
            "INFO:Trainer:{'type': 'train', 'epoch': 4, 'batch': 220, 'n_batches': 1723, 'time': 0.048, 'data_time': 0.0, 'lr': 0.001, 'loss': 0.976}\n",
            "INFO:Trainer:{'type': 'train', 'epoch': 4, 'batch': 230, 'n_batches': 1723, 'time': 0.048, 'data_time': 0.0, 'lr': 0.001, 'loss': 0.562}\n",
            "INFO:Trainer:{'type': 'train', 'epoch': 4, 'batch': 240, 'n_batches': 1723, 'time': 0.047, 'data_time': 0.0, 'lr': 0.001, 'loss': 2.28}\n",
            "INFO:Trainer:{'type': 'train', 'epoch': 4, 'batch': 250, 'n_batches': 1723, 'time': 0.047, 'data_time': 0.0, 'lr': 0.001, 'loss': 4.981}\n",
            "INFO:Trainer:{'type': 'train', 'epoch': 4, 'batch': 260, 'n_batches': 1723, 'time': 0.048, 'data_time': 0.0, 'lr': 0.001, 'loss': 0.36}\n",
            "INFO:Trainer:{'type': 'train', 'epoch': 4, 'batch': 270, 'n_batches': 1723, 'time': 0.056, 'data_time': 0.0, 'lr': 0.001, 'loss': 1.416}\n",
            "INFO:Trainer:{'type': 'train', 'epoch': 4, 'batch': 280, 'n_batches': 1723, 'time': 0.048, 'data_time': 0.0, 'lr': 0.001, 'loss': 0.714}\n",
            "INFO:Trainer:{'type': 'train', 'epoch': 4, 'batch': 290, 'n_batches': 1723, 'time': 0.047, 'data_time': 0.0, 'lr': 0.001, 'loss': 0.226}\n",
            "INFO:Trainer:{'type': 'train', 'epoch': 4, 'batch': 300, 'n_batches': 1723, 'time': 0.048, 'data_time': 0.0, 'lr': 0.001, 'loss': 6.923}\n",
            "INFO:Trainer:{'type': 'train', 'epoch': 4, 'batch': 310, 'n_batches': 1723, 'time': 0.047, 'data_time': 0.0, 'lr': 0.001, 'loss': 0.739}\n",
            "INFO:Trainer:{'type': 'train', 'epoch': 4, 'batch': 320, 'n_batches': 1723, 'time': 0.047, 'data_time': 0.0, 'lr': 0.001, 'loss': 1.364}\n",
            "INFO:Trainer:{'type': 'train', 'epoch': 4, 'batch': 330, 'n_batches': 1723, 'time': 0.048, 'data_time': 0.0, 'lr': 0.001, 'loss': 1.679}\n",
            "INFO:Trainer:{'type': 'train', 'epoch': 4, 'batch': 340, 'n_batches': 1723, 'time': 0.046, 'data_time': 0.0, 'lr': 0.001, 'loss': 0.611}\n",
            "INFO:Trainer:{'type': 'train', 'epoch': 4, 'batch': 350, 'n_batches': 1723, 'time': 0.048, 'data_time': 0.0, 'lr': 0.001, 'loss': 1.088}\n",
            "INFO:Trainer:{'type': 'train', 'epoch': 4, 'batch': 360, 'n_batches': 1723, 'time': 0.047, 'data_time': 0.0, 'lr': 0.001, 'loss': 0.176}\n",
            "INFO:Trainer:{'type': 'train', 'epoch': 4, 'batch': 370, 'n_batches': 1723, 'time': 0.048, 'data_time': 0.0, 'lr': 0.001, 'loss': 0.305}\n",
            "INFO:Trainer:{'type': 'train', 'epoch': 4, 'batch': 380, 'n_batches': 1723, 'time': 0.047, 'data_time': 0.0, 'lr': 0.001, 'loss': 0.24}\n",
            "INFO:Trainer:{'type': 'train', 'epoch': 4, 'batch': 390, 'n_batches': 1723, 'time': 0.048, 'data_time': 0.0, 'lr': 0.001, 'loss': 0.691}\n",
            "INFO:Trainer:{'type': 'train', 'epoch': 4, 'batch': 400, 'n_batches': 1723, 'time': 0.048, 'data_time': 0.0, 'lr': 0.001, 'loss': 1.128}\n",
            "INFO:Trainer:{'type': 'train', 'epoch': 4, 'batch': 410, 'n_batches': 1723, 'time': 0.048, 'data_time': 0.0, 'lr': 0.001, 'loss': 1.518}\n",
            "INFO:Trainer:{'type': 'train', 'epoch': 4, 'batch': 420, 'n_batches': 1723, 'time': 0.048, 'data_time': 0.0, 'lr': 0.001, 'loss': 0.447}\n",
            "INFO:Trainer:{'type': 'train', 'epoch': 4, 'batch': 430, 'n_batches': 1723, 'time': 0.047, 'data_time': 0.0, 'lr': 0.001, 'loss': 1.522}\n",
            "INFO:Trainer:{'type': 'train', 'epoch': 4, 'batch': 440, 'n_batches': 1723, 'time': 0.05, 'data_time': 0.0, 'lr': 0.001, 'loss': 0.673}\n",
            "INFO:Trainer:{'type': 'train', 'epoch': 4, 'batch': 450, 'n_batches': 1723, 'time': 0.048, 'data_time': 0.0, 'lr': 0.001, 'loss': 0.88}\n",
            "INFO:Trainer:{'type': 'train', 'epoch': 4, 'batch': 460, 'n_batches': 1723, 'time': 0.048, 'data_time': 0.0, 'lr': 0.001, 'loss': 0.722}\n",
            "INFO:Trainer:{'type': 'train', 'epoch': 4, 'batch': 470, 'n_batches': 1723, 'time': 0.047, 'data_time': 0.0, 'lr': 0.001, 'loss': 0.166}\n",
            "INFO:Trainer:{'type': 'train', 'epoch': 4, 'batch': 480, 'n_batches': 1723, 'time': 0.047, 'data_time': 0.0, 'lr': 0.001, 'loss': 0.746}\n",
            "INFO:Trainer:{'type': 'train', 'epoch': 4, 'batch': 490, 'n_batches': 1723, 'time': 0.047, 'data_time': 0.0, 'lr': 0.001, 'loss': 0.422}\n",
            "INFO:Trainer:{'type': 'train', 'epoch': 4, 'batch': 500, 'n_batches': 1723, 'time': 0.048, 'data_time': 0.0, 'lr': 0.001, 'loss': 0.214}\n",
            "INFO:Trainer:{'type': 'train', 'epoch': 4, 'batch': 510, 'n_batches': 1723, 'time': 0.048, 'data_time': 0.0, 'lr': 0.001, 'loss': 0.143}\n",
            "INFO:Trainer:{'type': 'train', 'epoch': 4, 'batch': 520, 'n_batches': 1723, 'time': 0.048, 'data_time': 0.0, 'lr': 0.001, 'loss': 0.981}\n",
            "INFO:Trainer:{'type': 'train', 'epoch': 4, 'batch': 530, 'n_batches': 1723, 'time': 0.047, 'data_time': 0.0, 'lr': 0.001, 'loss': 0.274}\n",
            "INFO:Trainer:{'type': 'train', 'epoch': 4, 'batch': 540, 'n_batches': 1723, 'time': 0.046, 'data_time': 0.0, 'lr': 0.001, 'loss': 4.953}\n",
            "INFO:Trainer:{'type': 'train', 'epoch': 4, 'batch': 550, 'n_batches': 1723, 'time': 0.047, 'data_time': 0.0, 'lr': 0.001, 'loss': 0.816}\n",
            "INFO:Trainer:{'type': 'train', 'epoch': 4, 'batch': 560, 'n_batches': 1723, 'time': 0.047, 'data_time': 0.0, 'lr': 0.001, 'loss': 0.261}\n",
            "INFO:Trainer:{'type': 'train', 'epoch': 4, 'batch': 570, 'n_batches': 1723, 'time': 0.047, 'data_time': 0.0, 'lr': 0.001, 'loss': 0.978}\n",
            "INFO:Trainer:{'type': 'train', 'epoch': 4, 'batch': 580, 'n_batches': 1723, 'time': 0.048, 'data_time': 0.0, 'lr': 0.001, 'loss': 0.746}\n",
            "INFO:Trainer:{'type': 'train', 'epoch': 4, 'batch': 590, 'n_batches': 1723, 'time': 0.047, 'data_time': 0.0, 'lr': 0.001, 'loss': 2.752}\n",
            "INFO:Trainer:{'type': 'train', 'epoch': 4, 'batch': 600, 'n_batches': 1723, 'time': 0.048, 'data_time': 0.0, 'lr': 0.001, 'loss': 1.267}\n",
            "INFO:Trainer:{'type': 'train', 'epoch': 4, 'batch': 610, 'n_batches': 1723, 'time': 0.047, 'data_time': 0.0, 'lr': 0.001, 'loss': 0.516}\n",
            "INFO:Trainer:{'type': 'train', 'epoch': 4, 'batch': 620, 'n_batches': 1723, 'time': 0.048, 'data_time': 0.0, 'lr': 0.001, 'loss': 0.429}\n",
            "INFO:Trainer:{'type': 'train', 'epoch': 4, 'batch': 630, 'n_batches': 1723, 'time': 0.047, 'data_time': 0.0, 'lr': 0.001, 'loss': 0.444}\n",
            "INFO:Trainer:{'type': 'train', 'epoch': 4, 'batch': 640, 'n_batches': 1723, 'time': 0.053, 'data_time': 0.0, 'lr': 0.001, 'loss': 0.513}\n",
            "INFO:Trainer:{'type': 'train', 'epoch': 4, 'batch': 650, 'n_batches': 1723, 'time': 0.047, 'data_time': 0.0, 'lr': 0.001, 'loss': 2.758}\n",
            "INFO:Trainer:{'type': 'train', 'epoch': 4, 'batch': 660, 'n_batches': 1723, 'time': 0.053, 'data_time': 0.0, 'lr': 0.001, 'loss': 1.0}\n",
            "INFO:Trainer:{'type': 'train', 'epoch': 4, 'batch': 670, 'n_batches': 1723, 'time': 0.048, 'data_time': 0.0, 'lr': 0.001, 'loss': 0.571}\n",
            "INFO:Trainer:{'type': 'train', 'epoch': 4, 'batch': 680, 'n_batches': 1723, 'time': 0.052, 'data_time': 0.0, 'lr': 0.001, 'loss': 0.715}\n",
            "INFO:Trainer:{'type': 'train', 'epoch': 4, 'batch': 690, 'n_batches': 1723, 'time': 0.048, 'data_time': 0.0, 'lr': 0.001, 'loss': 1.164}\n",
            "INFO:Trainer:{'type': 'train', 'epoch': 4, 'batch': 700, 'n_batches': 1723, 'time': 0.048, 'data_time': 0.0, 'lr': 0.001, 'loss': 0.533}\n",
            "INFO:Trainer:{'type': 'train', 'epoch': 4, 'batch': 710, 'n_batches': 1723, 'time': 0.054, 'data_time': 0.0, 'lr': 0.001, 'loss': 0.841}\n",
            "INFO:Trainer:{'type': 'train', 'epoch': 4, 'batch': 720, 'n_batches': 1723, 'time': 0.048, 'data_time': 0.0, 'lr': 0.001, 'loss': 2.077}\n",
            "INFO:Trainer:{'type': 'train', 'epoch': 4, 'batch': 730, 'n_batches': 1723, 'time': 0.048, 'data_time': 0.0, 'lr': 0.001, 'loss': 0.289}\n",
            "INFO:Trainer:{'type': 'train', 'epoch': 4, 'batch': 740, 'n_batches': 1723, 'time': 0.049, 'data_time': 0.0, 'lr': 0.001, 'loss': 0.694}\n",
            "INFO:Trainer:{'type': 'train', 'epoch': 4, 'batch': 750, 'n_batches': 1723, 'time': 0.049, 'data_time': 0.0, 'lr': 0.001, 'loss': 1.097}\n",
            "INFO:Trainer:{'type': 'train', 'epoch': 4, 'batch': 760, 'n_batches': 1723, 'time': 0.048, 'data_time': 0.0, 'lr': 0.001, 'loss': 0.096}\n",
            "INFO:Trainer:{'type': 'train', 'epoch': 4, 'batch': 770, 'n_batches': 1723, 'time': 0.051, 'data_time': 0.0, 'lr': 0.001, 'loss': 0.208}\n",
            "INFO:Trainer:{'type': 'train', 'epoch': 4, 'batch': 780, 'n_batches': 1723, 'time': 0.048, 'data_time': 0.0, 'lr': 0.001, 'loss': 0.14}\n",
            "INFO:Trainer:{'type': 'train', 'epoch': 4, 'batch': 790, 'n_batches': 1723, 'time': 0.049, 'data_time': 0.0, 'lr': 0.001, 'loss': 2.467}\n",
            "INFO:Trainer:{'type': 'train', 'epoch': 4, 'batch': 800, 'n_batches': 1723, 'time': 0.049, 'data_time': 0.0, 'lr': 0.001, 'loss': 0.167}\n",
            "INFO:Trainer:{'type': 'train', 'epoch': 4, 'batch': 810, 'n_batches': 1723, 'time': 0.048, 'data_time': 0.0, 'lr': 0.001, 'loss': 0.758}\n",
            "INFO:Trainer:{'type': 'train', 'epoch': 4, 'batch': 820, 'n_batches': 1723, 'time': 0.048, 'data_time': 0.0, 'lr': 0.001, 'loss': 2.252}\n",
            "INFO:Trainer:{'type': 'train', 'epoch': 4, 'batch': 830, 'n_batches': 1723, 'time': 0.048, 'data_time': 0.0, 'lr': 0.001, 'loss': 0.869}\n",
            "INFO:Trainer:{'type': 'train', 'epoch': 4, 'batch': 840, 'n_batches': 1723, 'time': 0.048, 'data_time': 0.0, 'lr': 0.001, 'loss': 1.695}\n",
            "INFO:Trainer:{'type': 'train', 'epoch': 4, 'batch': 850, 'n_batches': 1723, 'time': 0.048, 'data_time': 0.0, 'lr': 0.001, 'loss': 1.391}\n",
            "INFO:Trainer:{'type': 'train', 'epoch': 4, 'batch': 860, 'n_batches': 1723, 'time': 0.048, 'data_time': 0.0, 'lr': 0.001, 'loss': 0.496}\n",
            "INFO:Trainer:{'type': 'train', 'epoch': 4, 'batch': 870, 'n_batches': 1723, 'time': 0.049, 'data_time': 0.0, 'lr': 0.001, 'loss': 1.828}\n",
            "INFO:Trainer:{'type': 'train', 'epoch': 4, 'batch': 880, 'n_batches': 1723, 'time': 0.048, 'data_time': 0.0, 'lr': 0.001, 'loss': 0.936}\n",
            "INFO:Trainer:{'type': 'train', 'epoch': 4, 'batch': 890, 'n_batches': 1723, 'time': 0.048, 'data_time': 0.0, 'lr': 0.001, 'loss': 1.0}\n",
            "INFO:Trainer:{'type': 'train', 'epoch': 4, 'batch': 900, 'n_batches': 1723, 'time': 0.048, 'data_time': 0.0, 'lr': 0.001, 'loss': 0.786}\n",
            "INFO:Trainer:{'type': 'train', 'epoch': 4, 'batch': 910, 'n_batches': 1723, 'time': 0.048, 'data_time': 0.0, 'lr': 0.001, 'loss': 0.402}\n",
            "INFO:Trainer:{'type': 'train', 'epoch': 4, 'batch': 920, 'n_batches': 1723, 'time': 0.048, 'data_time': 0.0, 'lr': 0.001, 'loss': 0.207}\n",
            "INFO:Trainer:{'type': 'train', 'epoch': 4, 'batch': 930, 'n_batches': 1723, 'time': 0.048, 'data_time': 0.0, 'lr': 0.001, 'loss': 2.235}\n",
            "INFO:Trainer:{'type': 'train', 'epoch': 4, 'batch': 940, 'n_batches': 1723, 'time': 0.049, 'data_time': 0.0, 'lr': 0.001, 'loss': 0.226}\n",
            "INFO:Trainer:{'type': 'train', 'epoch': 4, 'batch': 950, 'n_batches': 1723, 'time': 0.049, 'data_time': 0.0, 'lr': 0.001, 'loss': 1.335}\n",
            "INFO:Trainer:{'type': 'train', 'epoch': 4, 'batch': 960, 'n_batches': 1723, 'time': 0.048, 'data_time': 0.0, 'lr': 0.001, 'loss': 0.119}\n",
            "INFO:Trainer:{'type': 'train', 'epoch': 4, 'batch': 970, 'n_batches': 1723, 'time': 0.047, 'data_time': 0.0, 'lr': 0.001, 'loss': 0.434}\n",
            "INFO:Trainer:{'type': 'train', 'epoch': 4, 'batch': 980, 'n_batches': 1723, 'time': 0.047, 'data_time': 0.0, 'lr': 0.001, 'loss': 0.943}\n",
            "INFO:Trainer:{'type': 'train', 'epoch': 4, 'batch': 990, 'n_batches': 1723, 'time': 0.048, 'data_time': 0.0, 'lr': 0.001, 'loss': 2.209}\n",
            "INFO:Trainer:{'type': 'train', 'epoch': 4, 'batch': 1000, 'n_batches': 1723, 'time': 0.048, 'data_time': 0.0, 'lr': 0.001, 'loss': 1.171}\n",
            "INFO:Trainer:{'type': 'train', 'epoch': 4, 'batch': 1010, 'n_batches': 1723, 'time': 0.048, 'data_time': 0.0, 'lr': 0.001, 'loss': 1.254}\n",
            "INFO:Trainer:{'type': 'train', 'epoch': 4, 'batch': 1020, 'n_batches': 1723, 'time': 0.048, 'data_time': 0.0, 'lr': 0.001, 'loss': 0.425}\n",
            "INFO:Trainer:{'type': 'train', 'epoch': 4, 'batch': 1030, 'n_batches': 1723, 'time': 0.05, 'data_time': 0.0, 'lr': 0.001, 'loss': 0.262}\n",
            "INFO:Trainer:{'type': 'train', 'epoch': 4, 'batch': 1040, 'n_batches': 1723, 'time': 0.047, 'data_time': 0.0, 'lr': 0.001, 'loss': 0.779}\n",
            "INFO:Trainer:{'type': 'train', 'epoch': 4, 'batch': 1050, 'n_batches': 1723, 'time': 0.047, 'data_time': 0.0, 'lr': 0.001, 'loss': 0.382}\n",
            "INFO:Trainer:{'type': 'train', 'epoch': 4, 'batch': 1060, 'n_batches': 1723, 'time': 0.048, 'data_time': 0.0, 'lr': 0.001, 'loss': 0.298}\n",
            "INFO:Trainer:{'type': 'train', 'epoch': 4, 'batch': 1070, 'n_batches': 1723, 'time': 0.054, 'data_time': 0.0, 'lr': 0.001, 'loss': 2.592}\n",
            "INFO:Trainer:{'type': 'train', 'epoch': 4, 'batch': 1080, 'n_batches': 1723, 'time': 0.048, 'data_time': 0.0, 'lr': 0.001, 'loss': 0.666}\n",
            "INFO:Trainer:{'type': 'train', 'epoch': 4, 'batch': 1090, 'n_batches': 1723, 'time': 0.054, 'data_time': 0.0, 'lr': 0.001, 'loss': 0.772}\n",
            "INFO:Trainer:{'type': 'train', 'epoch': 4, 'batch': 1100, 'n_batches': 1723, 'time': 0.047, 'data_time': 0.0, 'lr': 0.001, 'loss': 1.696}\n",
            "INFO:Trainer:{'type': 'train', 'epoch': 4, 'batch': 1110, 'n_batches': 1723, 'time': 0.054, 'data_time': 0.0, 'lr': 0.001, 'loss': 1.22}\n",
            "INFO:Trainer:{'type': 'train', 'epoch': 4, 'batch': 1120, 'n_batches': 1723, 'time': 0.048, 'data_time': 0.0, 'lr': 0.001, 'loss': 0.163}\n",
            "INFO:Trainer:{'type': 'train', 'epoch': 4, 'batch': 1130, 'n_batches': 1723, 'time': 0.05, 'data_time': 0.0, 'lr': 0.001, 'loss': 2.214}\n",
            "INFO:Trainer:{'type': 'train', 'epoch': 4, 'batch': 1140, 'n_batches': 1723, 'time': 0.048, 'data_time': 0.0, 'lr': 0.001, 'loss': 0.332}\n",
            "INFO:Trainer:{'type': 'train', 'epoch': 4, 'batch': 1150, 'n_batches': 1723, 'time': 0.049, 'data_time': 0.0, 'lr': 0.001, 'loss': 0.314}\n",
            "INFO:Trainer:{'type': 'train', 'epoch': 4, 'batch': 1160, 'n_batches': 1723, 'time': 0.048, 'data_time': 0.0, 'lr': 0.001, 'loss': 0.424}\n",
            "INFO:Trainer:{'type': 'train', 'epoch': 4, 'batch': 1170, 'n_batches': 1723, 'time': 0.048, 'data_time': 0.0, 'lr': 0.001, 'loss': 2.142}\n",
            "INFO:Trainer:{'type': 'train', 'epoch': 4, 'batch': 1180, 'n_batches': 1723, 'time': 0.055, 'data_time': 0.0, 'lr': 0.001, 'loss': 1.828}\n",
            "INFO:Trainer:{'type': 'train', 'epoch': 4, 'batch': 1190, 'n_batches': 1723, 'time': 0.048, 'data_time': 0.0, 'lr': 0.001, 'loss': 0.227}\n",
            "INFO:Trainer:{'type': 'train', 'epoch': 4, 'batch': 1200, 'n_batches': 1723, 'time': 0.048, 'data_time': 0.0, 'lr': 0.001, 'loss': 1.732}\n",
            "INFO:Trainer:{'type': 'train', 'epoch': 4, 'batch': 1210, 'n_batches': 1723, 'time': 0.05, 'data_time': 0.0, 'lr': 0.001, 'loss': 0.238}\n",
            "INFO:Trainer:{'type': 'train', 'epoch': 4, 'batch': 1220, 'n_batches': 1723, 'time': 0.048, 'data_time': 0.0, 'lr': 0.001, 'loss': 1.854}\n",
            "INFO:Trainer:{'type': 'train', 'epoch': 4, 'batch': 1230, 'n_batches': 1723, 'time': 0.048, 'data_time': 0.0, 'lr': 0.001, 'loss': 0.742}\n",
            "INFO:Trainer:{'type': 'train', 'epoch': 4, 'batch': 1240, 'n_batches': 1723, 'time': 0.048, 'data_time': 0.0, 'lr': 0.001, 'loss': 0.455}\n",
            "INFO:Trainer:{'type': 'train', 'epoch': 4, 'batch': 1250, 'n_batches': 1723, 'time': 0.048, 'data_time': 0.0, 'lr': 0.001, 'loss': 0.404}\n",
            "INFO:Trainer:{'type': 'train', 'epoch': 4, 'batch': 1260, 'n_batches': 1723, 'time': 0.051, 'data_time': 0.0, 'lr': 0.001, 'loss': 1.353}\n",
            "INFO:Trainer:{'type': 'train', 'epoch': 4, 'batch': 1270, 'n_batches': 1723, 'time': 0.048, 'data_time': 0.0, 'lr': 0.001, 'loss': 0.368}\n",
            "INFO:Trainer:{'type': 'train', 'epoch': 4, 'batch': 1280, 'n_batches': 1723, 'time': 0.048, 'data_time': 0.0, 'lr': 0.001, 'loss': 1.007}\n",
            "INFO:Trainer:{'type': 'train', 'epoch': 4, 'batch': 1290, 'n_batches': 1723, 'time': 0.048, 'data_time': 0.0, 'lr': 0.001, 'loss': 0.109}\n",
            "INFO:Trainer:{'type': 'train', 'epoch': 4, 'batch': 1300, 'n_batches': 1723, 'time': 0.048, 'data_time': 0.0, 'lr': 0.001, 'loss': 0.584}\n",
            "INFO:Trainer:{'type': 'train', 'epoch': 4, 'batch': 1310, 'n_batches': 1723, 'time': 0.048, 'data_time': 0.0, 'lr': 0.001, 'loss': 0.38}\n",
            "INFO:Trainer:{'type': 'train', 'epoch': 4, 'batch': 1320, 'n_batches': 1723, 'time': 0.048, 'data_time': 0.0, 'lr': 0.001, 'loss': 0.359}\n",
            "INFO:Trainer:{'type': 'train', 'epoch': 4, 'batch': 1330, 'n_batches': 1723, 'time': 0.048, 'data_time': 0.0, 'lr': 0.001, 'loss': 0.29}\n",
            "INFO:Trainer:{'type': 'train', 'epoch': 4, 'batch': 1340, 'n_batches': 1723, 'time': 0.047, 'data_time': 0.0, 'lr': 0.001, 'loss': 1.597}\n",
            "INFO:Trainer:{'type': 'train', 'epoch': 4, 'batch': 1350, 'n_batches': 1723, 'time': 0.046, 'data_time': 0.0, 'lr': 0.001, 'loss': 10.239}\n",
            "INFO:Trainer:{'type': 'train', 'epoch': 4, 'batch': 1360, 'n_batches': 1723, 'time': 0.047, 'data_time': 0.0, 'lr': 0.001, 'loss': 0.163}\n",
            "INFO:Trainer:{'type': 'train', 'epoch': 4, 'batch': 1370, 'n_batches': 1723, 'time': 0.046, 'data_time': 0.0, 'lr': 0.001, 'loss': 2.09}\n",
            "INFO:Trainer:{'type': 'train', 'epoch': 4, 'batch': 1380, 'n_batches': 1723, 'time': 0.047, 'data_time': 0.0, 'lr': 0.001, 'loss': 3.055}\n",
            "INFO:Trainer:{'type': 'train', 'epoch': 4, 'batch': 1390, 'n_batches': 1723, 'time': 0.048, 'data_time': 0.0, 'lr': 0.001, 'loss': 0.486}\n",
            "INFO:Trainer:{'type': 'train', 'epoch': 4, 'batch': 1400, 'n_batches': 1723, 'time': 0.048, 'data_time': 0.0, 'lr': 0.001, 'loss': 0.94}\n",
            "INFO:Trainer:{'type': 'train', 'epoch': 4, 'batch': 1410, 'n_batches': 1723, 'time': 0.047, 'data_time': 0.0, 'lr': 0.001, 'loss': 0.28}\n",
            "INFO:Trainer:{'type': 'train', 'epoch': 4, 'batch': 1420, 'n_batches': 1723, 'time': 0.047, 'data_time': 0.0, 'lr': 0.001, 'loss': 1.589}\n",
            "INFO:Trainer:{'type': 'train', 'epoch': 4, 'batch': 1430, 'n_batches': 1723, 'time': 0.048, 'data_time': 0.0, 'lr': 0.001, 'loss': 0.254}\n",
            "INFO:Trainer:{'type': 'train', 'epoch': 4, 'batch': 1440, 'n_batches': 1723, 'time': 0.048, 'data_time': 0.0, 'lr': 0.001, 'loss': 1.0}\n",
            "INFO:Trainer:{'type': 'train', 'epoch': 4, 'batch': 1450, 'n_batches': 1723, 'time': 0.048, 'data_time': 0.0, 'lr': 0.001, 'loss': 0.605}\n",
            "INFO:Trainer:{'type': 'train', 'epoch': 4, 'batch': 1460, 'n_batches': 1723, 'time': 0.049, 'data_time': 0.0, 'lr': 0.001, 'loss': 0.925}\n",
            "INFO:Trainer:{'type': 'train', 'epoch': 4, 'batch': 1470, 'n_batches': 1723, 'time': 0.049, 'data_time': 0.0, 'lr': 0.001, 'loss': 0.296}\n",
            "INFO:Trainer:{'type': 'train', 'epoch': 4, 'batch': 1480, 'n_batches': 1723, 'time': 0.047, 'data_time': 0.0, 'lr': 0.001, 'loss': 0.641}\n",
            "INFO:Trainer:{'type': 'train', 'epoch': 4, 'batch': 1490, 'n_batches': 1723, 'time': 0.048, 'data_time': 0.0, 'lr': 0.001, 'loss': 0.776}\n",
            "INFO:Trainer:{'type': 'train', 'epoch': 4, 'batch': 1500, 'n_batches': 1723, 'time': 0.048, 'data_time': 0.0, 'lr': 0.001, 'loss': 0.951}\n",
            "INFO:Trainer:{'type': 'train', 'epoch': 4, 'batch': 1510, 'n_batches': 1723, 'time': 0.047, 'data_time': 0.0, 'lr': 0.001, 'loss': 0.536}\n",
            "INFO:Trainer:{'type': 'train', 'epoch': 4, 'batch': 1520, 'n_batches': 1723, 'time': 0.048, 'data_time': 0.0, 'lr': 0.001, 'loss': 0.162}\n",
            "INFO:Trainer:{'type': 'train', 'epoch': 4, 'batch': 1530, 'n_batches': 1723, 'time': 0.048, 'data_time': 0.0, 'lr': 0.001, 'loss': 0.373}\n",
            "INFO:Trainer:{'type': 'train', 'epoch': 4, 'batch': 1540, 'n_batches': 1723, 'time': 0.047, 'data_time': 0.0, 'lr': 0.001, 'loss': 1.227}\n",
            "INFO:Trainer:{'type': 'train', 'epoch': 4, 'batch': 1550, 'n_batches': 1723, 'time': 0.047, 'data_time': 0.0, 'lr': 0.001, 'loss': 0.23}\n",
            "INFO:Trainer:{'type': 'train', 'epoch': 4, 'batch': 1560, 'n_batches': 1723, 'time': 0.048, 'data_time': 0.0, 'lr': 0.001, 'loss': 1.485}\n",
            "INFO:Trainer:{'type': 'train', 'epoch': 4, 'batch': 1570, 'n_batches': 1723, 'time': 0.048, 'data_time': 0.0, 'lr': 0.001, 'loss': 0.484}\n",
            "INFO:Trainer:{'type': 'train', 'epoch': 4, 'batch': 1580, 'n_batches': 1723, 'time': 0.048, 'data_time': 0.0, 'lr': 0.001, 'loss': 2.017}\n",
            "INFO:Trainer:{'type': 'train', 'epoch': 4, 'batch': 1590, 'n_batches': 1723, 'time': 0.048, 'data_time': 0.0, 'lr': 0.001, 'loss': 1.912}\n",
            "INFO:Trainer:{'type': 'train', 'epoch': 4, 'batch': 1600, 'n_batches': 1723, 'time': 0.047, 'data_time': 0.0, 'lr': 0.001, 'loss': 0.625}\n",
            "INFO:Trainer:{'type': 'train', 'epoch': 4, 'batch': 1610, 'n_batches': 1723, 'time': 0.049, 'data_time': 0.0, 'lr': 0.001, 'loss': 0.756}\n",
            "INFO:Trainer:{'type': 'train', 'epoch': 4, 'batch': 1620, 'n_batches': 1723, 'time': 0.049, 'data_time': 0.0, 'lr': 0.001, 'loss': 0.372}\n",
            "INFO:Trainer:{'type': 'train', 'epoch': 4, 'batch': 1630, 'n_batches': 1723, 'time': 0.049, 'data_time': 0.0, 'lr': 0.001, 'loss': 0.378}\n",
            "INFO:Trainer:{'type': 'train', 'epoch': 4, 'batch': 1640, 'n_batches': 1723, 'time': 0.047, 'data_time': 0.0, 'lr': 0.001, 'loss': 0.32}\n",
            "INFO:Trainer:{'type': 'train', 'epoch': 4, 'batch': 1650, 'n_batches': 1723, 'time': 0.047, 'data_time': 0.0, 'lr': 0.001, 'loss': 0.578}\n",
            "INFO:Trainer:{'type': 'train', 'epoch': 4, 'batch': 1660, 'n_batches': 1723, 'time': 0.047, 'data_time': 0.0, 'lr': 0.001, 'loss': 0.524}\n",
            "INFO:Trainer:{'type': 'train', 'epoch': 4, 'batch': 1670, 'n_batches': 1723, 'time': 0.048, 'data_time': 0.0, 'lr': 0.001, 'loss': 0.961}\n",
            "INFO:Trainer:{'type': 'train', 'epoch': 4, 'batch': 1680, 'n_batches': 1723, 'time': 0.048, 'data_time': 0.0, 'lr': 0.001, 'loss': 2.35}\n",
            "INFO:Trainer:{'type': 'train', 'epoch': 4, 'batch': 1690, 'n_batches': 1723, 'time': 0.047, 'data_time': 0.0, 'lr': 0.001, 'loss': 1.129}\n",
            "INFO:Trainer:{'type': 'train', 'epoch': 4, 'batch': 1700, 'n_batches': 1723, 'time': 0.049, 'data_time': 0.0, 'lr': 0.001, 'loss': 0.619}\n",
            "INFO:Trainer:{'type': 'train', 'epoch': 4, 'batch': 1710, 'n_batches': 1723, 'time': 0.048, 'data_time': 0.0, 'lr': 0.001, 'loss': 1.924}\n",
            "INFO:Trainer:{'type': 'train', 'epoch': 4, 'batch': 1720, 'n_batches': 1723, 'time': 0.054, 'data_time': 0.0, 'lr': 0.001, 'loss': 0.248}\n",
            "INFO:Trainer:{'type': 'train-epoch', 'epoch': 5, 'loss': 0.907, 'time': 88.8}\n",
            "INFO:Trainer:{'type': 'val-epoch', 'epoch': 5, 'loss': 0.853, 'time': 10.5}\n"
          ],
          "name": "stdout"
        }
      ]
    },
    {
      "cell_type": "markdown",
      "metadata": {
        "id": "3MiRcZIg1dvP",
        "colab_type": "text"
      },
      "source": [
        "# **Evaluating Models**"
      ]
    },
    {
      "cell_type": "code",
      "metadata": {
        "id": "PUvVi3NXz98K",
        "colab_type": "code",
        "colab": {
          "base_uri": "https://localhost:8080/",
          "height": 119
        },
        "outputId": "4f4107c9-7bc3-49d5-d690-9b178a028d68"
      },
      "source": [
        "!python -m evaluator.trajnet_evaluator --data synth_data --output OUTPUT_BLOCK/synth_data/vanilla.pkl.epoch5"
      ],
      "execution_count": 54,
      "outputs": [
        {
          "output_type": "stream",
          "text": [
            "processing orca_circle_crossing_10ped.ndjson\n",
            "Model Name:  vanilla.epoch5\n",
            "LSTM\n",
            "\n",
            "vanilla.epoch5\n",
            "\n"
          ],
          "name": "stdout"
        }
      ]
    },
    {
      "cell_type": "markdown",
      "metadata": {
        "id": "1EykxPh44ggb",
        "colab_type": "text"
      },
      "source": [
        "![results](https://doc-10-2o-docs.googleusercontent.com/docs/securesc/5frg0m047puf07cj58k23jsppbdquc73/l19sb0ogn0m769o87sejk054k8qeg7fn/1591190175000/02444475918307263250/01168628881383650119/1R1CTVYWondDt9nDuS3yAWK3QSpbnwBjF?authuser=0)"
      ]
    },
    {
      "cell_type": "code",
      "metadata": {
        "id": "TVX-IAcS3zkh",
        "colab_type": "code",
        "colab": {}
      },
      "source": [
        ""
      ],
      "execution_count": 0,
      "outputs": []
    }
  ]
}